{
 "cells": [
  {
   "cell_type": "code",
   "execution_count": 25,
   "metadata": {},
   "outputs": [],
   "source": [
    "import pandas as pd\n",
    "import json\n",
    "import numpy as np"
   ]
  },
  {
   "cell_type": "code",
   "execution_count": 2,
   "metadata": {},
   "outputs": [],
   "source": [
    "with open(\"../data/outputs/language_lookup.json\") as json_file:\n",
    "    language_lookup = json.load(json_file)"
   ]
  },
  {
   "cell_type": "code",
   "execution_count": 3,
   "metadata": {},
   "outputs": [],
   "source": [
    "rename_lang = {'nld':'du', 'ekk': 'et', 'eng':'en', 'fin': 'fi', 'deu': 'de', 'ell':'gr', 'heb':'he',\n",
    " 'ita':'it', 'nor':'no', 'rus':'ru', 'spa':'es', 'tur':'tr'}"
   ]
  },
  {
   "cell_type": "code",
   "execution_count": 4,
   "metadata": {},
   "outputs": [],
   "source": [
    "df_cosine_sim = pd.read_csv(r\"../data/outputs/linguistic_similarities.csv\").rename(columns = rename_lang)\n",
    "df_cosine_sim[\"lang\"] = df_cosine_sim['Unnamed: 0'].replace(rename_lang).values"
   ]
  },
  {
   "cell_type": "code",
   "execution_count": 5,
   "metadata": {},
   "outputs": [
    {
     "data": {
      "text/html": [
       "<div>\n",
       "<style scoped>\n",
       "    .dataframe tbody tr th:only-of-type {\n",
       "        vertical-align: middle;\n",
       "    }\n",
       "\n",
       "    .dataframe tbody tr th {\n",
       "        vertical-align: top;\n",
       "    }\n",
       "\n",
       "    .dataframe thead th {\n",
       "        text-align: right;\n",
       "    }\n",
       "</style>\n",
       "<table border=\"1\" class=\"dataframe\">\n",
       "  <thead>\n",
       "    <tr style=\"text-align: right;\">\n",
       "      <th></th>\n",
       "      <th>Unnamed: 0</th>\n",
       "      <th>du</th>\n",
       "      <th>en</th>\n",
       "      <th>et</th>\n",
       "      <th>fi</th>\n",
       "      <th>de</th>\n",
       "      <th>gr</th>\n",
       "      <th>he</th>\n",
       "      <th>it</th>\n",
       "      <th>no</th>\n",
       "      <th>ru</th>\n",
       "      <th>es</th>\n",
       "      <th>tr</th>\n",
       "      <th>lang</th>\n",
       "    </tr>\n",
       "  </thead>\n",
       "  <tbody>\n",
       "    <tr>\n",
       "      <th>0</th>\n",
       "      <td>nld</td>\n",
       "      <td>1.000000</td>\n",
       "      <td>0.837914</td>\n",
       "      <td>0.778454</td>\n",
       "      <td>0.682242</td>\n",
       "      <td>0.915209</td>\n",
       "      <td>0.735120</td>\n",
       "      <td>0.663798</td>\n",
       "      <td>0.779484</td>\n",
       "      <td>0.870930</td>\n",
       "      <td>0.814277</td>\n",
       "      <td>0.736906</td>\n",
       "      <td>0.461880</td>\n",
       "      <td>du</td>\n",
       "    </tr>\n",
       "    <tr>\n",
       "      <th>1</th>\n",
       "      <td>eng</td>\n",
       "      <td>0.837914</td>\n",
       "      <td>1.000000</td>\n",
       "      <td>0.774955</td>\n",
       "      <td>0.677118</td>\n",
       "      <td>0.821643</td>\n",
       "      <td>0.732275</td>\n",
       "      <td>0.647440</td>\n",
       "      <td>0.750585</td>\n",
       "      <td>0.855193</td>\n",
       "      <td>0.783389</td>\n",
       "      <td>0.733594</td>\n",
       "      <td>0.424274</td>\n",
       "      <td>en</td>\n",
       "    </tr>\n",
       "    <tr>\n",
       "      <th>2</th>\n",
       "      <td>ekk</td>\n",
       "      <td>0.778454</td>\n",
       "      <td>0.774955</td>\n",
       "      <td>1.000000</td>\n",
       "      <td>0.844653</td>\n",
       "      <td>0.790599</td>\n",
       "      <td>0.766416</td>\n",
       "      <td>0.692057</td>\n",
       "      <td>0.758490</td>\n",
       "      <td>0.865444</td>\n",
       "      <td>0.848943</td>\n",
       "      <td>0.740839</td>\n",
       "      <td>0.526688</td>\n",
       "      <td>et</td>\n",
       "    </tr>\n",
       "    <tr>\n",
       "      <th>3</th>\n",
       "      <td>fin</td>\n",
       "      <td>0.682242</td>\n",
       "      <td>0.677118</td>\n",
       "      <td>0.844653</td>\n",
       "      <td>1.000000</td>\n",
       "      <td>0.696868</td>\n",
       "      <td>0.716085</td>\n",
       "      <td>0.654206</td>\n",
       "      <td>0.664746</td>\n",
       "      <td>0.768843</td>\n",
       "      <td>0.809174</td>\n",
       "      <td>0.673324</td>\n",
       "      <td>0.569298</td>\n",
       "      <td>fi</td>\n",
       "    </tr>\n",
       "    <tr>\n",
       "      <th>4</th>\n",
       "      <td>deu</td>\n",
       "      <td>0.915209</td>\n",
       "      <td>0.821643</td>\n",
       "      <td>0.790599</td>\n",
       "      <td>0.696868</td>\n",
       "      <td>1.000000</td>\n",
       "      <td>0.745701</td>\n",
       "      <td>0.663189</td>\n",
       "      <td>0.764347</td>\n",
       "      <td>0.880705</td>\n",
       "      <td>0.825531</td>\n",
       "      <td>0.722596</td>\n",
       "      <td>0.481218</td>\n",
       "      <td>de</td>\n",
       "    </tr>\n",
       "    <tr>\n",
       "      <th>5</th>\n",
       "      <td>ell</td>\n",
       "      <td>0.735120</td>\n",
       "      <td>0.732275</td>\n",
       "      <td>0.766416</td>\n",
       "      <td>0.716085</td>\n",
       "      <td>0.745701</td>\n",
       "      <td>1.000000</td>\n",
       "      <td>0.702431</td>\n",
       "      <td>0.802714</td>\n",
       "      <td>0.776151</td>\n",
       "      <td>0.813399</td>\n",
       "      <td>0.800563</td>\n",
       "      <td>0.507660</td>\n",
       "      <td>gr</td>\n",
       "    </tr>\n",
       "    <tr>\n",
       "      <th>6</th>\n",
       "      <td>heb</td>\n",
       "      <td>0.663798</td>\n",
       "      <td>0.647440</td>\n",
       "      <td>0.692057</td>\n",
       "      <td>0.654206</td>\n",
       "      <td>0.663189</td>\n",
       "      <td>0.702431</td>\n",
       "      <td>1.000000</td>\n",
       "      <td>0.707791</td>\n",
       "      <td>0.703051</td>\n",
       "      <td>0.713024</td>\n",
       "      <td>0.692203</td>\n",
       "      <td>0.433861</td>\n",
       "      <td>he</td>\n",
       "    </tr>\n",
       "    <tr>\n",
       "      <th>7</th>\n",
       "      <td>ita</td>\n",
       "      <td>0.779484</td>\n",
       "      <td>0.750585</td>\n",
       "      <td>0.758490</td>\n",
       "      <td>0.664746</td>\n",
       "      <td>0.764347</td>\n",
       "      <td>0.802714</td>\n",
       "      <td>0.707791</td>\n",
       "      <td>1.000000</td>\n",
       "      <td>0.769039</td>\n",
       "      <td>0.793395</td>\n",
       "      <td>0.897510</td>\n",
       "      <td>0.478162</td>\n",
       "      <td>it</td>\n",
       "    </tr>\n",
       "    <tr>\n",
       "      <th>8</th>\n",
       "      <td>nor</td>\n",
       "      <td>0.870930</td>\n",
       "      <td>0.855193</td>\n",
       "      <td>0.865444</td>\n",
       "      <td>0.768843</td>\n",
       "      <td>0.880705</td>\n",
       "      <td>0.776151</td>\n",
       "      <td>0.703051</td>\n",
       "      <td>0.769039</td>\n",
       "      <td>1.000000</td>\n",
       "      <td>0.859240</td>\n",
       "      <td>0.752101</td>\n",
       "      <td>0.486136</td>\n",
       "      <td>no</td>\n",
       "    </tr>\n",
       "    <tr>\n",
       "      <th>9</th>\n",
       "      <td>rus</td>\n",
       "      <td>0.814277</td>\n",
       "      <td>0.783389</td>\n",
       "      <td>0.848943</td>\n",
       "      <td>0.809174</td>\n",
       "      <td>0.825531</td>\n",
       "      <td>0.813399</td>\n",
       "      <td>0.713024</td>\n",
       "      <td>0.793395</td>\n",
       "      <td>0.859240</td>\n",
       "      <td>1.000000</td>\n",
       "      <td>0.776391</td>\n",
       "      <td>0.507972</td>\n",
       "      <td>ru</td>\n",
       "    </tr>\n",
       "    <tr>\n",
       "      <th>10</th>\n",
       "      <td>spa</td>\n",
       "      <td>0.736906</td>\n",
       "      <td>0.733594</td>\n",
       "      <td>0.740839</td>\n",
       "      <td>0.673324</td>\n",
       "      <td>0.722596</td>\n",
       "      <td>0.800563</td>\n",
       "      <td>0.692203</td>\n",
       "      <td>0.897510</td>\n",
       "      <td>0.752101</td>\n",
       "      <td>0.776391</td>\n",
       "      <td>1.000000</td>\n",
       "      <td>0.441597</td>\n",
       "      <td>es</td>\n",
       "    </tr>\n",
       "    <tr>\n",
       "      <th>11</th>\n",
       "      <td>tur</td>\n",
       "      <td>0.461880</td>\n",
       "      <td>0.424274</td>\n",
       "      <td>0.526688</td>\n",
       "      <td>0.569298</td>\n",
       "      <td>0.481218</td>\n",
       "      <td>0.507660</td>\n",
       "      <td>0.433861</td>\n",
       "      <td>0.478162</td>\n",
       "      <td>0.486136</td>\n",
       "      <td>0.507972</td>\n",
       "      <td>0.441597</td>\n",
       "      <td>1.000000</td>\n",
       "      <td>tr</td>\n",
       "    </tr>\n",
       "  </tbody>\n",
       "</table>\n",
       "</div>"
      ],
      "text/plain": [
       "   Unnamed: 0        du        en        et        fi        de        gr  \\\n",
       "0         nld  1.000000  0.837914  0.778454  0.682242  0.915209  0.735120   \n",
       "1         eng  0.837914  1.000000  0.774955  0.677118  0.821643  0.732275   \n",
       "2         ekk  0.778454  0.774955  1.000000  0.844653  0.790599  0.766416   \n",
       "3         fin  0.682242  0.677118  0.844653  1.000000  0.696868  0.716085   \n",
       "4         deu  0.915209  0.821643  0.790599  0.696868  1.000000  0.745701   \n",
       "5         ell  0.735120  0.732275  0.766416  0.716085  0.745701  1.000000   \n",
       "6         heb  0.663798  0.647440  0.692057  0.654206  0.663189  0.702431   \n",
       "7         ita  0.779484  0.750585  0.758490  0.664746  0.764347  0.802714   \n",
       "8         nor  0.870930  0.855193  0.865444  0.768843  0.880705  0.776151   \n",
       "9         rus  0.814277  0.783389  0.848943  0.809174  0.825531  0.813399   \n",
       "10        spa  0.736906  0.733594  0.740839  0.673324  0.722596  0.800563   \n",
       "11        tur  0.461880  0.424274  0.526688  0.569298  0.481218  0.507660   \n",
       "\n",
       "          he        it        no        ru        es        tr lang  \n",
       "0   0.663798  0.779484  0.870930  0.814277  0.736906  0.461880   du  \n",
       "1   0.647440  0.750585  0.855193  0.783389  0.733594  0.424274   en  \n",
       "2   0.692057  0.758490  0.865444  0.848943  0.740839  0.526688   et  \n",
       "3   0.654206  0.664746  0.768843  0.809174  0.673324  0.569298   fi  \n",
       "4   0.663189  0.764347  0.880705  0.825531  0.722596  0.481218   de  \n",
       "5   0.702431  0.802714  0.776151  0.813399  0.800563  0.507660   gr  \n",
       "6   1.000000  0.707791  0.703051  0.713024  0.692203  0.433861   he  \n",
       "7   0.707791  1.000000  0.769039  0.793395  0.897510  0.478162   it  \n",
       "8   0.703051  0.769039  1.000000  0.859240  0.752101  0.486136   no  \n",
       "9   0.713024  0.793395  0.859240  1.000000  0.776391  0.507972   ru  \n",
       "10  0.692203  0.897510  0.752101  0.776391  1.000000  0.441597   es  \n",
       "11  0.433861  0.478162  0.486136  0.507972  0.441597  1.000000   tr  "
      ]
     },
     "execution_count": 5,
     "metadata": {},
     "output_type": "execute_result"
    }
   ],
   "source": [
    "df_cosine_sim"
   ]
  },
  {
   "cell_type": "code",
   "execution_count": 6,
   "metadata": {},
   "outputs": [],
   "source": [
    "# lang_values = []\n",
    "# lang_pairs = []\n",
    "# for key1 in language_lookup.keys():\n",
    "#     for key2 in language_lookup.keys():\n",
    "#         #print((key1, key2))\n",
    "#         val1 = float(df_cosine_sim[df_cosine_sim['lang'] == key1][key2])\n",
    "#         #cosine_sim[f'{key1}_{key2}'] =  val1\n",
    "#         lang_values.append(val1)\n",
    "#         lang_pairs.append(f'{key1}_{key2}')  \n",
    " "
   ]
  },
  {
   "cell_type": "code",
   "execution_count": 7,
   "metadata": {},
   "outputs": [],
   "source": [
    "lang_values = []\n",
    "lang_pairs = []\n",
    "for key1 in language_lookup.keys():\n",
    "    for key2 in language_lookup.keys():\n",
    "        if (f'{key1}_{key2}' not in lang_pairs) and (f'{key2}_{key1}' not in lang_pairs):\n",
    "            val1 = float(df_cosine_sim[df_cosine_sim['lang'] == key1][key2])\n",
    "            lang_values.append(val1)\n",
    "            lang_pairs.append(f'{key1}_{key2}')  "
   ]
  },
  {
   "cell_type": "code",
   "execution_count": 8,
   "metadata": {},
   "outputs": [],
   "source": [
    "df_cosine_similarity = pd.DataFrame({'pair': lang_pairs, 'cosine_val': lang_values})"
   ]
  },
  {
   "cell_type": "code",
   "execution_count": 9,
   "metadata": {},
   "outputs": [],
   "source": [
    "# with open(\"../data/outputs/cosine_similarity.json\", \"w\") as outfile:\n",
    "#     json.dump(cosine_sim, outfile)"
   ]
  },
  {
   "cell_type": "code",
   "execution_count": 10,
   "metadata": {},
   "outputs": [],
   "source": [
    "df_logreg_similarity = pd.read_csv(\"../data/outputs/logreg_similarity_SC_IC_uni_new.csv\")"
   ]
  },
  {
   "cell_type": "code",
   "execution_count": 12,
   "metadata": {},
   "outputs": [],
   "source": [
    "df_similarities = df_cosine_similarity.merge(df_logreg_similarity, on = 'pair', how = 'left')"
   ]
  },
  {
   "cell_type": "code",
   "execution_count": 13,
   "metadata": {},
   "outputs": [],
   "source": [
    "df_similarities_ = df_similarities.dropna().reset_index()"
   ]
  },
  {
   "cell_type": "code",
   "execution_count": 49,
   "metadata": {},
   "outputs": [
    {
     "data": {
      "text/plain": [
       "array([[1.        , 0.05871075],\n",
       "       [0.05871075, 1.        ]])"
      ]
     },
     "execution_count": 49,
     "metadata": {},
     "output_type": "execute_result"
    }
   ],
   "source": [
    "df_corr = df_similarities_\n",
    "df_corr[\"flag\"] = df_corr.pair.apply(lambda x: False if x[:2] == x[-2:] else True)\n",
    "df_corr = df_corr[df_corr.flag]\n",
    "\n",
    "np.corrcoef(df_corr.cosine_val, df_corr.logreg_val)"
   ]
  },
  {
   "cell_type": "code",
   "execution_count": 14,
   "metadata": {},
   "outputs": [],
   "source": [
    "import matplotlib.pyplot as plt"
   ]
  },
  {
   "cell_type": "code",
   "execution_count": 15,
   "metadata": {},
   "outputs": [
    {
     "data": {
      "image/png": "[encoded data removed]",
      "text/plain": [
       "<Figure size 640x480 with 1 Axes>"
      ]
     },
     "metadata": {},
     "output_type": "display_data"
    }
   ],
   "source": [
    "# WFC\n",
    "zz = df_similarities_['cosine_val']\n",
    "yy = df_similarities_['logreg_val']\n",
    "\n",
    "fig, ax = plt.subplots()\n",
    "ax.scatter(zz, yy)\n",
    "ax.set_ylabel('NLIR classification uncertainty')\n",
    "ax.set_xlabel('Linguistic similarity')\n",
    "# ax.set_ylim(-0.1, 0.1)\n",
    "# ax.set_xlim(0.6, 0.85)\n",
    "\n",
    "for i, txt in enumerate(df_similarities_['pair']):\n",
    "    #print(i, txt)\n",
    "    ax.annotate(txt, (zz[i], yy[i]))"
   ]
  },
  {
   "cell_type": "code",
   "execution_count": 16,
   "metadata": {},
   "outputs": [
    {
     "data": {
      "image/png": "[encoded data removed]",
      "text/plain": [
       "<Figure size 640x480 with 1 Axes>"
      ]
     },
     "metadata": {},
     "output_type": "display_data"
    }
   ],
   "source": [
    "# SC IC\n",
    "zz = df_similarities_['cosine_val']\n",
    "yy = df_similarities_['logreg_val']\n",
    "\n",
    "fig, ax = plt.subplots()\n",
    "ax.scatter(zz, yy)\n",
    "ax.set_ylabel('NLIR classification uncertainty')\n",
    "ax.set_xlabel('Linguistic similarity')\n",
    "# ax.set_ylim(-0.1, 0.1)\n",
    "# ax.set_xlim(0.6, 0.85)\n",
    "\n",
    "for i, txt in enumerate(df_similarities_['pair']):\n",
    "    #print(i, txt)\n",
    "    ax.annotate(txt, (zz[i], yy[i]))"
   ]
  },
  {
   "cell_type": "code",
   "execution_count": 17,
   "metadata": {},
   "outputs": [],
   "source": [
    "import seaborn as sns"
   ]
  },
  {
   "cell_type": "code",
   "execution_count": 18,
   "metadata": {},
   "outputs": [
    {
     "data": {
      "image/png": "[encoded data removed]",
      "text/plain": [
       "<Figure size 640x480 with 1 Axes>"
      ]
     },
     "metadata": {},
     "output_type": "display_data"
    }
   ],
   "source": [
    "# SC IC uni\n",
    "zz = df_similarities_['cosine_val']\n",
    "yy = df_similarities_['logreg_val']\n",
    "\n",
    "sns.set_theme()\n",
    "fig, ax = plt.subplots()\n",
    "#ax.scatter(zz, yy)\n",
    "sns.scatterplot(x=zz, y=yy, marker='o')\n",
    "ax.set_ylabel('NLIR classification uncertainty')\n",
    "ax.set_xlabel('Linguistic similarity')\n",
    "ax.set_ylim(-0.02, 0.35)\n",
    "ax.set_xlim(0.64, 0.92)\n",
    "\n",
    "for i, txt in enumerate(df_similarities_['pair']):\n",
    "    #print(i, txt)\n",
    "    ax.annotate(txt, (zz[i], yy[i]))"
   ]
  },
  {
   "cell_type": "code",
   "execution_count": 19,
   "metadata": {},
   "outputs": [],
   "source": [
    "from scipy.cluster.hierarchy import ward, dendrogram"
   ]
  },
  {
   "cell_type": "code",
   "execution_count": 20,
   "metadata": {},
   "outputs": [],
   "source": [
    "ling_matrix = pd.read_csv(\"../data/outputs/linguistic_similarities.csv\", index_col=0).rename(columns = rename_lang, index=rename_lang)\n",
    "ling_matrix = ling_matrix.loc[[\"et\", \"en\", \"fi\", \"de\", \"he\", \"it\", \"es\"]]\n",
    "ling_matrix = ling_matrix[[\"et\", \"en\", \"fi\", \"de\", \"he\", \"it\", \"es\"]]\n"
   ]
  },
  {
   "cell_type": "code",
   "execution_count": 21,
   "metadata": {},
   "outputs": [
    {
     "data": {
      "image/png": "[encoded data removed]",
      "text/plain": [
       "<Figure size 640x480 with 1 Axes>"
      ]
     },
     "metadata": {},
     "output_type": "display_data"
    },
    {
     "data": {
      "text/plain": [
       "<Figure size 640x480 with 0 Axes>"
      ]
     },
     "metadata": {},
     "output_type": "display_data"
    }
   ],
   "source": [
    "# language tree\n",
    "tree = ward(ling_matrix)\n",
    "fig, ax = plt.subplots()\n",
    "dn = dendrogram(tree, ax=ax, labels=ling_matrix.index, color_threshold=.1, above_threshold_color=\"grey\")\n",
    "ax.set_yticks([])\n",
    "plt.show()\n",
    "plt.savefig(\"../data/outputs/linguistic-tree.png\")"
   ]
  },
  {
   "cell_type": "code",
   "execution_count": 22,
   "metadata": {},
   "outputs": [],
   "source": [
    "acc_matrix = pd.read_csv(r\"../data/outputs/logreg_similarity_SC_IC_uni_new.csv\")[[\"pair\", \"logreg_val\"]] # _inverted\n",
    "acc_matrix[\"lang1\"] = acc_matrix.apply(lambda x: x[\"pair\"][:2], axis=1)\n",
    "acc_matrix[\"lang2\"] = acc_matrix.apply(lambda x: x[\"pair\"][-2:], axis=1)\n",
    "acc_matrix = acc_matrix.pivot(index=\"lang1\", columns=\"lang2\", values=\"logreg_val\") # _inverted"
   ]
  },
  {
   "cell_type": "code",
   "execution_count": 23,
   "metadata": {},
   "outputs": [
    {
     "data": {
      "text/html": [
       "<div>\n",
       "<style scoped>\n",
       "    .dataframe tbody tr th:only-of-type {\n",
       "        vertical-align: middle;\n",
       "    }\n",
       "\n",
       "    .dataframe tbody tr th {\n",
       "        vertical-align: top;\n",
       "    }\n",
       "\n",
       "    .dataframe thead th {\n",
       "        text-align: right;\n",
       "    }\n",
       "</style>\n",
       "<table border=\"1\" class=\"dataframe\">\n",
       "  <thead>\n",
       "    <tr style=\"text-align: right;\">\n",
       "      <th>lang2</th>\n",
       "      <th>de</th>\n",
       "      <th>en</th>\n",
       "      <th>es</th>\n",
       "      <th>et</th>\n",
       "      <th>fi</th>\n",
       "      <th>he</th>\n",
       "      <th>it</th>\n",
       "    </tr>\n",
       "    <tr>\n",
       "      <th>lang1</th>\n",
       "      <th></th>\n",
       "      <th></th>\n",
       "      <th></th>\n",
       "      <th></th>\n",
       "      <th></th>\n",
       "      <th></th>\n",
       "      <th></th>\n",
       "    </tr>\n",
       "  </thead>\n",
       "  <tbody>\n",
       "    <tr>\n",
       "      <th>de</th>\n",
       "      <td>0.715413</td>\n",
       "      <td>0.008112</td>\n",
       "      <td>0.071600</td>\n",
       "      <td>0.022746</td>\n",
       "      <td>0.083683</td>\n",
       "      <td>0.126257</td>\n",
       "      <td>0.054699</td>\n",
       "    </tr>\n",
       "    <tr>\n",
       "      <th>en</th>\n",
       "      <td>0.008112</td>\n",
       "      <td>0.922504</td>\n",
       "      <td>0.007091</td>\n",
       "      <td>0.005428</td>\n",
       "      <td>0.049566</td>\n",
       "      <td>0.016441</td>\n",
       "      <td>0.000781</td>\n",
       "    </tr>\n",
       "    <tr>\n",
       "      <th>es</th>\n",
       "      <td>0.071600</td>\n",
       "      <td>0.007091</td>\n",
       "      <td>0.222239</td>\n",
       "      <td>0.030136</td>\n",
       "      <td>0.174474</td>\n",
       "      <td>0.124964</td>\n",
       "      <td>0.301359</td>\n",
       "    </tr>\n",
       "    <tr>\n",
       "      <th>et</th>\n",
       "      <td>0.022746</td>\n",
       "      <td>0.005428</td>\n",
       "      <td>0.030136</td>\n",
       "      <td>0.716492</td>\n",
       "      <td>0.065323</td>\n",
       "      <td>0.020773</td>\n",
       "      <td>0.072807</td>\n",
       "    </tr>\n",
       "    <tr>\n",
       "      <th>fi</th>\n",
       "      <td>0.083683</td>\n",
       "      <td>0.049566</td>\n",
       "      <td>0.174474</td>\n",
       "      <td>0.065323</td>\n",
       "      <td>0.348919</td>\n",
       "      <td>0.157821</td>\n",
       "      <td>0.140805</td>\n",
       "    </tr>\n",
       "    <tr>\n",
       "      <th>he</th>\n",
       "      <td>0.126257</td>\n",
       "      <td>0.016441</td>\n",
       "      <td>0.124964</td>\n",
       "      <td>0.020773</td>\n",
       "      <td>0.157821</td>\n",
       "      <td>0.354082</td>\n",
       "      <td>0.150343</td>\n",
       "    </tr>\n",
       "    <tr>\n",
       "      <th>it</th>\n",
       "      <td>0.054699</td>\n",
       "      <td>0.000781</td>\n",
       "      <td>0.301359</td>\n",
       "      <td>0.072807</td>\n",
       "      <td>0.140805</td>\n",
       "      <td>0.150343</td>\n",
       "      <td>0.337914</td>\n",
       "    </tr>\n",
       "  </tbody>\n",
       "</table>\n",
       "</div>"
      ],
      "text/plain": [
       "lang2        de        en        es        et        fi        he        it\n",
       "lang1                                                                      \n",
       "de     0.715413  0.008112  0.071600  0.022746  0.083683  0.126257  0.054699\n",
       "en     0.008112  0.922504  0.007091  0.005428  0.049566  0.016441  0.000781\n",
       "es     0.071600  0.007091  0.222239  0.030136  0.174474  0.124964  0.301359\n",
       "et     0.022746  0.005428  0.030136  0.716492  0.065323  0.020773  0.072807\n",
       "fi     0.083683  0.049566  0.174474  0.065323  0.348919  0.157821  0.140805\n",
       "he     0.126257  0.016441  0.124964  0.020773  0.157821  0.354082  0.150343\n",
       "it     0.054699  0.000781  0.301359  0.072807  0.140805  0.150343  0.337914"
      ]
     },
     "execution_count": 23,
     "metadata": {},
     "output_type": "execute_result"
    }
   ],
   "source": [
    "acc_matrix"
   ]
  },
  {
   "cell_type": "code",
   "execution_count": 24,
   "metadata": {},
   "outputs": [
    {
     "ename": "NameError",
     "evalue": "name 'np' is not defined",
     "output_type": "error",
     "traceback": [
      "\u001b[1;31m---------------------------------------------------------------------------\u001b[0m",
      "\u001b[1;31mNameError\u001b[0m                                 Traceback (most recent call last)",
      "Cell \u001b[1;32mIn [24], line 1\u001b[0m\n\u001b[1;32m----> 1\u001b[0m \u001b[43mnp\u001b[49m\u001b[38;5;241m.\u001b[39mfill_diagonal(acc_matrix\u001b[38;5;241m.\u001b[39mvalues, \u001b[38;5;241m1\u001b[39m \u001b[38;5;241m-\u001b[39m np\u001b[38;5;241m.\u001b[39mdiagonal(acc_matrix))\n",
      "\u001b[1;31mNameError\u001b[0m: name 'np' is not defined"
     ]
    }
   ],
   "source": [
    "np.fill_diagonal(acc_matrix.values, 1 - np.diagonal(acc_matrix))"
   ]
  },
  {
   "cell_type": "code",
   "execution_count": null,
   "metadata": {},
   "outputs": [],
   "source": [
    "acc_matrix"
   ]
  },
  {
   "cell_type": "code",
   "execution_count": null,
   "metadata": {},
   "outputs": [],
   "source": [
    "import numpy as np"
   ]
  },
  {
   "cell_type": "code",
   "execution_count": null,
   "metadata": {},
   "outputs": [],
   "source": [
    "# WFC\n",
    "tree = ward(acc_matrix)\n",
    "fig, ax = plt.subplots()\n",
    "dendrogram(tree, ax=ax, labels=acc_matrix.index)\n",
    "ax.set_yticks([])\n",
    "plt.show()\n",
    "plt.savefig(\"../data/outputs/uncertainty-tree.png\")"
   ]
  },
  {
   "cell_type": "code",
   "execution_count": null,
   "metadata": {},
   "outputs": [],
   "source": [
    "# SC IC\n",
    "tree = ward(acc_matrix)\n",
    "fig, ax = plt.subplots()\n",
    "dendrogram(tree, ax=ax, labels=acc_matrix.index)\n",
    "ax.set_yticks([])\n",
    "plt.show()\n",
    "#plt.savefig(\"../data/outputs/uncertainty-tree.png\")"
   ]
  },
  {
   "cell_type": "code",
   "execution_count": null,
   "metadata": {},
   "outputs": [],
   "source": [
    "# SC IC uni\n",
    "tree = ward(acc_matrix)\n",
    "fig, ax = plt.subplots()\n",
    "dendrogram(tree, ax=ax, labels=acc_matrix.index)\n",
    "ax.set_yticks([])\n",
    "plt.show()\n",
    "#plt.savefig(\"../data/outputs/uncertainty-tree.png\")"
   ]
  },
  {
   "cell_type": "code",
   "execution_count": null,
   "metadata": {},
   "outputs": [],
   "source": [
    "# SC IC uni\n",
    "tree = ward(acc_matrix)\n",
    "fig, ax = plt.subplots()\n",
    "dendrogram(tree, ax=ax, labels=acc_matrix.index, color_threshold=.1, above_threshold_color=\"grey\")\n",
    "ax.set_yticks([])\n",
    "plt.show()\n",
    "#plt.savefig(\"../data/outputs/uncertainty-tree.png\")"
   ]
  }
 ],
 "metadata": {
  "kernelspec": {
   "display_name": "Python 3 (ipykernel)",
   "language": "python",
   "name": "python3"
  },
  "language_info": {
   "codemirror_mode": {
    "name": "ipython",
    "version": 3
   },
   "file_extension": ".py",
   "mimetype": "text/x-python",
   "name": "python",
   "nbconvert_exporter": "python",
   "pygments_lexer": "ipython3",
   "version": "3.10.6"
  },
  "vscode": {
   "interpreter": {
    "hash": "36e1fa312ac715c21bb59b9e6c10d6a9544a6eb8fd53fcf02705de1881480231"
   }
  }
 },
 "nbformat": 4,
 "nbformat_minor": 2
}
