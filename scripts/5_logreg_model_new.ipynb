{
 "cells": [
  {
   "cell_type": "markdown",
   "metadata": {},
   "source": [
    "# Logistic Regression\n",
    "\n",
    "redo model training with new data in this script"
   ]
  },
  {
   "cell_type": "code",
   "execution_count": 27,
   "metadata": {},
   "outputs": [],
   "source": [
    "import pandas as pd\n",
    "import rdata\n",
    "from sklearn.linear_model import LogisticRegression\n",
    "import json\n",
    "from sklearn.model_selection import GroupShuffleSplit\n",
    "import numpy as np\n",
    "from functions import get_cv_score\n",
    "from sklearn.metrics import accuracy_score"
   ]
  },
  {
   "cell_type": "code",
   "execution_count": 28,
   "metadata": {},
   "outputs": [],
   "source": [
    "df = pd.read_pickle(\"../data/df_uni_bi_tri_normalized.pickle\")\n",
    "df =df.reset_index(col_level=1).rename(columns = {'': 'id'}, level =0)"
   ]
  },
  {
   "cell_type": "markdown",
   "metadata": {},
   "source": [
    "Add language that is going to be the label/ target for model:"
   ]
  },
  {
   "cell_type": "code",
   "execution_count": 29,
   "metadata": {},
   "outputs": [],
   "source": [
    "# read df with language:\n",
    "path_ind_diff = r\"../data/version 1.1/primary data/individual differences data/joint.ind.diff.l2.rda\"\n",
    "parsed_readrate = rdata.parser.parse_file(path_ind_diff)\n",
    "converted_readrate = rdata.conversion.convert(parsed_readrate)\n",
    "df_readrate = converted_readrate['joint_id'][['uniform_id', 'lang']]\n",
    "\n",
    "# need multiindex to merge properly:\n",
    "df_readrate.columns = pd.MultiIndex.from_product([['labels'], df_readrate.columns]) \n",
    "\n",
    "# join language\n",
    "df_main = df.merge(df_readrate, left_on = [('id', 'uniform_id')], right_on= [('labels', 'uniform_id')])\n",
    "df_main = df_main.drop([('labels', 'uniform_id')], axis=1)\n",
    "\n",
    "# encode language as lables ( using old lookup json):\n",
    "with open(\"../data/outputs/language_lookup.json\") as json_file:\n",
    "    language_lookup = json.load(json_file)\n",
    "\n",
    "df_main[('labels', 'lang_code')] = df_main[('labels', 'lang')].replace(language_lookup).values"
   ]
  },
  {
   "cell_type": "code",
   "execution_count": 30,
   "metadata": {},
   "outputs": [
    {
     "data": {
      "text/plain": [
       "ee    23\n",
       "fi    23\n",
       "ge    23\n",
       "en    21\n",
       "sp    21\n",
       "it    20\n",
       "he    18\n",
       "Name: (labels, lang), dtype: int64"
      ]
     },
     "execution_count": 30,
     "metadata": {},
     "output_type": "execute_result"
    }
   ],
   "source": [
    "df_main[('labels', 'lang')].value_counts()"
   ]
  },
  {
   "cell_type": "code",
   "execution_count": 31,
   "metadata": {},
   "outputs": [
    {
     "data": {
      "text/plain": [
       "0.15436241610738255"
      ]
     },
     "execution_count": 31,
     "metadata": {},
     "output_type": "execute_result"
    }
   ],
   "source": [
    "23/149"
   ]
  },
  {
   "cell_type": "code",
   "execution_count": null,
   "metadata": {},
   "outputs": [],
   "source": []
  },
  {
   "cell_type": "code",
   "execution_count": 5,
   "metadata": {},
   "outputs": [],
   "source": [
    "import itertools\n",
    "from tqdm import tqdm"
   ]
  },
  {
   "cell_type": "code",
   "execution_count": 6,
   "metadata": {},
   "outputs": [
    {
     "name": "stderr",
     "output_type": "stream",
     "text": [
      "  0%|          | 0/6 [00:00<?, ?it/s]"
     ]
    },
    {
     "name": "stdout",
     "output_type": "stream",
     "text": [
      "[('ee', 'fi'), ('ee', 'ge'), ('ee', 'he'), ('ee', 'it'), ('ee', 'en'), ('ee', 'sp'), ('fi', 'ge'), ('fi', 'he'), ('fi', 'it'), ('fi', 'en'), ('fi', 'sp'), ('ge', 'he'), ('ge', 'it'), ('ge', 'en'), ('ge', 'sp'), ('he', 'it'), ('he', 'en'), ('he', 'sp'), ('it', 'en'), ('it', 'sp'), ('en', 'sp')]\n"
     ]
    },
    {
     "name": "stderr",
     "output_type": "stream",
     "text": [
      "5it [00:04,  1.23it/s]\n"
     ]
    },
    {
     "name": "stdout",
     "output_type": "stream",
     "text": [
      "0.9894736842105264\n"
     ]
    },
    {
     "name": "stderr",
     "output_type": "stream",
     "text": [
      "5it [00:04,  1.12it/s]\n"
     ]
    },
    {
     "name": "stdout",
     "output_type": "stream",
     "text": [
      "0.9894736842105264\n"
     ]
    },
    {
     "name": "stderr",
     "output_type": "stream",
     "text": [
      "5it [00:03,  1.60it/s]\n"
     ]
    },
    {
     "name": "stdout",
     "output_type": "stream",
     "text": [
      "1.0\n"
     ]
    },
    {
     "name": "stderr",
     "output_type": "stream",
     "text": [
      "5it [00:04,  1.17it/s]\n"
     ]
    },
    {
     "name": "stdout",
     "output_type": "stream",
     "text": [
      "1.0\n"
     ]
    },
    {
     "name": "stderr",
     "output_type": "stream",
     "text": [
      "5it [00:04,  1.10it/s]\n"
     ]
    },
    {
     "name": "stdout",
     "output_type": "stream",
     "text": [
      "1.0\n"
     ]
    },
    {
     "name": "stderr",
     "output_type": "stream",
     "text": [
      "5it [00:03,  1.63it/s]\n"
     ]
    },
    {
     "name": "stdout",
     "output_type": "stream",
     "text": [
      "1.0\n"
     ]
    },
    {
     "name": "stderr",
     "output_type": "stream",
     "text": [
      "5it [00:02,  2.42it/s]\n"
     ]
    },
    {
     "name": "stdout",
     "output_type": "stream",
     "text": [
      "0.8947368421052632\n"
     ]
    },
    {
     "name": "stderr",
     "output_type": "stream",
     "text": [
      "5it [00:02,  1.98it/s]\n"
     ]
    },
    {
     "name": "stdout",
     "output_type": "stream",
     "text": [
      "0.8470588235294118\n"
     ]
    },
    {
     "name": "stderr",
     "output_type": "stream",
     "text": [
      "5it [00:01,  2.54it/s]\n"
     ]
    },
    {
     "name": "stdout",
     "output_type": "stream",
     "text": [
      "0.8\n"
     ]
    },
    {
     "name": "stderr",
     "output_type": "stream",
     "text": [
      "5it [00:01,  2.52it/s]\n"
     ]
    },
    {
     "name": "stdout",
     "output_type": "stream",
     "text": [
      "1.0\n"
     ]
    },
    {
     "name": "stderr",
     "output_type": "stream",
     "text": [
      "5it [00:02,  2.38it/s]\n"
     ]
    },
    {
     "name": "stdout",
     "output_type": "stream",
     "text": [
      "0.7222222222222222\n"
     ]
    },
    {
     "name": "stderr",
     "output_type": "stream",
     "text": [
      "5it [00:02,  2.24it/s]\n"
     ]
    },
    {
     "name": "stdout",
     "output_type": "stream",
     "text": [
      "0.8823529411764707\n"
     ]
    },
    {
     "name": "stderr",
     "output_type": "stream",
     "text": [
      "5it [00:02,  2.26it/s]\n"
     ]
    },
    {
     "name": "stdout",
     "output_type": "stream",
     "text": [
      "0.9666666666666666\n"
     ]
    },
    {
     "name": "stderr",
     "output_type": "stream",
     "text": [
      "5it [00:01,  2.83it/s]\n"
     ]
    },
    {
     "name": "stdout",
     "output_type": "stream",
     "text": [
      "1.0\n"
     ]
    },
    {
     "name": "stderr",
     "output_type": "stream",
     "text": [
      "5it [00:02,  2.44it/s]\n"
     ]
    },
    {
     "name": "stdout",
     "output_type": "stream",
     "text": [
      "0.9222222222222222\n"
     ]
    },
    {
     "name": "stderr",
     "output_type": "stream",
     "text": [
      "5it [00:02,  1.96it/s]\n"
     ]
    },
    {
     "name": "stdout",
     "output_type": "stream",
     "text": [
      "0.875\n"
     ]
    },
    {
     "name": "stderr",
     "output_type": "stream",
     "text": [
      "5it [00:02,  2.06it/s]\n"
     ]
    },
    {
     "name": "stdout",
     "output_type": "stream",
     "text": [
      "1.0\n"
     ]
    },
    {
     "name": "stderr",
     "output_type": "stream",
     "text": [
      "5it [00:01,  3.11it/s]\n"
     ]
    },
    {
     "name": "stdout",
     "output_type": "stream",
     "text": [
      "0.7625\n"
     ]
    },
    {
     "name": "stderr",
     "output_type": "stream",
     "text": [
      "5it [00:02,  2.39it/s]\n"
     ]
    },
    {
     "name": "stdout",
     "output_type": "stream",
     "text": [
      "1.0\n"
     ]
    },
    {
     "name": "stderr",
     "output_type": "stream",
     "text": [
      "5it [00:01,  3.49it/s]\n"
     ]
    },
    {
     "name": "stdout",
     "output_type": "stream",
     "text": [
      "0.7058823529411764\n"
     ]
    },
    {
     "name": "stderr",
     "output_type": "stream",
     "text": [
      "5it [00:01,  2.90it/s]\n",
      " 17%|█▋        | 1/6 [00:54<04:34, 54.86s/it]"
     ]
    },
    {
     "name": "stdout",
     "output_type": "stream",
     "text": [
      "1.0\n",
      "[('ee', 'fi', 'ge'), ('ee', 'fi', 'he'), ('ee', 'fi', 'it'), ('ee', 'fi', 'en'), ('ee', 'fi', 'sp'), ('ee', 'ge', 'he'), ('ee', 'ge', 'it'), ('ee', 'ge', 'en'), ('ee', 'ge', 'sp'), ('ee', 'he', 'it'), ('ee', 'he', 'en'), ('ee', 'he', 'sp'), ('ee', 'it', 'en'), ('ee', 'it', 'sp'), ('ee', 'en', 'sp'), ('fi', 'ge', 'he'), ('fi', 'ge', 'it'), ('fi', 'ge', 'en'), ('fi', 'ge', 'sp'), ('fi', 'he', 'it'), ('fi', 'he', 'en'), ('fi', 'he', 'sp'), ('fi', 'it', 'en'), ('fi', 'it', 'sp'), ('fi', 'en', 'sp'), ('ge', 'he', 'it'), ('ge', 'he', 'en'), ('ge', 'he', 'sp'), ('ge', 'it', 'en'), ('ge', 'it', 'sp'), ('ge', 'en', 'sp'), ('he', 'it', 'en'), ('he', 'it', 'sp'), ('he', 'en', 'sp'), ('it', 'en', 'sp')]\n"
     ]
    },
    {
     "name": "stderr",
     "output_type": "stream",
     "text": [
      "5it [00:03,  1.56it/s]\n"
     ]
    },
    {
     "name": "stdout",
     "output_type": "stream",
     "text": [
      "0.8857142857142858\n"
     ]
    },
    {
     "name": "stderr",
     "output_type": "stream",
     "text": [
      "5it [00:02,  1.86it/s]\n"
     ]
    },
    {
     "name": "stdout",
     "output_type": "stream",
     "text": [
      "0.8692307692307691\n"
     ]
    },
    {
     "name": "stderr",
     "output_type": "stream",
     "text": [
      "5it [00:01,  4.20it/s]\n"
     ]
    },
    {
     "name": "stdout",
     "output_type": "stream",
     "text": [
      "0.8518518518518517\n"
     ]
    },
    {
     "name": "stderr",
     "output_type": "stream",
     "text": [
      "5it [00:01,  4.39it/s]\n"
     ]
    },
    {
     "name": "stdout",
     "output_type": "stream",
     "text": [
      "1.0\n"
     ]
    },
    {
     "name": "stderr",
     "output_type": "stream",
     "text": [
      "5it [00:01,  4.19it/s]\n"
     ]
    },
    {
     "name": "stdout",
     "output_type": "stream",
     "text": [
      "0.6962962962962964\n"
     ]
    },
    {
     "name": "stderr",
     "output_type": "stream",
     "text": [
      "5it [00:01,  4.28it/s]\n"
     ]
    },
    {
     "name": "stdout",
     "output_type": "stream",
     "text": [
      "0.9307692307692308\n"
     ]
    },
    {
     "name": "stderr",
     "output_type": "stream",
     "text": [
      "5it [00:01,  4.77it/s]\n"
     ]
    },
    {
     "name": "stdout",
     "output_type": "stream",
     "text": [
      "0.9407407407407407\n"
     ]
    },
    {
     "name": "stderr",
     "output_type": "stream",
     "text": [
      "5it [00:00,  5.15it/s]\n"
     ]
    },
    {
     "name": "stdout",
     "output_type": "stream",
     "text": [
      "0.9851851851851852\n"
     ]
    },
    {
     "name": "stderr",
     "output_type": "stream",
     "text": [
      "5it [00:00,  5.62it/s]\n"
     ]
    },
    {
     "name": "stdout",
     "output_type": "stream",
     "text": [
      "0.8962962962962964\n"
     ]
    },
    {
     "name": "stderr",
     "output_type": "stream",
     "text": [
      "5it [00:00,  5.04it/s]\n"
     ]
    },
    {
     "name": "stdout",
     "output_type": "stream",
     "text": [
      "0.9119999999999999\n"
     ]
    },
    {
     "name": "stderr",
     "output_type": "stream",
     "text": [
      "5it [00:01,  3.33it/s]\n"
     ]
    },
    {
     "name": "stdout",
     "output_type": "stream",
     "text": [
      "0.992\n"
     ]
    },
    {
     "name": "stderr",
     "output_type": "stream",
     "text": [
      "5it [00:01,  3.08it/s]\n"
     ]
    },
    {
     "name": "stdout",
     "output_type": "stream",
     "text": [
      "0.8480000000000001\n"
     ]
    },
    {
     "name": "stderr",
     "output_type": "stream",
     "text": [
      "5it [00:01,  3.53it/s]\n"
     ]
    },
    {
     "name": "stdout",
     "output_type": "stream",
     "text": [
      "1.0\n"
     ]
    },
    {
     "name": "stderr",
     "output_type": "stream",
     "text": [
      "5it [00:01,  3.06it/s]\n"
     ]
    },
    {
     "name": "stdout",
     "output_type": "stream",
     "text": [
      "0.8307692307692308\n"
     ]
    },
    {
     "name": "stderr",
     "output_type": "stream",
     "text": [
      "5it [00:01,  3.31it/s]\n"
     ]
    },
    {
     "name": "stdout",
     "output_type": "stream",
     "text": [
      "0.9923076923076923\n"
     ]
    },
    {
     "name": "stderr",
     "output_type": "stream",
     "text": [
      "5it [00:01,  3.09it/s]\n"
     ]
    },
    {
     "name": "stdout",
     "output_type": "stream",
     "text": [
      "0.7692307692307694\n"
     ]
    },
    {
     "name": "stderr",
     "output_type": "stream",
     "text": [
      "5it [00:01,  3.35it/s]\n"
     ]
    },
    {
     "name": "stdout",
     "output_type": "stream",
     "text": [
      "0.7555555555555555\n"
     ]
    },
    {
     "name": "stderr",
     "output_type": "stream",
     "text": [
      "5it [00:01,  4.23it/s]\n"
     ]
    },
    {
     "name": "stdout",
     "output_type": "stream",
     "text": [
      "0.9407407407407409\n"
     ]
    },
    {
     "name": "stderr",
     "output_type": "stream",
     "text": [
      "5it [00:01,  4.19it/s]\n"
     ]
    },
    {
     "name": "stdout",
     "output_type": "stream",
     "text": [
      "0.6296296296296297\n"
     ]
    },
    {
     "name": "stderr",
     "output_type": "stream",
     "text": [
      "5it [00:01,  2.87it/s]\n"
     ]
    },
    {
     "name": "stdout",
     "output_type": "stream",
     "text": [
      "0.656\n"
     ]
    },
    {
     "name": "stderr",
     "output_type": "stream",
     "text": [
      "5it [00:01,  2.99it/s]\n"
     ]
    },
    {
     "name": "stdout",
     "output_type": "stream",
     "text": [
      "0.8480000000000001\n"
     ]
    },
    {
     "name": "stderr",
     "output_type": "stream",
     "text": [
      "5it [00:01,  2.96it/s]\n"
     ]
    },
    {
     "name": "stdout",
     "output_type": "stream",
     "text": [
      "0.504\n"
     ]
    },
    {
     "name": "stderr",
     "output_type": "stream",
     "text": [
      "5it [00:01,  4.24it/s]\n"
     ]
    },
    {
     "name": "stdout",
     "output_type": "stream",
     "text": [
      "0.8384615384615384\n"
     ]
    },
    {
     "name": "stderr",
     "output_type": "stream",
     "text": [
      "5it [00:01,  3.60it/s]\n"
     ]
    },
    {
     "name": "stdout",
     "output_type": "stream",
     "text": [
      "0.4615384615384615\n"
     ]
    },
    {
     "name": "stderr",
     "output_type": "stream",
     "text": [
      "5it [00:01,  3.28it/s]\n"
     ]
    },
    {
     "name": "stdout",
     "output_type": "stream",
     "text": [
      "0.6692307692307692\n"
     ]
    },
    {
     "name": "stderr",
     "output_type": "stream",
     "text": [
      "5it [00:01,  4.34it/s]\n"
     ]
    },
    {
     "name": "stdout",
     "output_type": "stream",
     "text": [
      "0.8320000000000001\n"
     ]
    },
    {
     "name": "stderr",
     "output_type": "stream",
     "text": [
      "5it [00:00,  5.12it/s]\n"
     ]
    },
    {
     "name": "stdout",
     "output_type": "stream",
     "text": [
      "0.9199999999999999\n"
     ]
    },
    {
     "name": "stderr",
     "output_type": "stream",
     "text": [
      "5it [00:01,  4.20it/s]\n"
     ]
    },
    {
     "name": "stdout",
     "output_type": "stream",
     "text": [
      "0.784\n"
     ]
    },
    {
     "name": "stderr",
     "output_type": "stream",
     "text": [
      "5it [00:01,  3.17it/s]\n"
     ]
    },
    {
     "name": "stdout",
     "output_type": "stream",
     "text": [
      "0.9615384615384617\n"
     ]
    },
    {
     "name": "stderr",
     "output_type": "stream",
     "text": [
      "5it [00:01,  3.14it/s]\n"
     ]
    },
    {
     "name": "stdout",
     "output_type": "stream",
     "text": [
      "0.7692307692307693\n"
     ]
    },
    {
     "name": "stderr",
     "output_type": "stream",
     "text": [
      "5it [00:01,  3.69it/s]\n"
     ]
    },
    {
     "name": "stdout",
     "output_type": "stream",
     "text": [
      "0.9153846153846155\n"
     ]
    },
    {
     "name": "stderr",
     "output_type": "stream",
     "text": [
      "5it [00:01,  3.08it/s]\n"
     ]
    },
    {
     "name": "stdout",
     "output_type": "stream",
     "text": [
      "0.9083333333333332\n"
     ]
    },
    {
     "name": "stderr",
     "output_type": "stream",
     "text": [
      "5it [00:01,  3.06it/s]\n"
     ]
    },
    {
     "name": "stdout",
     "output_type": "stream",
     "text": [
      "0.625\n"
     ]
    },
    {
     "name": "stderr",
     "output_type": "stream",
     "text": [
      "5it [00:01,  3.11it/s]\n"
     ]
    },
    {
     "name": "stdout",
     "output_type": "stream",
     "text": [
      "0.875\n"
     ]
    },
    {
     "name": "stderr",
     "output_type": "stream",
     "text": [
      "5it [00:01,  3.02it/s]\n",
      " 33%|███▎      | 2/6 [01:46<03:32, 53.23s/it]"
     ]
    },
    {
     "name": "stdout",
     "output_type": "stream",
     "text": [
      "0.792\n",
      "[('ee', 'fi', 'ge', 'he'), ('ee', 'fi', 'ge', 'it'), ('ee', 'fi', 'ge', 'en'), ('ee', 'fi', 'ge', 'sp'), ('ee', 'fi', 'he', 'it'), ('ee', 'fi', 'he', 'en'), ('ee', 'fi', 'he', 'sp'), ('ee', 'fi', 'it', 'en'), ('ee', 'fi', 'it', 'sp'), ('ee', 'fi', 'en', 'sp'), ('ee', 'ge', 'he', 'it'), ('ee', 'ge', 'he', 'en'), ('ee', 'ge', 'he', 'sp'), ('ee', 'ge', 'it', 'en'), ('ee', 'ge', 'it', 'sp'), ('ee', 'ge', 'en', 'sp'), ('ee', 'he', 'it', 'en'), ('ee', 'he', 'it', 'sp'), ('ee', 'he', 'en', 'sp'), ('ee', 'it', 'en', 'sp'), ('fi', 'ge', 'he', 'it'), ('fi', 'ge', 'he', 'en'), ('fi', 'ge', 'he', 'sp'), ('fi', 'ge', 'it', 'en'), ('fi', 'ge', 'it', 'sp'), ('fi', 'ge', 'en', 'sp'), ('fi', 'he', 'it', 'en'), ('fi', 'he', 'it', 'sp'), ('fi', 'he', 'en', 'sp'), ('fi', 'it', 'en', 'sp'), ('ge', 'he', 'it', 'en'), ('ge', 'he', 'it', 'sp'), ('ge', 'he', 'en', 'sp'), ('ge', 'it', 'en', 'sp'), ('he', 'it', 'en', 'sp')]\n"
     ]
    },
    {
     "name": "stderr",
     "output_type": "stream",
     "text": [
      "5it [00:01,  2.75it/s]\n"
     ]
    },
    {
     "name": "stdout",
     "output_type": "stream",
     "text": [
      "0.8228571428571427\n"
     ]
    },
    {
     "name": "stderr",
     "output_type": "stream",
     "text": [
      "5it [00:01,  2.82it/s]\n"
     ]
    },
    {
     "name": "stdout",
     "output_type": "stream",
     "text": [
      "0.8222222222222222\n"
     ]
    },
    {
     "name": "stderr",
     "output_type": "stream",
     "text": [
      "5it [00:01,  4.30it/s]\n"
     ]
    },
    {
     "name": "stdout",
     "output_type": "stream",
     "text": [
      "0.9555555555555555\n"
     ]
    },
    {
     "name": "stderr",
     "output_type": "stream",
     "text": [
      "5it [00:01,  3.77it/s]\n"
     ]
    },
    {
     "name": "stdout",
     "output_type": "stream",
     "text": [
      "0.6555555555555556\n"
     ]
    },
    {
     "name": "stderr",
     "output_type": "stream",
     "text": [
      "5it [00:01,  3.60it/s]\n"
     ]
    },
    {
     "name": "stdout",
     "output_type": "stream",
     "text": [
      "0.7529411764705883\n"
     ]
    },
    {
     "name": "stderr",
     "output_type": "stream",
     "text": [
      "5it [00:01,  3.43it/s]\n"
     ]
    },
    {
     "name": "stdout",
     "output_type": "stream",
     "text": [
      "0.8941176470588234\n"
     ]
    },
    {
     "name": "stderr",
     "output_type": "stream",
     "text": [
      "5it [00:01,  3.27it/s]\n"
     ]
    },
    {
     "name": "stdout",
     "output_type": "stream",
     "text": [
      "0.6705882352941177\n"
     ]
    },
    {
     "name": "stderr",
     "output_type": "stream",
     "text": [
      "5it [00:01,  2.64it/s]\n"
     ]
    },
    {
     "name": "stdout",
     "output_type": "stream",
     "text": [
      "0.8628571428571428\n"
     ]
    },
    {
     "name": "stderr",
     "output_type": "stream",
     "text": [
      "5it [00:01,  2.70it/s]\n"
     ]
    },
    {
     "name": "stdout",
     "output_type": "stream",
     "text": [
      "0.6285714285714284\n"
     ]
    },
    {
     "name": "stderr",
     "output_type": "stream",
     "text": [
      "5it [00:01,  2.74it/s]\n"
     ]
    },
    {
     "name": "stdout",
     "output_type": "stream",
     "text": [
      "0.788888888888889\n"
     ]
    },
    {
     "name": "stderr",
     "output_type": "stream",
     "text": [
      "5it [00:01,  2.82it/s]\n"
     ]
    },
    {
     "name": "stdout",
     "output_type": "stream",
     "text": [
      "0.8941176470588234\n"
     ]
    },
    {
     "name": "stderr",
     "output_type": "stream",
     "text": [
      "5it [00:01,  2.56it/s]\n"
     ]
    },
    {
     "name": "stdout",
     "output_type": "stream",
     "text": [
      "0.9529411764705882\n"
     ]
    },
    {
     "name": "stderr",
     "output_type": "stream",
     "text": [
      "5it [00:02,  2.49it/s]\n"
     ]
    },
    {
     "name": "stdout",
     "output_type": "stream",
     "text": [
      "0.8411764705882353\n"
     ]
    },
    {
     "name": "stderr",
     "output_type": "stream",
     "text": [
      "5it [00:01,  2.59it/s]\n"
     ]
    },
    {
     "name": "stdout",
     "output_type": "stream",
     "text": [
      "0.937142857142857\n"
     ]
    },
    {
     "name": "stderr",
     "output_type": "stream",
     "text": [
      "5it [00:01,  3.13it/s]\n"
     ]
    },
    {
     "name": "stdout",
     "output_type": "stream",
     "text": [
      "0.7885714285714286\n"
     ]
    },
    {
     "name": "stderr",
     "output_type": "stream",
     "text": [
      "5it [00:01,  3.98it/s]\n"
     ]
    },
    {
     "name": "stdout",
     "output_type": "stream",
     "text": [
      "0.9333333333333332\n"
     ]
    },
    {
     "name": "stderr",
     "output_type": "stream",
     "text": [
      "5it [00:01,  3.47it/s]\n"
     ]
    },
    {
     "name": "stdout",
     "output_type": "stream",
     "text": [
      "0.9272727272727274\n"
     ]
    },
    {
     "name": "stderr",
     "output_type": "stream",
     "text": [
      "5it [00:01,  3.22it/s]\n"
     ]
    },
    {
     "name": "stdout",
     "output_type": "stream",
     "text": [
      "0.7636363636363637\n"
     ]
    },
    {
     "name": "stderr",
     "output_type": "stream",
     "text": [
      "5it [00:01,  3.16it/s]\n"
     ]
    },
    {
     "name": "stdout",
     "output_type": "stream",
     "text": [
      "0.8882352941176471\n"
     ]
    },
    {
     "name": "stderr",
     "output_type": "stream",
     "text": [
      "5it [00:01,  3.44it/s]\n"
     ]
    },
    {
     "name": "stdout",
     "output_type": "stream",
     "text": [
      "0.8352941176470589\n"
     ]
    },
    {
     "name": "stderr",
     "output_type": "stream",
     "text": [
      "5it [00:01,  2.65it/s]\n"
     ]
    },
    {
     "name": "stdout",
     "output_type": "stream",
     "text": [
      "0.7117647058823529\n"
     ]
    },
    {
     "name": "stderr",
     "output_type": "stream",
     "text": [
      "5it [00:01,  3.13it/s]\n"
     ]
    },
    {
     "name": "stdout",
     "output_type": "stream",
     "text": [
      "0.8529411764705882\n"
     ]
    },
    {
     "name": "stderr",
     "output_type": "stream",
     "text": [
      "5it [00:01,  2.56it/s]\n"
     ]
    },
    {
     "name": "stdout",
     "output_type": "stream",
     "text": [
      "0.5941176470588235\n"
     ]
    },
    {
     "name": "stderr",
     "output_type": "stream",
     "text": [
      "5it [00:01,  3.39it/s]\n"
     ]
    },
    {
     "name": "stdout",
     "output_type": "stream",
     "text": [
      "0.7885714285714286\n"
     ]
    },
    {
     "name": "stderr",
     "output_type": "stream",
     "text": [
      "5it [00:01,  3.47it/s]\n"
     ]
    },
    {
     "name": "stdout",
     "output_type": "stream",
     "text": [
      "0.5828571428571429\n"
     ]
    },
    {
     "name": "stderr",
     "output_type": "stream",
     "text": [
      "5it [00:01,  3.82it/s]\n"
     ]
    },
    {
     "name": "stdout",
     "output_type": "stream",
     "text": [
      "0.6944444444444444\n"
     ]
    },
    {
     "name": "stderr",
     "output_type": "stream",
     "text": [
      "5it [00:01,  3.84it/s]\n"
     ]
    },
    {
     "name": "stdout",
     "output_type": "stream",
     "text": [
      "0.7818181818181819\n"
     ]
    },
    {
     "name": "stderr",
     "output_type": "stream",
     "text": [
      "5it [00:01,  4.15it/s]\n"
     ]
    },
    {
     "name": "stdout",
     "output_type": "stream",
     "text": [
      "0.4909090909090909\n"
     ]
    },
    {
     "name": "stderr",
     "output_type": "stream",
     "text": [
      "5it [00:01,  4.36it/s]\n"
     ]
    },
    {
     "name": "stdout",
     "output_type": "stream",
     "text": [
      "0.6529411764705882\n"
     ]
    },
    {
     "name": "stderr",
     "output_type": "stream",
     "text": [
      "5it [00:01,  3.88it/s]\n"
     ]
    },
    {
     "name": "stdout",
     "output_type": "stream",
     "text": [
      "0.5764705882352942\n"
     ]
    },
    {
     "name": "stderr",
     "output_type": "stream",
     "text": [
      "5it [00:01,  3.91it/s]\n"
     ]
    },
    {
     "name": "stdout",
     "output_type": "stream",
     "text": [
      "0.884848484848485\n"
     ]
    },
    {
     "name": "stderr",
     "output_type": "stream",
     "text": [
      "5it [00:01,  4.53it/s]\n"
     ]
    },
    {
     "name": "stdout",
     "output_type": "stream",
     "text": [
      "0.7272727272727273\n"
     ]
    },
    {
     "name": "stderr",
     "output_type": "stream",
     "text": [
      "5it [00:01,  4.42it/s]\n"
     ]
    },
    {
     "name": "stdout",
     "output_type": "stream",
     "text": [
      "0.8411764705882353\n"
     ]
    },
    {
     "name": "stderr",
     "output_type": "stream",
     "text": [
      "5it [00:01,  4.93it/s]\n"
     ]
    },
    {
     "name": "stdout",
     "output_type": "stream",
     "text": [
      "0.7647058823529411\n"
     ]
    },
    {
     "name": "stderr",
     "output_type": "stream",
     "text": [
      "5it [00:01,  3.83it/s]\n",
      " 50%|█████     | 3/6 [02:40<02:40, 53.57s/it]"
     ]
    },
    {
     "name": "stdout",
     "output_type": "stream",
     "text": [
      "0.75625\n",
      "[('ee', 'fi', 'ge', 'he', 'it'), ('ee', 'fi', 'ge', 'he', 'en'), ('ee', 'fi', 'ge', 'he', 'sp'), ('ee', 'fi', 'ge', 'it', 'en'), ('ee', 'fi', 'ge', 'it', 'sp'), ('ee', 'fi', 'ge', 'en', 'sp'), ('ee', 'fi', 'he', 'it', 'en'), ('ee', 'fi', 'he', 'it', 'sp'), ('ee', 'fi', 'he', 'en', 'sp'), ('ee', 'fi', 'it', 'en', 'sp'), ('ee', 'ge', 'he', 'it', 'en'), ('ee', 'ge', 'he', 'it', 'sp'), ('ee', 'ge', 'he', 'en', 'sp'), ('ee', 'ge', 'it', 'en', 'sp'), ('ee', 'he', 'it', 'en', 'sp'), ('fi', 'ge', 'he', 'it', 'en'), ('fi', 'ge', 'he', 'it', 'sp'), ('fi', 'ge', 'he', 'en', 'sp'), ('fi', 'ge', 'it', 'en', 'sp'), ('fi', 'he', 'it', 'en', 'sp'), ('ge', 'he', 'it', 'en', 'sp')]\n"
     ]
    },
    {
     "name": "stderr",
     "output_type": "stream",
     "text": [
      "5it [00:01,  3.34it/s]\n"
     ]
    },
    {
     "name": "stdout",
     "output_type": "stream",
     "text": [
      "0.7441860465116279\n"
     ]
    },
    {
     "name": "stderr",
     "output_type": "stream",
     "text": [
      "5it [00:01,  3.85it/s]\n"
     ]
    },
    {
     "name": "stdout",
     "output_type": "stream",
     "text": [
      "0.8363636363636363\n"
     ]
    },
    {
     "name": "stderr",
     "output_type": "stream",
     "text": [
      "5it [00:01,  2.53it/s]\n"
     ]
    },
    {
     "name": "stdout",
     "output_type": "stream",
     "text": [
      "0.6772727272727271\n"
     ]
    },
    {
     "name": "stderr",
     "output_type": "stream",
     "text": [
      "5it [00:02,  2.42it/s]\n"
     ]
    },
    {
     "name": "stdout",
     "output_type": "stream",
     "text": [
      "0.8454545454545455\n"
     ]
    },
    {
     "name": "stderr",
     "output_type": "stream",
     "text": [
      "5it [00:02,  2.29it/s]\n"
     ]
    },
    {
     "name": "stdout",
     "output_type": "stream",
     "text": [
      "0.65\n"
     ]
    },
    {
     "name": "stderr",
     "output_type": "stream",
     "text": [
      "5it [00:01,  2.93it/s]\n"
     ]
    },
    {
     "name": "stdout",
     "output_type": "stream",
     "text": [
      "0.8044444444444444\n"
     ]
    },
    {
     "name": "stderr",
     "output_type": "stream",
     "text": [
      "5it [00:02,  2.34it/s]\n"
     ]
    },
    {
     "name": "stdout",
     "output_type": "stream",
     "text": [
      "0.8095238095238095\n"
     ]
    },
    {
     "name": "stderr",
     "output_type": "stream",
     "text": [
      "5it [00:01,  3.18it/s]\n"
     ]
    },
    {
     "name": "stdout",
     "output_type": "stream",
     "text": [
      "0.5952380952380951\n"
     ]
    },
    {
     "name": "stderr",
     "output_type": "stream",
     "text": [
      "5it [00:01,  3.36it/s]\n"
     ]
    },
    {
     "name": "stdout",
     "output_type": "stream",
     "text": [
      "0.7395348837209302\n"
     ]
    },
    {
     "name": "stderr",
     "output_type": "stream",
     "text": [
      "5it [00:01,  3.97it/s]\n"
     ]
    },
    {
     "name": "stdout",
     "output_type": "stream",
     "text": [
      "0.6863636363636363\n"
     ]
    },
    {
     "name": "stderr",
     "output_type": "stream",
     "text": [
      "5it [00:01,  3.98it/s]\n"
     ]
    },
    {
     "name": "stdout",
     "output_type": "stream",
     "text": [
      "0.8904761904761903\n"
     ]
    },
    {
     "name": "stderr",
     "output_type": "stream",
     "text": [
      "5it [00:01,  4.05it/s]\n"
     ]
    },
    {
     "name": "stdout",
     "output_type": "stream",
     "text": [
      "0.7333333333333333\n"
     ]
    },
    {
     "name": "stderr",
     "output_type": "stream",
     "text": [
      "5it [00:01,  2.78it/s]\n"
     ]
    },
    {
     "name": "stdout",
     "output_type": "stream",
     "text": [
      "0.8883720930232558\n"
     ]
    },
    {
     "name": "stderr",
     "output_type": "stream",
     "text": [
      "5it [00:01,  2.93it/s]\n"
     ]
    },
    {
     "name": "stdout",
     "output_type": "stream",
     "text": [
      "0.8272727272727272\n"
     ]
    },
    {
     "name": "stderr",
     "output_type": "stream",
     "text": [
      "5it [00:01,  4.06it/s]\n"
     ]
    },
    {
     "name": "stdout",
     "output_type": "stream",
     "text": [
      "0.7333333333333333\n"
     ]
    },
    {
     "name": "stderr",
     "output_type": "stream",
     "text": [
      "5it [00:01,  3.52it/s]\n"
     ]
    },
    {
     "name": "stdout",
     "output_type": "stream",
     "text": [
      "0.7904761904761906\n"
     ]
    },
    {
     "name": "stderr",
     "output_type": "stream",
     "text": [
      "5it [00:01,  3.42it/s]\n"
     ]
    },
    {
     "name": "stdout",
     "output_type": "stream",
     "text": [
      "0.5571428571428572\n"
     ]
    },
    {
     "name": "stderr",
     "output_type": "stream",
     "text": [
      "5it [00:02,  2.38it/s]\n"
     ]
    },
    {
     "name": "stdout",
     "output_type": "stream",
     "text": [
      "0.7255813953488373\n"
     ]
    },
    {
     "name": "stderr",
     "output_type": "stream",
     "text": [
      "5it [00:02,  2.39it/s]\n"
     ]
    },
    {
     "name": "stdout",
     "output_type": "stream",
     "text": [
      "0.6954545454545454\n"
     ]
    },
    {
     "name": "stderr",
     "output_type": "stream",
     "text": [
      "5it [00:01,  2.65it/s]\n"
     ]
    },
    {
     "name": "stdout",
     "output_type": "stream",
     "text": [
      "0.5952380952380952\n"
     ]
    },
    {
     "name": "stderr",
     "output_type": "stream",
     "text": [
      "5it [00:02,  2.18it/s]\n",
      " 67%|██████▋   | 4/6 [03:17<01:33, 46.73s/it]"
     ]
    },
    {
     "name": "stdout",
     "output_type": "stream",
     "text": [
      "0.7238095238095239\n",
      "[('ee', 'fi', 'ge', 'he', 'it', 'en'), ('ee', 'fi', 'ge', 'he', 'it', 'sp'), ('ee', 'fi', 'ge', 'he', 'en', 'sp'), ('ee', 'fi', 'ge', 'it', 'en', 'sp'), ('ee', 'fi', 'he', 'it', 'en', 'sp'), ('ee', 'ge', 'he', 'it', 'en', 'sp'), ('fi', 'ge', 'he', 'it', 'en', 'sp')]\n"
     ]
    },
    {
     "name": "stderr",
     "output_type": "stream",
     "text": [
      "5it [00:02,  2.23it/s]\n"
     ]
    },
    {
     "name": "stdout",
     "output_type": "stream",
     "text": [
      "0.826923076923077\n"
     ]
    },
    {
     "name": "stderr",
     "output_type": "stream",
     "text": [
      "5it [00:01,  2.53it/s]\n"
     ]
    },
    {
     "name": "stdout",
     "output_type": "stream",
     "text": [
      "0.6461538461538461\n"
     ]
    },
    {
     "name": "stderr",
     "output_type": "stream",
     "text": [
      "5it [00:02,  2.00it/s]\n"
     ]
    },
    {
     "name": "stdout",
     "output_type": "stream",
     "text": [
      "0.7038461538461538\n"
     ]
    },
    {
     "name": "stderr",
     "output_type": "stream",
     "text": [
      "5it [00:02,  2.38it/s]\n"
     ]
    },
    {
     "name": "stdout",
     "output_type": "stream",
     "text": [
      "0.7471698113207547\n"
     ]
    },
    {
     "name": "stderr",
     "output_type": "stream",
     "text": [
      "5it [00:03,  1.66it/s]\n"
     ]
    },
    {
     "name": "stdout",
     "output_type": "stream",
     "text": [
      "0.6705882352941177\n"
     ]
    },
    {
     "name": "stderr",
     "output_type": "stream",
     "text": [
      "5it [00:02,  2.17it/s]\n"
     ]
    },
    {
     "name": "stdout",
     "output_type": "stream",
     "text": [
      "0.7568627450980393\n"
     ]
    },
    {
     "name": "stderr",
     "output_type": "stream",
     "text": [
      "5it [00:02,  1.71it/s]\n",
      " 83%|████████▎ | 5/6 [03:34<00:36, 36.10s/it]"
     ]
    },
    {
     "name": "stdout",
     "output_type": "stream",
     "text": [
      "0.6392156862745098\n",
      "[('ee', 'fi', 'ge', 'he', 'it', 'en', 'sp')]\n"
     ]
    },
    {
     "name": "stderr",
     "output_type": "stream",
     "text": [
      "5it [00:02,  1.93it/s]\n",
      "100%|██████████| 6/6 [03:37<00:00, 36.17s/it]"
     ]
    },
    {
     "name": "stdout",
     "output_type": "stream",
     "text": [
      "0.6599999999999999\n"
     ]
    },
    {
     "name": "stderr",
     "output_type": "stream",
     "text": [
      "\n"
     ]
    }
   ],
   "source": [
    "##### only for 4 lang check: #####\n",
    "\n",
    "#df_main = df_main[df_main[('labels', 'lang')].isin(['ee', 'fi', 'it', 'sp'])]\n",
    "\n",
    "dict_performances = {}\n",
    "dict_performances_groups = []\n",
    "\n",
    "for i in tqdm(range(2, 8)): # 8\n",
    "    comb = list(itertools.combinations(['ee', 'fi', 'ge', 'he', 'it', 'en', 'sp'], i))\n",
    "    print(comb)\n",
    "    temp = []\n",
    "    for c in comb:\n",
    "        #print(c)\n",
    "        df_main_ = df_main[df_main[('labels', 'lang')].isin(c)]\n",
    "        logreg = LogisticRegression(C=1e5, multi_class='multinomial', solver='lbfgs', random_state=0)\n",
    "        columns = ['TF_uni', 'FP_uni', 'FF_uni', 'TF_bi', 'FP_bi', 'FF_bi', 'TF_tri', 'FP_tri', 'FF_tri' ]\n",
    "        cross_val_scores = get_cv_score(df_main_, columns, logreg)\n",
    "        dict_performances[str(c)] = np.mean(cross_val_scores)\n",
    "        temp.append(np.mean(cross_val_scores))\n",
    "    dict_performances_groups.append([i, np.mean(temp)])\n",
    "##########"
   ]
  },
  {
   "cell_type": "code",
   "execution_count": 7,
   "metadata": {},
   "outputs": [
    {
     "data": {
      "text/plain": [
       "{\"('ee', 'fi')\": 0.9894736842105264,\n",
       " \"('ee', 'ge')\": 0.9894736842105264,\n",
       " \"('ee', 'he')\": 1.0,\n",
       " \"('ee', 'it')\": 1.0,\n",
       " \"('ee', 'en')\": 1.0,\n",
       " \"('ee', 'sp')\": 1.0,\n",
       " \"('fi', 'ge')\": 0.8947368421052632,\n",
       " \"('fi', 'he')\": 0.8470588235294118,\n",
       " \"('fi', 'it')\": 0.8,\n",
       " \"('fi', 'en')\": 1.0,\n",
       " \"('fi', 'sp')\": 0.7222222222222222,\n",
       " \"('ge', 'he')\": 0.8823529411764707,\n",
       " \"('ge', 'it')\": 0.9666666666666666,\n",
       " \"('ge', 'en')\": 1.0,\n",
       " \"('ge', 'sp')\": 0.9222222222222222,\n",
       " \"('he', 'it')\": 0.875,\n",
       " \"('he', 'en')\": 1.0,\n",
       " \"('he', 'sp')\": 0.7625,\n",
       " \"('it', 'en')\": 1.0,\n",
       " \"('it', 'sp')\": 0.7058823529411764,\n",
       " \"('en', 'sp')\": 1.0,\n",
       " \"('ee', 'fi', 'ge')\": 0.8857142857142858,\n",
       " \"('ee', 'fi', 'he')\": 0.8692307692307691,\n",
       " \"('ee', 'fi', 'it')\": 0.8518518518518517,\n",
       " \"('ee', 'fi', 'en')\": 1.0,\n",
       " \"('ee', 'fi', 'sp')\": 0.6962962962962964,\n",
       " \"('ee', 'ge', 'he')\": 0.9307692307692308,\n",
       " \"('ee', 'ge', 'it')\": 0.9407407407407407,\n",
       " \"('ee', 'ge', 'en')\": 0.9851851851851852,\n",
       " \"('ee', 'ge', 'sp')\": 0.8962962962962964,\n",
       " \"('ee', 'he', 'it')\": 0.9119999999999999,\n",
       " \"('ee', 'he', 'en')\": 0.992,\n",
       " \"('ee', 'he', 'sp')\": 0.8480000000000001,\n",
       " \"('ee', 'it', 'en')\": 1.0,\n",
       " \"('ee', 'it', 'sp')\": 0.8307692307692308,\n",
       " \"('ee', 'en', 'sp')\": 0.9923076923076923,\n",
       " \"('fi', 'ge', 'he')\": 0.7692307692307694,\n",
       " \"('fi', 'ge', 'it')\": 0.7555555555555555,\n",
       " \"('fi', 'ge', 'en')\": 0.9407407407407409,\n",
       " \"('fi', 'ge', 'sp')\": 0.6296296296296297,\n",
       " \"('fi', 'he', 'it')\": 0.656,\n",
       " \"('fi', 'he', 'en')\": 0.8480000000000001,\n",
       " \"('fi', 'he', 'sp')\": 0.504,\n",
       " \"('fi', 'it', 'en')\": 0.8384615384615384,\n",
       " \"('fi', 'it', 'sp')\": 0.4615384615384615,\n",
       " \"('fi', 'en', 'sp')\": 0.6692307692307692,\n",
       " \"('ge', 'he', 'it')\": 0.8320000000000001,\n",
       " \"('ge', 'he', 'en')\": 0.9199999999999999,\n",
       " \"('ge', 'he', 'sp')\": 0.784,\n",
       " \"('ge', 'it', 'en')\": 0.9615384615384617,\n",
       " \"('ge', 'it', 'sp')\": 0.7692307692307693,\n",
       " \"('ge', 'en', 'sp')\": 0.9153846153846155,\n",
       " \"('he', 'it', 'en')\": 0.9083333333333332,\n",
       " \"('he', 'it', 'sp')\": 0.625,\n",
       " \"('he', 'en', 'sp')\": 0.875,\n",
       " \"('it', 'en', 'sp')\": 0.792,\n",
       " \"('ee', 'fi', 'ge', 'he')\": 0.8228571428571427,\n",
       " \"('ee', 'fi', 'ge', 'it')\": 0.8222222222222222,\n",
       " \"('ee', 'fi', 'ge', 'en')\": 0.9555555555555555,\n",
       " \"('ee', 'fi', 'ge', 'sp')\": 0.6555555555555556,\n",
       " \"('ee', 'fi', 'he', 'it')\": 0.7529411764705883,\n",
       " \"('ee', 'fi', 'he', 'en')\": 0.8941176470588234,\n",
       " \"('ee', 'fi', 'he', 'sp')\": 0.6705882352941177,\n",
       " \"('ee', 'fi', 'it', 'en')\": 0.8628571428571428,\n",
       " \"('ee', 'fi', 'it', 'sp')\": 0.6285714285714284,\n",
       " \"('ee', 'fi', 'en', 'sp')\": 0.788888888888889,\n",
       " \"('ee', 'ge', 'he', 'it')\": 0.8941176470588234,\n",
       " \"('ee', 'ge', 'he', 'en')\": 0.9529411764705882,\n",
       " \"('ee', 'ge', 'he', 'sp')\": 0.8411764705882353,\n",
       " \"('ee', 'ge', 'it', 'en')\": 0.937142857142857,\n",
       " \"('ee', 'ge', 'it', 'sp')\": 0.7885714285714286,\n",
       " \"('ee', 'ge', 'en', 'sp')\": 0.9333333333333332,\n",
       " \"('ee', 'he', 'it', 'en')\": 0.9272727272727274,\n",
       " \"('ee', 'he', 'it', 'sp')\": 0.7636363636363637,\n",
       " \"('ee', 'he', 'en', 'sp')\": 0.8882352941176471,\n",
       " \"('ee', 'it', 'en', 'sp')\": 0.8352941176470589,\n",
       " \"('fi', 'ge', 'he', 'it')\": 0.7117647058823529,\n",
       " \"('fi', 'ge', 'he', 'en')\": 0.8529411764705882,\n",
       " \"('fi', 'ge', 'he', 'sp')\": 0.5941176470588235,\n",
       " \"('fi', 'ge', 'it', 'en')\": 0.7885714285714286,\n",
       " \"('fi', 'ge', 'it', 'sp')\": 0.5828571428571429,\n",
       " \"('fi', 'ge', 'en', 'sp')\": 0.6944444444444444,\n",
       " \"('fi', 'he', 'it', 'en')\": 0.7818181818181819,\n",
       " \"('fi', 'he', 'it', 'sp')\": 0.4909090909090909,\n",
       " \"('fi', 'he', 'en', 'sp')\": 0.6529411764705882,\n",
       " \"('fi', 'it', 'en', 'sp')\": 0.5764705882352942,\n",
       " \"('ge', 'he', 'it', 'en')\": 0.884848484848485,\n",
       " \"('ge', 'he', 'it', 'sp')\": 0.7272727272727273,\n",
       " \"('ge', 'he', 'en', 'sp')\": 0.8411764705882353,\n",
       " \"('ge', 'it', 'en', 'sp')\": 0.7647058823529411,\n",
       " \"('he', 'it', 'en', 'sp')\": 0.75625,\n",
       " \"('ee', 'fi', 'ge', 'he', 'it')\": 0.7441860465116279,\n",
       " \"('ee', 'fi', 'ge', 'he', 'en')\": 0.8363636363636363,\n",
       " \"('ee', 'fi', 'ge', 'he', 'sp')\": 0.6772727272727271,\n",
       " \"('ee', 'fi', 'ge', 'it', 'en')\": 0.8454545454545455,\n",
       " \"('ee', 'fi', 'ge', 'it', 'sp')\": 0.65,\n",
       " \"('ee', 'fi', 'ge', 'en', 'sp')\": 0.8044444444444444,\n",
       " \"('ee', 'fi', 'he', 'it', 'en')\": 0.8095238095238095,\n",
       " \"('ee', 'fi', 'he', 'it', 'sp')\": 0.5952380952380951,\n",
       " \"('ee', 'fi', 'he', 'en', 'sp')\": 0.7395348837209302,\n",
       " \"('ee', 'fi', 'it', 'en', 'sp')\": 0.6863636363636363,\n",
       " \"('ee', 'ge', 'he', 'it', 'en')\": 0.8904761904761903,\n",
       " \"('ee', 'ge', 'he', 'it', 'sp')\": 0.7333333333333333,\n",
       " \"('ee', 'ge', 'he', 'en', 'sp')\": 0.8883720930232558,\n",
       " \"('ee', 'ge', 'it', 'en', 'sp')\": 0.8272727272727272,\n",
       " \"('ee', 'he', 'it', 'en', 'sp')\": 0.7333333333333333,\n",
       " \"('fi', 'ge', 'he', 'it', 'en')\": 0.7904761904761906,\n",
       " \"('fi', 'ge', 'he', 'it', 'sp')\": 0.5571428571428572,\n",
       " \"('fi', 'ge', 'he', 'en', 'sp')\": 0.7255813953488373,\n",
       " \"('fi', 'ge', 'it', 'en', 'sp')\": 0.6954545454545454,\n",
       " \"('fi', 'he', 'it', 'en', 'sp')\": 0.5952380952380952,\n",
       " \"('ge', 'he', 'it', 'en', 'sp')\": 0.7238095238095239,\n",
       " \"('ee', 'fi', 'ge', 'he', 'it', 'en')\": 0.826923076923077,\n",
       " \"('ee', 'fi', 'ge', 'he', 'it', 'sp')\": 0.6461538461538461,\n",
       " \"('ee', 'fi', 'ge', 'he', 'en', 'sp')\": 0.7038461538461538,\n",
       " \"('ee', 'fi', 'ge', 'it', 'en', 'sp')\": 0.7471698113207547,\n",
       " \"('ee', 'fi', 'he', 'it', 'en', 'sp')\": 0.6705882352941177,\n",
       " \"('ee', 'ge', 'he', 'it', 'en', 'sp')\": 0.7568627450980393,\n",
       " \"('fi', 'ge', 'he', 'it', 'en', 'sp')\": 0.6392156862745098,\n",
       " \"('ee', 'fi', 'ge', 'he', 'it', 'en', 'sp')\": 0.6599999999999999}"
      ]
     },
     "execution_count": 7,
     "metadata": {},
     "output_type": "execute_result"
    }
   ],
   "source": [
    "dict_performances"
   ]
  },
  {
   "cell_type": "code",
   "execution_count": 8,
   "metadata": {},
   "outputs": [
    {
     "data": {
      "text/plain": [
       "[[2, 0.9217899732992612],\n",
       " [3, 0.8310296063724636],\n",
       " [4, 0.7804847302557387],\n",
       " [5, 0.7404224814191591],\n",
       " [6, 0.7129656507014998],\n",
       " [7, 0.6599999999999999]]"
      ]
     },
     "execution_count": 8,
     "metadata": {},
     "output_type": "execute_result"
    }
   ],
   "source": [
    "dict_performances_groups"
   ]
  },
  {
   "cell_type": "code",
   "execution_count": 9,
   "metadata": {},
   "outputs": [],
   "source": [
    "import matplotlib.pyplot as plt"
   ]
  },
  {
   "cell_type": "code",
   "execution_count": 12,
   "metadata": {},
   "outputs": [
    {
     "data": {
      "image/png": "[encoded data removed]",
      "text/plain": [
       "<Figure size 600x400 with 1 Axes>"
      ]
     },
     "metadata": {},
     "output_type": "display_data"
    }
   ],
   "source": [
    "\n",
    "fig, axes = plt.subplots(ncols=1, figsize=(6,4))\n",
    "axes.plot(np.array(dict_performances_groups)[:, 0],\n",
    "        [i * 100 for i in  np.array(dict_performances_groups)[:, 1]], marker='o')\n",
    "# mean performance per group of all combinations of languages\n",
    "#axes.set_title(' Mean performance per group of all possible combinations of languages. E.g. 2 on the x axis means a group all language pairs amd y shows the mean performance.')\n",
    "axes.set_xlabel('Number of languages per combination')\n",
    "axes.set_ylabel('Performance %')\n",
    "axes.set_ylim(0, 100);"
   ]
  },
  {
   "cell_type": "markdown",
   "metadata": {},
   "source": [
    "## LogReg NLIR"
   ]
  },
  {
   "cell_type": "code",
   "execution_count": 13,
   "metadata": {},
   "outputs": [],
   "source": [
    "# defining model with correct solver\n",
    "logreg = LogisticRegression(C=1e5, multi_class='multinomial', solver='lbfgs', random_state=0)"
   ]
  },
  {
   "cell_type": "code",
   "execution_count": 14,
   "metadata": {},
   "outputs": [],
   "source": [
    "# columns used in training\n",
    "columns = ['TF_uni', 'FP_uni', 'FF_uni', 'TF_bi', 'FP_bi', 'FF_bi', 'TF_tri', 'FP_tri', 'FF_tri' ]"
   ]
  },
  {
   "cell_type": "markdown",
   "metadata": {},
   "source": [
    "Cross validation score: \n",
    "\n",
    "(only needed for report and not for further coding)"
   ]
  },
  {
   "cell_type": "code",
   "execution_count": 15,
   "metadata": {},
   "outputs": [
    {
     "name": "stderr",
     "output_type": "stream",
     "text": [
      "5it [00:08,  1.79s/it]"
     ]
    },
    {
     "name": "stdout",
     "output_type": "stream",
     "text": [
      "0.6599999999999999\n",
      "0.6599999999999999\n"
     ]
    },
    {
     "name": "stderr",
     "output_type": "stream",
     "text": [
      "\n"
     ]
    }
   ],
   "source": [
    "cross_val_scores = get_cv_score(df_main, columns, logreg)\n",
    "print(np.mean(cross_val_scores))\n",
    "#cross_val_scores # [0.65, 0.5666666666666667, 0.6, 0.5166666666666667, 0.5666666666666667]"
   ]
  },
  {
   "cell_type": "code",
   "execution_count": 16,
   "metadata": {},
   "outputs": [],
   "source": [
    "# real train-test split to be used for further analysis: \n",
    "train_subset = df_main[columns]\n",
    "train_label_subset = df_main[('labels', 'lang_code')]\n",
    "\n",
    "gss = GroupShuffleSplit(n_splits=5, test_size = 0.3, random_state=42)\n",
    "split_indexes = list(gss.split(train_subset, train_label_subset, df_main[('id','uniform_id')]))[0]\n",
    "train_idx = list(split_indexes[0])\n",
    "test_idx = list(split_indexes[1])\n",
    "\n",
    "X_train = train_subset.iloc[train_idx]\n",
    "y_train = train_label_subset.iloc[train_idx]\n",
    "X_test = train_subset.iloc[test_idx]\n",
    "y_test = train_label_subset.iloc[test_idx]\n",
    "\n",
    "test_lang = df_main[('labels', 'lang')].iloc[test_idx]\n",
    "test_lang_codes = df_main[('labels', 'lang_code')].iloc[test_idx]"
   ]
  },
  {
   "cell_type": "code",
   "execution_count": 17,
   "metadata": {},
   "outputs": [
    {
     "name": "stdout",
     "output_type": "stream",
     "text": [
      "Test set accuracy: 0.7777777777777778; overall cross validation accuracy 0.6599999999999999\n"
     ]
    }
   ],
   "source": [
    "# fit model:\n",
    "logreg.fit(X_train, y_train)\n",
    "\n",
    "# only for score count:\n",
    "y_pred = logreg.predict(X_test)\n",
    "test_acc_score = accuracy_score(y_test, y_pred)\n",
    "print(f'Test set accuracy: {test_acc_score}; overall cross validation accuracy {np.mean(cross_val_scores)}')\n",
    "# Test set accuracy: 0.6888888888888889; overall cross validation accuracy 0.5800000000000001 for all languages\n",
    "# Test set accuracy: 0.4074074074074074; overall cross validation accuracy 0.4914285714285714 for 4 languages\n"
   ]
  },
  {
   "cell_type": "markdown",
   "metadata": {},
   "source": [
    "Test set accuracy: 0.7857142857142857; overall cross validation accuracy 0.6736842105263158 for ee - fi (46)\n",
    "\n",
    "Test set accuracy: 0.8571428571428571; overall cross validation accuracy 0.711111111111111 for ee - sp (44)\n",
    "\n",
    "Test set accuracy: 0.7692307692307693; overall cross validation accuracy 0.8 for ee -it  (43)\n",
    "\n",
    "Test set accuracy: 0.5384615384615384; overall cross validation accuracy 0.8222222222222222 fi it (43)\n",
    "\n",
    "Test set accuracy: 0.5714285714285714; overall cross validation accuracy 0.6555555555555556 fi sp (44)\n",
    "\n",
    "Test set accuracy: 0.7692307692307693; overall cross validation accuracy 0.6823529411764706 it sp (41)\n",
    "\n",
    "\n",
    "\n",
    "Test set accuracy: 0.5238095238095238; overall cross validation accuracy 0.5407407407407407 ee fi sp \n",
    "\n",
    "Test set accuracy: 0.55; overall cross validation accuracy 0.6814814814814815 ee fi it\n",
    "\n",
    "Test set accuracy: 0.55; overall cross validation accuracy 0.6923076923076923 ee sp it\n",
    "\n",
    "Test set accuracy: 0.5; overall cross validation accuracy 0.6538461538461539 fi sp it\n",
    "\n",
    "\n",
    "\n",
    "\n",
    "\n",
    "\n",
    "\n",
    "\n",
    "\n",
    "\n",
    "\n",
    "\n",
    "\n",
    "\n",
    "\n",
    "\n",
    "\n"
   ]
  },
  {
   "cell_type": "markdown",
   "metadata": {},
   "source": [
    "### LogReg Similarity"
   ]
  },
  {
   "cell_type": "markdown",
   "metadata": {},
   "source": [
    "Create dictionary with df for each language separately to be used for similarity metrics:"
   ]
  },
  {
   "cell_type": "code",
   "execution_count": 18,
   "metadata": {},
   "outputs": [
    {
     "name": "stderr",
     "output_type": "stream",
     "text": [
      "/tmp/ipykernel_3513/2390796384.py:1: SettingWithCopyWarning: \n",
      "A value is trying to be set on a copy of a slice from a DataFrame.\n",
      "Try using .loc[row_indexer,col_indexer] = value instead\n",
      "\n",
      "See the caveats in the documentation: https://pandas.pydata.org/pandas-docs/stable/user_guide/indexing.html#returning-a-view-versus-a-copy\n",
      "  X_test['lang'] = test_lang # add language column\n"
     ]
    }
   ],
   "source": [
    "X_test['lang'] = test_lang # add language column\n",
    "languages = list(test_lang.unique())\n",
    "dict_lang = {}\n",
    "for ll in languages:\n",
    "    df = X_test[X_test['lang'] == ll]\n",
    "    dict_lang[ll] = df\n",
    "\n",
    "\n",
    "dict_proba ={}\n",
    "len_dfs = []\n",
    "lang_identifier = []\n",
    "for key in dict_lang.keys():\n",
    "    lang_df = dict_lang[key][columns]\n",
    "    test_proba = logreg.predict_proba(lang_df) # predicting probabilities here\n",
    "    len_df = len(lang_df)\n",
    "    test_proba = test_proba.sum(axis=0)   # sum bc they are normalised by number of participants\n",
    "    dict_proba[key] = test_proba\n",
    "    len_dfs.append(len_df) # record length of language df\n",
    "    lang_identifier.append(key)"
   ]
  },
  {
   "cell_type": "code",
   "execution_count": 19,
   "metadata": {},
   "outputs": [],
   "source": [
    "# to pandas:\n",
    "df_predictions = pd.DataFrame(dict_proba).reset_index()\n",
    "# cols are lang on which predicted and rows are outputs\n",
    "\n",
    "# add col with lenghts and lang name\n",
    "df_predictions['length'] = len_dfs\n",
    "df_predictions['lang'] = lang_identifier"
   ]
  },
  {
   "cell_type": "code",
   "execution_count": 20,
   "metadata": {},
   "outputs": [
    {
     "data": {
      "text/html": [
       "<div>\n",
       "<style scoped>\n",
       "    .dataframe tbody tr th:only-of-type {\n",
       "        vertical-align: middle;\n",
       "    }\n",
       "\n",
       "    .dataframe tbody tr th {\n",
       "        vertical-align: top;\n",
       "    }\n",
       "\n",
       "    .dataframe thead th {\n",
       "        text-align: right;\n",
       "    }\n",
       "</style>\n",
       "<table border=\"1\" class=\"dataframe\">\n",
       "  <thead>\n",
       "    <tr style=\"text-align: right;\">\n",
       "      <th></th>\n",
       "      <th>index</th>\n",
       "      <th>ee</th>\n",
       "      <th>fi</th>\n",
       "      <th>ge</th>\n",
       "      <th>he</th>\n",
       "      <th>it</th>\n",
       "      <th>en</th>\n",
       "      <th>sp</th>\n",
       "      <th>length</th>\n",
       "      <th>lang</th>\n",
       "    </tr>\n",
       "  </thead>\n",
       "  <tbody>\n",
       "    <tr>\n",
       "      <th>0</th>\n",
       "      <td>0</td>\n",
       "      <td>9.846246e+00</td>\n",
       "      <td>6.157969e-04</td>\n",
       "      <td>2.507169e-05</td>\n",
       "      <td>8.313483e-06</td>\n",
       "      <td>2.015033e-05</td>\n",
       "      <td>1.469545e-07</td>\n",
       "      <td>6.666040e-03</td>\n",
       "      <td>10</td>\n",
       "      <td>ee</td>\n",
       "    </tr>\n",
       "    <tr>\n",
       "      <th>1</th>\n",
       "      <td>1</td>\n",
       "      <td>8.926568e-11</td>\n",
       "      <td>7.916918e-10</td>\n",
       "      <td>1.329820e-12</td>\n",
       "      <td>1.536341e-11</td>\n",
       "      <td>2.232581e-08</td>\n",
       "      <td>7.999684e+00</td>\n",
       "      <td>3.792708e-07</td>\n",
       "      <td>6</td>\n",
       "      <td>fi</td>\n",
       "    </tr>\n",
       "    <tr>\n",
       "      <th>2</th>\n",
       "      <td>2</td>\n",
       "      <td>1.493617e-01</td>\n",
       "      <td>2.745390e+00</td>\n",
       "      <td>2.250879e-02</td>\n",
       "      <td>3.129863e-01</td>\n",
       "      <td>3.170024e-01</td>\n",
       "      <td>3.137036e-04</td>\n",
       "      <td>2.277848e+00</td>\n",
       "      <td>8</td>\n",
       "      <td>ge</td>\n",
       "    </tr>\n",
       "    <tr>\n",
       "      <th>3</th>\n",
       "      <td>3</td>\n",
       "      <td>4.444751e-04</td>\n",
       "      <td>1.667750e+00</td>\n",
       "      <td>7.661695e+00</td>\n",
       "      <td>8.474113e-04</td>\n",
       "      <td>1.415717e-01</td>\n",
       "      <td>1.748333e-06</td>\n",
       "      <td>4.181654e-02</td>\n",
       "      <td>2</td>\n",
       "      <td>he</td>\n",
       "    </tr>\n",
       "    <tr>\n",
       "      <th>4</th>\n",
       "      <td>4</td>\n",
       "      <td>1.497419e-04</td>\n",
       "      <td>3.146220e-01</td>\n",
       "      <td>1.387545e-01</td>\n",
       "      <td>9.979664e-01</td>\n",
       "      <td>2.449953e-02</td>\n",
       "      <td>4.458954e-09</td>\n",
       "      <td>3.366872e-02</td>\n",
       "      <td>6</td>\n",
       "      <td>it</td>\n",
       "    </tr>\n",
       "    <tr>\n",
       "      <th>5</th>\n",
       "      <td>5</td>\n",
       "      <td>3.414054e-03</td>\n",
       "      <td>7.894457e-01</td>\n",
       "      <td>8.266450e-02</td>\n",
       "      <td>6.661426e-01</td>\n",
       "      <td>3.736269e+00</td>\n",
       "      <td>5.597879e-08</td>\n",
       "      <td>1.688869e+00</td>\n",
       "      <td>8</td>\n",
       "      <td>en</td>\n",
       "    </tr>\n",
       "    <tr>\n",
       "      <th>6</th>\n",
       "      <td>6</td>\n",
       "      <td>3.842800e-04</td>\n",
       "      <td>4.821766e-01</td>\n",
       "      <td>9.435238e-02</td>\n",
       "      <td>2.204896e-02</td>\n",
       "      <td>1.780637e+00</td>\n",
       "      <td>1.847541e-08</td>\n",
       "      <td>9.511312e-01</td>\n",
       "      <td>5</td>\n",
       "      <td>sp</td>\n",
       "    </tr>\n",
       "  </tbody>\n",
       "</table>\n",
       "</div>"
      ],
      "text/plain": [
       "   index            ee            fi            ge            he  \\\n",
       "0      0  9.846246e+00  6.157969e-04  2.507169e-05  8.313483e-06   \n",
       "1      1  8.926568e-11  7.916918e-10  1.329820e-12  1.536341e-11   \n",
       "2      2  1.493617e-01  2.745390e+00  2.250879e-02  3.129863e-01   \n",
       "3      3  4.444751e-04  1.667750e+00  7.661695e+00  8.474113e-04   \n",
       "4      4  1.497419e-04  3.146220e-01  1.387545e-01  9.979664e-01   \n",
       "5      5  3.414054e-03  7.894457e-01  8.266450e-02  6.661426e-01   \n",
       "6      6  3.842800e-04  4.821766e-01  9.435238e-02  2.204896e-02   \n",
       "\n",
       "             it            en            sp  length lang  \n",
       "0  2.015033e-05  1.469545e-07  6.666040e-03      10   ee  \n",
       "1  2.232581e-08  7.999684e+00  3.792708e-07       6   fi  \n",
       "2  3.170024e-01  3.137036e-04  2.277848e+00       8   ge  \n",
       "3  1.415717e-01  1.748333e-06  4.181654e-02       2   he  \n",
       "4  2.449953e-02  4.458954e-09  3.366872e-02       6   it  \n",
       "5  3.736269e+00  5.597879e-08  1.688869e+00       8   en  \n",
       "6  1.780637e+00  1.847541e-08  9.511312e-01       5   sp  "
      ]
     },
     "execution_count": 20,
     "metadata": {},
     "output_type": "execute_result"
    }
   ],
   "source": [
    "df_predictions"
   ]
  },
  {
   "cell_type": "markdown",
   "metadata": {},
   "source": [
    "Convert into pair dictionary:"
   ]
  },
  {
   "cell_type": "code",
   "execution_count": 21,
   "metadata": {},
   "outputs": [],
   "source": [
    "lang_values = []\n",
    "lang_pairs = []\n",
    "#lang_similarities = {}\n",
    "for key1 in df_predictions['lang'].unique(): \n",
    "    for key2 in df_predictions['lang'].unique(): \n",
    "        val1 = float(df_predictions[df_predictions['lang'] == key1][key2])\n",
    "        val2 = float(df_predictions[df_predictions['lang'] == key2][key1])\n",
    "        len1 = float(df_predictions[df_predictions['lang'] == key1]['length'])\n",
    "        len2 = float(df_predictions[df_predictions['lang'] == key2]['length'])\n",
    "        \n",
    "        #lang_similarities[f'{key1}_{key2}'] = ((val1 + val2) /(len1+len2)) #  divide by corpus length bc summed above\n",
    "        lang_values.append((val1 + val2) / (len1+len2))\n",
    "        lang_pairs.append(f'{key1}_{key2}')"
   ]
  },
  {
   "cell_type": "code",
   "execution_count": 22,
   "metadata": {},
   "outputs": [],
   "source": [
    "df_lang_similarities = pd.DataFrame({'pair': lang_pairs, 'logreg_val': lang_values})"
   ]
  },
  {
   "cell_type": "code",
   "execution_count": 23,
   "metadata": {},
   "outputs": [],
   "source": [
    "# inverted \n",
    "df_lang_similarities['logreg_val_inverted'] = 1 - df_lang_similarities['logreg_val']"
   ]
  },
  {
   "cell_type": "code",
   "execution_count": 24,
   "metadata": {},
   "outputs": [
    {
     "data": {
      "text/html": [
       "<div>\n",
       "<style scoped>\n",
       "    .dataframe tbody tr th:only-of-type {\n",
       "        vertical-align: middle;\n",
       "    }\n",
       "\n",
       "    .dataframe tbody tr th {\n",
       "        vertical-align: top;\n",
       "    }\n",
       "\n",
       "    .dataframe thead th {\n",
       "        text-align: right;\n",
       "    }\n",
       "</style>\n",
       "<table border=\"1\" class=\"dataframe\">\n",
       "  <thead>\n",
       "    <tr style=\"text-align: right;\">\n",
       "      <th></th>\n",
       "      <th>pair</th>\n",
       "      <th>logreg_val</th>\n",
       "      <th>logreg_val_inverted</th>\n",
       "    </tr>\n",
       "  </thead>\n",
       "  <tbody>\n",
       "    <tr>\n",
       "      <th>0</th>\n",
       "      <td>ee_ee</td>\n",
       "      <td>9.846246e-01</td>\n",
       "      <td>0.015375</td>\n",
       "    </tr>\n",
       "    <tr>\n",
       "      <th>1</th>\n",
       "      <td>ee_fi</td>\n",
       "      <td>3.848731e-05</td>\n",
       "      <td>0.999962</td>\n",
       "    </tr>\n",
       "    <tr>\n",
       "      <th>2</th>\n",
       "      <td>ee_ge</td>\n",
       "      <td>8.299264e-03</td>\n",
       "      <td>0.991701</td>\n",
       "    </tr>\n",
       "    <tr>\n",
       "      <th>3</th>\n",
       "      <td>ee_he</td>\n",
       "      <td>3.773238e-05</td>\n",
       "      <td>0.999962</td>\n",
       "    </tr>\n",
       "    <tr>\n",
       "      <th>4</th>\n",
       "      <td>ee_it</td>\n",
       "      <td>1.061826e-05</td>\n",
       "      <td>0.999989</td>\n",
       "    </tr>\n",
       "    <tr>\n",
       "      <th>5</th>\n",
       "      <td>ee_en</td>\n",
       "      <td>1.896778e-04</td>\n",
       "      <td>0.999810</td>\n",
       "    </tr>\n",
       "    <tr>\n",
       "      <th>6</th>\n",
       "      <td>ee_sp</td>\n",
       "      <td>4.700214e-04</td>\n",
       "      <td>0.999530</td>\n",
       "    </tr>\n",
       "    <tr>\n",
       "      <th>7</th>\n",
       "      <td>fi_ee</td>\n",
       "      <td>3.848731e-05</td>\n",
       "      <td>0.999962</td>\n",
       "    </tr>\n",
       "    <tr>\n",
       "      <th>8</th>\n",
       "      <td>fi_fi</td>\n",
       "      <td>1.319486e-10</td>\n",
       "      <td>1.000000</td>\n",
       "    </tr>\n",
       "    <tr>\n",
       "      <th>9</th>\n",
       "      <td>fi_ge</td>\n",
       "      <td>1.960993e-01</td>\n",
       "      <td>0.803901</td>\n",
       "    </tr>\n",
       "    <tr>\n",
       "      <th>10</th>\n",
       "      <td>fi_he</td>\n",
       "      <td>2.084688e-01</td>\n",
       "      <td>0.791531</td>\n",
       "    </tr>\n",
       "    <tr>\n",
       "      <th>11</th>\n",
       "      <td>fi_it</td>\n",
       "      <td>2.621850e-02</td>\n",
       "      <td>0.973782</td>\n",
       "    </tr>\n",
       "    <tr>\n",
       "      <th>12</th>\n",
       "      <td>fi_en</td>\n",
       "      <td>6.277950e-01</td>\n",
       "      <td>0.372205</td>\n",
       "    </tr>\n",
       "    <tr>\n",
       "      <th>13</th>\n",
       "      <td>fi_sp</td>\n",
       "      <td>4.383427e-02</td>\n",
       "      <td>0.956166</td>\n",
       "    </tr>\n",
       "    <tr>\n",
       "      <th>14</th>\n",
       "      <td>ge_ee</td>\n",
       "      <td>8.299264e-03</td>\n",
       "      <td>0.991701</td>\n",
       "    </tr>\n",
       "    <tr>\n",
       "      <th>15</th>\n",
       "      <td>ge_fi</td>\n",
       "      <td>1.960993e-01</td>\n",
       "      <td>0.803901</td>\n",
       "    </tr>\n",
       "    <tr>\n",
       "      <th>16</th>\n",
       "      <td>ge_ge</td>\n",
       "      <td>2.813599e-03</td>\n",
       "      <td>0.997186</td>\n",
       "    </tr>\n",
       "    <tr>\n",
       "      <th>17</th>\n",
       "      <td>ge_he</td>\n",
       "      <td>7.974681e-01</td>\n",
       "      <td>0.202532</td>\n",
       "    </tr>\n",
       "    <tr>\n",
       "      <th>18</th>\n",
       "      <td>ge_it</td>\n",
       "      <td>3.255406e-02</td>\n",
       "      <td>0.967446</td>\n",
       "    </tr>\n",
       "    <tr>\n",
       "      <th>19</th>\n",
       "      <td>ge_en</td>\n",
       "      <td>5.186138e-03</td>\n",
       "      <td>0.994814</td>\n",
       "    </tr>\n",
       "    <tr>\n",
       "      <th>20</th>\n",
       "      <td>ge_sp</td>\n",
       "      <td>1.824769e-01</td>\n",
       "      <td>0.817523</td>\n",
       "    </tr>\n",
       "    <tr>\n",
       "      <th>21</th>\n",
       "      <td>he_ee</td>\n",
       "      <td>3.773238e-05</td>\n",
       "      <td>0.999962</td>\n",
       "    </tr>\n",
       "    <tr>\n",
       "      <th>22</th>\n",
       "      <td>he_fi</td>\n",
       "      <td>2.084688e-01</td>\n",
       "      <td>0.791531</td>\n",
       "    </tr>\n",
       "    <tr>\n",
       "      <th>23</th>\n",
       "      <td>he_ge</td>\n",
       "      <td>7.974681e-01</td>\n",
       "      <td>0.202532</td>\n",
       "    </tr>\n",
       "    <tr>\n",
       "      <th>24</th>\n",
       "      <td>he_he</td>\n",
       "      <td>4.237056e-04</td>\n",
       "      <td>0.999576</td>\n",
       "    </tr>\n",
       "    <tr>\n",
       "      <th>25</th>\n",
       "      <td>he_it</td>\n",
       "      <td>1.424423e-01</td>\n",
       "      <td>0.857558</td>\n",
       "    </tr>\n",
       "    <tr>\n",
       "      <th>26</th>\n",
       "      <td>he_en</td>\n",
       "      <td>6.661443e-02</td>\n",
       "      <td>0.933386</td>\n",
       "    </tr>\n",
       "    <tr>\n",
       "      <th>27</th>\n",
       "      <td>he_sp</td>\n",
       "      <td>9.123643e-03</td>\n",
       "      <td>0.990876</td>\n",
       "    </tr>\n",
       "    <tr>\n",
       "      <th>28</th>\n",
       "      <td>it_ee</td>\n",
       "      <td>1.061826e-05</td>\n",
       "      <td>0.999989</td>\n",
       "    </tr>\n",
       "    <tr>\n",
       "      <th>29</th>\n",
       "      <td>it_fi</td>\n",
       "      <td>2.621850e-02</td>\n",
       "      <td>0.973782</td>\n",
       "    </tr>\n",
       "    <tr>\n",
       "      <th>30</th>\n",
       "      <td>it_ge</td>\n",
       "      <td>3.255406e-02</td>\n",
       "      <td>0.967446</td>\n",
       "    </tr>\n",
       "    <tr>\n",
       "      <th>31</th>\n",
       "      <td>it_he</td>\n",
       "      <td>1.424423e-01</td>\n",
       "      <td>0.857558</td>\n",
       "    </tr>\n",
       "    <tr>\n",
       "      <th>32</th>\n",
       "      <td>it_it</td>\n",
       "      <td>4.083255e-03</td>\n",
       "      <td>0.995917</td>\n",
       "    </tr>\n",
       "    <tr>\n",
       "      <th>33</th>\n",
       "      <td>it_en</td>\n",
       "      <td>2.668764e-01</td>\n",
       "      <td>0.733124</td>\n",
       "    </tr>\n",
       "    <tr>\n",
       "      <th>34</th>\n",
       "      <td>it_sp</td>\n",
       "      <td>1.649369e-01</td>\n",
       "      <td>0.835063</td>\n",
       "    </tr>\n",
       "    <tr>\n",
       "      <th>35</th>\n",
       "      <td>en_ee</td>\n",
       "      <td>1.896778e-04</td>\n",
       "      <td>0.999810</td>\n",
       "    </tr>\n",
       "    <tr>\n",
       "      <th>36</th>\n",
       "      <td>en_fi</td>\n",
       "      <td>6.277950e-01</td>\n",
       "      <td>0.372205</td>\n",
       "    </tr>\n",
       "    <tr>\n",
       "      <th>37</th>\n",
       "      <td>en_ge</td>\n",
       "      <td>5.186138e-03</td>\n",
       "      <td>0.994814</td>\n",
       "    </tr>\n",
       "    <tr>\n",
       "      <th>38</th>\n",
       "      <td>en_he</td>\n",
       "      <td>6.661443e-02</td>\n",
       "      <td>0.933386</td>\n",
       "    </tr>\n",
       "    <tr>\n",
       "      <th>39</th>\n",
       "      <td>en_it</td>\n",
       "      <td>2.668764e-01</td>\n",
       "      <td>0.733124</td>\n",
       "    </tr>\n",
       "    <tr>\n",
       "      <th>40</th>\n",
       "      <td>en_en</td>\n",
       "      <td>6.997349e-09</td>\n",
       "      <td>1.000000</td>\n",
       "    </tr>\n",
       "    <tr>\n",
       "      <th>41</th>\n",
       "      <td>en_sp</td>\n",
       "      <td>1.299130e-01</td>\n",
       "      <td>0.870087</td>\n",
       "    </tr>\n",
       "    <tr>\n",
       "      <th>42</th>\n",
       "      <td>sp_ee</td>\n",
       "      <td>4.700214e-04</td>\n",
       "      <td>0.999530</td>\n",
       "    </tr>\n",
       "    <tr>\n",
       "      <th>43</th>\n",
       "      <td>sp_fi</td>\n",
       "      <td>4.383427e-02</td>\n",
       "      <td>0.956166</td>\n",
       "    </tr>\n",
       "    <tr>\n",
       "      <th>44</th>\n",
       "      <td>sp_ge</td>\n",
       "      <td>1.824769e-01</td>\n",
       "      <td>0.817523</td>\n",
       "    </tr>\n",
       "    <tr>\n",
       "      <th>45</th>\n",
       "      <td>sp_he</td>\n",
       "      <td>9.123643e-03</td>\n",
       "      <td>0.990876</td>\n",
       "    </tr>\n",
       "    <tr>\n",
       "      <th>46</th>\n",
       "      <td>sp_it</td>\n",
       "      <td>1.649369e-01</td>\n",
       "      <td>0.835063</td>\n",
       "    </tr>\n",
       "    <tr>\n",
       "      <th>47</th>\n",
       "      <td>sp_en</td>\n",
       "      <td>1.299130e-01</td>\n",
       "      <td>0.870087</td>\n",
       "    </tr>\n",
       "    <tr>\n",
       "      <th>48</th>\n",
       "      <td>sp_sp</td>\n",
       "      <td>1.902262e-01</td>\n",
       "      <td>0.809774</td>\n",
       "    </tr>\n",
       "  </tbody>\n",
       "</table>\n",
       "</div>"
      ],
      "text/plain": [
       "     pair    logreg_val  logreg_val_inverted\n",
       "0   ee_ee  9.846246e-01             0.015375\n",
       "1   ee_fi  3.848731e-05             0.999962\n",
       "2   ee_ge  8.299264e-03             0.991701\n",
       "3   ee_he  3.773238e-05             0.999962\n",
       "4   ee_it  1.061826e-05             0.999989\n",
       "5   ee_en  1.896778e-04             0.999810\n",
       "6   ee_sp  4.700214e-04             0.999530\n",
       "7   fi_ee  3.848731e-05             0.999962\n",
       "8   fi_fi  1.319486e-10             1.000000\n",
       "9   fi_ge  1.960993e-01             0.803901\n",
       "10  fi_he  2.084688e-01             0.791531\n",
       "11  fi_it  2.621850e-02             0.973782\n",
       "12  fi_en  6.277950e-01             0.372205\n",
       "13  fi_sp  4.383427e-02             0.956166\n",
       "14  ge_ee  8.299264e-03             0.991701\n",
       "15  ge_fi  1.960993e-01             0.803901\n",
       "16  ge_ge  2.813599e-03             0.997186\n",
       "17  ge_he  7.974681e-01             0.202532\n",
       "18  ge_it  3.255406e-02             0.967446\n",
       "19  ge_en  5.186138e-03             0.994814\n",
       "20  ge_sp  1.824769e-01             0.817523\n",
       "21  he_ee  3.773238e-05             0.999962\n",
       "22  he_fi  2.084688e-01             0.791531\n",
       "23  he_ge  7.974681e-01             0.202532\n",
       "24  he_he  4.237056e-04             0.999576\n",
       "25  he_it  1.424423e-01             0.857558\n",
       "26  he_en  6.661443e-02             0.933386\n",
       "27  he_sp  9.123643e-03             0.990876\n",
       "28  it_ee  1.061826e-05             0.999989\n",
       "29  it_fi  2.621850e-02             0.973782\n",
       "30  it_ge  3.255406e-02             0.967446\n",
       "31  it_he  1.424423e-01             0.857558\n",
       "32  it_it  4.083255e-03             0.995917\n",
       "33  it_en  2.668764e-01             0.733124\n",
       "34  it_sp  1.649369e-01             0.835063\n",
       "35  en_ee  1.896778e-04             0.999810\n",
       "36  en_fi  6.277950e-01             0.372205\n",
       "37  en_ge  5.186138e-03             0.994814\n",
       "38  en_he  6.661443e-02             0.933386\n",
       "39  en_it  2.668764e-01             0.733124\n",
       "40  en_en  6.997349e-09             1.000000\n",
       "41  en_sp  1.299130e-01             0.870087\n",
       "42  sp_ee  4.700214e-04             0.999530\n",
       "43  sp_fi  4.383427e-02             0.956166\n",
       "44  sp_ge  1.824769e-01             0.817523\n",
       "45  sp_he  9.123643e-03             0.990876\n",
       "46  sp_it  1.649369e-01             0.835063\n",
       "47  sp_en  1.299130e-01             0.870087\n",
       "48  sp_sp  1.902262e-01             0.809774"
      ]
     },
     "execution_count": 24,
     "metadata": {},
     "output_type": "execute_result"
    }
   ],
   "source": [
    "#lang_similarities # invert as 1- proba. \n",
    "df_lang_similarities"
   ]
  },
  {
   "cell_type": "code",
   "execution_count": 26,
   "metadata": {},
   "outputs": [],
   "source": [
    "# write \n",
    "\n",
    "df_lang_similarities.to_csv(\"../data/outputs/logreg_similarity_new.csv\", index = False) # rename for other saves"
   ]
  },
  {
   "cell_type": "code",
   "execution_count": null,
   "metadata": {},
   "outputs": [],
   "source": []
  },
  {
   "cell_type": "markdown",
   "metadata": {},
   "source": [
    "**ToDos:**\n",
    "\n",
    "- investigate why 4 lang perform worse than all. maybe try with 2? ( very different and very similar - eg ee vs fi and ee and sp)\n",
    "- do separate runs with only bi and bi+tri-grams and fill table in report\n",
    "- plot language tree using both similarity metrics\n",
    "- do majority class baseline (cv accuracy only)\n",
    "\n"
   ]
  },
  {
   "cell_type": "markdown",
   "metadata": {},
   "source": []
  }
 ],
 "metadata": {
  "kernelspec": {
   "display_name": "Python 3.9.14 ('.venv': poetry)",
   "language": "python",
   "name": "python3"
  },
  "language_info": {
   "codemirror_mode": {
    "name": "ipython",
    "version": 3
   },
   "file_extension": ".py",
   "mimetype": "text/x-python",
   "name": "python",
   "nbconvert_exporter": "python",
   "pygments_lexer": "ipython3",
   "version": "3.9.14"
  },
  "orig_nbformat": 4,
  "vscode": {
   "interpreter": {
    "hash": "36e1fa312ac715c21bb59b9e6c10d6a9544a6eb8fd53fcf02705de1881480231"
   }
  }
 },
 "nbformat": 4,
 "nbformat_minor": 2
}
