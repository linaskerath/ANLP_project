{
 "cells": [
  {
   "cell_type": "markdown",
   "metadata": {},
   "source": [
    "# Logistic Regression\n",
    "\n",
    "redo model training with new data in this script"
   ]
  },
  {
   "cell_type": "code",
   "execution_count": 1,
   "metadata": {},
   "outputs": [],
   "source": [
    "import pandas as pd\n",
    "import rdata\n",
    "from sklearn.linear_model import LogisticRegression\n",
    "import json\n",
    "from sklearn.model_selection import GroupShuffleSplit\n",
    "import numpy as np\n",
    "from functions import get_cv_score\n",
    "from sklearn.metrics import accuracy_score\n",
    "import matplotlib.pyplot as plt"
   ]
  },
  {
   "cell_type": "markdown",
   "metadata": {},
   "source": [
    "Load data"
   ]
  },
  {
   "cell_type": "code",
   "execution_count": 6,
   "metadata": {},
   "outputs": [],
   "source": [
    "df_wfc = pd.read_pickle(\"../data/df_uni_bi_tri_normalized.pickle\")\n",
    "df =df_wfc.reset_index(col_level=1).rename(columns = {'': 'id'}, level =0)\n",
    "\n",
    "# df_sc = pd.read_pickle(\"../data/df_uni_bi_tri_normalized_SC.pickle\")\n",
    "# df_ic = pd.read_pickle(\"../data/df_uni_bi_tri_normalized_IC.pickle\")\n",
    "# df = df_sc.merge(df_ic, on = 'uniform_id')\n",
    "# df =df.reset_index(col_level=1).rename(columns = {'': 'id'}, level =0)"
   ]
  },
  {
   "cell_type": "code",
   "execution_count": 7,
   "metadata": {},
   "outputs": [
    {
     "data": {
      "text/html": [
       "<div>\n",
       "<style scoped>\n",
       "    .dataframe tbody tr th:only-of-type {\n",
       "        vertical-align: middle;\n",
       "    }\n",
       "\n",
       "    .dataframe tbody tr th {\n",
       "        vertical-align: top;\n",
       "    }\n",
       "\n",
       "    .dataframe thead tr th {\n",
       "        text-align: left;\n",
       "    }\n",
       "</style>\n",
       "<table border=\"1\" class=\"dataframe\">\n",
       "  <thead>\n",
       "    <tr>\n",
       "      <th></th>\n",
       "      <th>id</th>\n",
       "      <th colspan=\"9\" halign=\"left\">TF_uni_WFC</th>\n",
       "      <th>...</th>\n",
       "      <th colspan=\"10\" halign=\"left\">FF_tri_WFC</th>\n",
       "    </tr>\n",
       "    <tr>\n",
       "      <th>ia_id</th>\n",
       "      <th>uniform_id</th>\n",
       "      <th>1_0001_Samuel</th>\n",
       "      <th>1_0002_Morse,</th>\n",
       "      <th>1_0003_best</th>\n",
       "      <th>1_0004_known</th>\n",
       "      <th>1_0005_today</th>\n",
       "      <th>1_0006_as</th>\n",
       "      <th>1_0007_the</th>\n",
       "      <th>1_0008_inventor</th>\n",
       "      <th>1_0009_of</th>\n",
       "      <th>...</th>\n",
       "      <th>5_0176_them:5_0177_more:5_0178_difficult,</th>\n",
       "      <th>5_0177_more:5_0178_difficult,:5_0179_but</th>\n",
       "      <th>5_0178_difficult,:5_0179_but:5_0180_the</th>\n",
       "      <th>5_0179_but:5_0180_the:5_0181_extra</th>\n",
       "      <th>5_0180_the:5_0181_extra:5_0182_effort</th>\n",
       "      <th>5_0181_extra:5_0182_effort:5_0183_is</th>\n",
       "      <th>5_0182_effort:5_0183_is:5_0184_worth</th>\n",
       "      <th>5_0183_is:5_0184_worth:5_0185_the</th>\n",
       "      <th>5_0184_worth:5_0185_the:5_0186_added</th>\n",
       "      <th>5_0185_the:5_0186_added:5_0187_security.</th>\n",
       "    </tr>\n",
       "  </thead>\n",
       "  <tbody>\n",
       "    <tr>\n",
       "      <th>0</th>\n",
       "      <td>ee_1</td>\n",
       "      <td>0.059849</td>\n",
       "      <td>0.044309</td>\n",
       "      <td>0.000000</td>\n",
       "      <td>0.043049</td>\n",
       "      <td>0.045359</td>\n",
       "      <td>0.000000</td>\n",
       "      <td>0.049769</td>\n",
       "      <td>0.043679</td>\n",
       "      <td>0.028139</td>\n",
       "      <td>...</td>\n",
       "      <td>0.211079</td>\n",
       "      <td>0.211079</td>\n",
       "      <td>0.211079</td>\n",
       "      <td>0.239733</td>\n",
       "      <td>0.239733</td>\n",
       "      <td>0.239733</td>\n",
       "      <td>0.000000</td>\n",
       "      <td>0.000000</td>\n",
       "      <td>0.111748</td>\n",
       "      <td>0.111748</td>\n",
       "    </tr>\n",
       "    <tr>\n",
       "      <th>1</th>\n",
       "      <td>ee_12</td>\n",
       "      <td>0.147014</td>\n",
       "      <td>0.099674</td>\n",
       "      <td>0.000000</td>\n",
       "      <td>0.128339</td>\n",
       "      <td>0.000000</td>\n",
       "      <td>0.000000</td>\n",
       "      <td>0.000000</td>\n",
       "      <td>0.062975</td>\n",
       "      <td>0.000000</td>\n",
       "      <td>...</td>\n",
       "      <td>0.127440</td>\n",
       "      <td>0.127440</td>\n",
       "      <td>0.127440</td>\n",
       "      <td>0.131779</td>\n",
       "      <td>0.131779</td>\n",
       "      <td>0.131779</td>\n",
       "      <td>0.089479</td>\n",
       "      <td>0.089479</td>\n",
       "      <td>0.089479</td>\n",
       "      <td>0.078091</td>\n",
       "    </tr>\n",
       "    <tr>\n",
       "      <th>2</th>\n",
       "      <td>ee_16</td>\n",
       "      <td>0.011184</td>\n",
       "      <td>0.080913</td>\n",
       "      <td>0.000000</td>\n",
       "      <td>0.032350</td>\n",
       "      <td>0.012084</td>\n",
       "      <td>0.012009</td>\n",
       "      <td>0.024469</td>\n",
       "      <td>0.046386</td>\n",
       "      <td>0.000000</td>\n",
       "      <td>...</td>\n",
       "      <td>0.150544</td>\n",
       "      <td>0.150544</td>\n",
       "      <td>0.150544</td>\n",
       "      <td>0.127075</td>\n",
       "      <td>0.273039</td>\n",
       "      <td>0.273039</td>\n",
       "      <td>0.145965</td>\n",
       "      <td>0.087006</td>\n",
       "      <td>0.087006</td>\n",
       "      <td>0.087006</td>\n",
       "    </tr>\n",
       "    <tr>\n",
       "      <th>3</th>\n",
       "      <td>ee_19</td>\n",
       "      <td>0.072944</td>\n",
       "      <td>0.062334</td>\n",
       "      <td>0.065539</td>\n",
       "      <td>0.038904</td>\n",
       "      <td>0.057250</td>\n",
       "      <td>0.035146</td>\n",
       "      <td>0.052940</td>\n",
       "      <td>0.040893</td>\n",
       "      <td>0.018015</td>\n",
       "      <td>...</td>\n",
       "      <td>0.102987</td>\n",
       "      <td>0.129068</td>\n",
       "      <td>0.119483</td>\n",
       "      <td>0.113018</td>\n",
       "      <td>0.128622</td>\n",
       "      <td>0.114802</td>\n",
       "      <td>0.090727</td>\n",
       "      <td>0.090504</td>\n",
       "      <td>0.123272</td>\n",
       "      <td>0.114802</td>\n",
       "    </tr>\n",
       "    <tr>\n",
       "      <th>4</th>\n",
       "      <td>ee_2</td>\n",
       "      <td>0.055410</td>\n",
       "      <td>0.071429</td>\n",
       "      <td>0.029421</td>\n",
       "      <td>0.038411</td>\n",
       "      <td>0.049689</td>\n",
       "      <td>0.028114</td>\n",
       "      <td>0.000000</td>\n",
       "      <td>0.081890</td>\n",
       "      <td>0.000000</td>\n",
       "      <td>...</td>\n",
       "      <td>0.182356</td>\n",
       "      <td>0.182356</td>\n",
       "      <td>0.105971</td>\n",
       "      <td>0.105971</td>\n",
       "      <td>0.193115</td>\n",
       "      <td>0.161915</td>\n",
       "      <td>0.161915</td>\n",
       "      <td>0.190963</td>\n",
       "      <td>0.202797</td>\n",
       "      <td>0.202797</td>\n",
       "    </tr>\n",
       "  </tbody>\n",
       "</table>\n",
       "<p>5 rows × 5365 columns</p>\n",
       "</div>"
      ],
      "text/plain": [
       "              id    TF_uni_WFC                                         \\\n",
       "ia_id uniform_id 1_0001_Samuel 1_0002_Morse, 1_0003_best 1_0004_known   \n",
       "0           ee_1      0.059849      0.044309    0.000000     0.043049   \n",
       "1          ee_12      0.147014      0.099674    0.000000     0.128339   \n",
       "2          ee_16      0.011184      0.080913    0.000000     0.032350   \n",
       "3          ee_19      0.072944      0.062334    0.065539     0.038904   \n",
       "4           ee_2      0.055410      0.071429    0.029421     0.038411   \n",
       "\n",
       "                                                                   ...  \\\n",
       "ia_id 1_0005_today 1_0006_as 1_0007_the 1_0008_inventor 1_0009_of  ...   \n",
       "0         0.045359  0.000000   0.049769        0.043679  0.028139  ...   \n",
       "1         0.000000  0.000000   0.000000        0.062975  0.000000  ...   \n",
       "2         0.012084  0.012009   0.024469        0.046386  0.000000  ...   \n",
       "3         0.057250  0.035146   0.052940        0.040893  0.018015  ...   \n",
       "4         0.049689  0.028114   0.000000        0.081890  0.000000  ...   \n",
       "\n",
       "                                     FF_tri_WFC  \\\n",
       "ia_id 5_0176_them:5_0177_more:5_0178_difficult,   \n",
       "0                                      0.211079   \n",
       "1                                      0.127440   \n",
       "2                                      0.150544   \n",
       "3                                      0.102987   \n",
       "4                                      0.182356   \n",
       "\n",
       "                                                \\\n",
       "ia_id 5_0177_more:5_0178_difficult,:5_0179_but   \n",
       "0                                     0.211079   \n",
       "1                                     0.127440   \n",
       "2                                     0.150544   \n",
       "3                                     0.129068   \n",
       "4                                     0.182356   \n",
       "\n",
       "                                               \\\n",
       "ia_id 5_0178_difficult,:5_0179_but:5_0180_the   \n",
       "0                                    0.211079   \n",
       "1                                    0.127440   \n",
       "2                                    0.150544   \n",
       "3                                    0.119483   \n",
       "4                                    0.105971   \n",
       "\n",
       "                                          \\\n",
       "ia_id 5_0179_but:5_0180_the:5_0181_extra   \n",
       "0                               0.239733   \n",
       "1                               0.131779   \n",
       "2                               0.127075   \n",
       "3                               0.113018   \n",
       "4                               0.105971   \n",
       "\n",
       "                                             \\\n",
       "ia_id 5_0180_the:5_0181_extra:5_0182_effort   \n",
       "0                                  0.239733   \n",
       "1                                  0.131779   \n",
       "2                                  0.273039   \n",
       "3                                  0.128622   \n",
       "4                                  0.193115   \n",
       "\n",
       "                                            \\\n",
       "ia_id 5_0181_extra:5_0182_effort:5_0183_is   \n",
       "0                                 0.239733   \n",
       "1                                 0.131779   \n",
       "2                                 0.273039   \n",
       "3                                 0.114802   \n",
       "4                                 0.161915   \n",
       "\n",
       "                                                                              \\\n",
       "ia_id 5_0182_effort:5_0183_is:5_0184_worth 5_0183_is:5_0184_worth:5_0185_the   \n",
       "0                                 0.000000                          0.000000   \n",
       "1                                 0.089479                          0.089479   \n",
       "2                                 0.145965                          0.087006   \n",
       "3                                 0.090727                          0.090504   \n",
       "4                                 0.161915                          0.190963   \n",
       "\n",
       "                                            \\\n",
       "ia_id 5_0184_worth:5_0185_the:5_0186_added   \n",
       "0                                 0.111748   \n",
       "1                                 0.089479   \n",
       "2                                 0.087006   \n",
       "3                                 0.123272   \n",
       "4                                 0.202797   \n",
       "\n",
       "                                                \n",
       "ia_id 5_0185_the:5_0186_added:5_0187_security.  \n",
       "0                                     0.111748  \n",
       "1                                     0.078091  \n",
       "2                                     0.087006  \n",
       "3                                     0.114802  \n",
       "4                                     0.202797  \n",
       "\n",
       "[5 rows x 5365 columns]"
      ]
     },
     "execution_count": 7,
     "metadata": {},
     "output_type": "execute_result"
    }
   ],
   "source": [
    "df.head()\n"
   ]
  },
  {
   "cell_type": "markdown",
   "metadata": {},
   "source": [
    "Add language that is going to be the label/ target for model:"
   ]
  },
  {
   "cell_type": "code",
   "execution_count": 8,
   "metadata": {},
   "outputs": [],
   "source": [
    "# read df with language:\n",
    "path_ind_diff = r\"../data/version 1.1/primary data/individual differences data/joint.ind.diff.l2.rda\"\n",
    "parsed_readrate = rdata.parser.parse_file(path_ind_diff)\n",
    "converted_readrate = rdata.conversion.convert(parsed_readrate)\n",
    "df_readrate = converted_readrate['joint_id'][['uniform_id', 'lang']]\n",
    "\n",
    "# need multiindex to merge properly:\n",
    "df_readrate.columns = pd.MultiIndex.from_product([['labels'], df_readrate.columns]) \n",
    "\n",
    "# join language\n",
    "df_main = df.merge(df_readrate, left_on = [('id', 'uniform_id')], right_on= [('labels', 'uniform_id')])\n",
    "df_main = df_main.drop([('labels', 'uniform_id')], axis=1)\n",
    "\n",
    "# encode language as lables ( using old lookup json):\n",
    "with open(\"../data/outputs/language_lookup.json\") as json_file:\n",
    "    language_lookup = json.load(json_file)\n",
    "\n",
    "df_main[('labels', 'lang_code')] = df_main[('labels', 'lang')].replace(language_lookup).values"
   ]
  },
  {
   "cell_type": "code",
   "execution_count": null,
   "metadata": {},
   "outputs": [],
   "source": [
    "df_main.columns.get_level_values(0).unique()"
   ]
  },
  {
   "cell_type": "code",
   "execution_count": 10,
   "metadata": {},
   "outputs": [
    {
     "data": {
      "text/plain": [
       "ee    23\n",
       "fi    23\n",
       "ge    23\n",
       "en    21\n",
       "sp    21\n",
       "it    20\n",
       "he    18\n",
       "Name: (labels, lang), dtype: int64"
      ]
     },
     "execution_count": 10,
     "metadata": {},
     "output_type": "execute_result"
    }
   ],
   "source": [
    "df_main[('labels', 'lang')].value_counts()"
   ]
  },
  {
   "cell_type": "code",
   "execution_count": 22,
   "metadata": {},
   "outputs": [],
   "source": [
    "# columns used in training\n",
    "\n",
    "# columns = [ 'TF_uni_POS', 'FP_uni_POS', 'FF_uni_POS', 'TF_bi_POS',\n",
    "#        'FP_bi_POS', 'FF_bi_POS', 'TF_tri_POS', 'FP_tri_POS', 'FF_tri_POS',\n",
    "#        'TF_uni_PTB', 'FP_uni_PTB', 'FF_uni_PTB', 'TF_bi_PTB', 'FP_bi_PTB',\n",
    "#        'FF_bi_PTB', 'TF_tri_PTB', 'FP_tri_PTB', 'FF_tri_PTB', 'TF_uni_UD',\n",
    "#        'FP_uni_UD', 'FF_uni_UD', 'TF_bi_UD', 'FP_bi_UD', 'FF_bi_UD',\n",
    "#        'TF_tri_UD', 'FP_tri_UD', 'FF_tri_UD', 'TF_uni_IC', 'FP_uni_IC',\n",
    "#        'FF_uni_IC', 'TF_bi_IC', 'FP_bi_IC', 'FF_bi_IC', 'TF_tri_IC',\n",
    "#        'FP_tri_IC', 'FF_tri_IC']\n",
    "\n",
    "# only uni:\n",
    "# columns = [ 'TF_uni_POS', 'FP_uni_POS', 'FF_uni_POS', \n",
    "#        'TF_uni_PTB', 'FP_uni_PTB', 'FF_uni_PTB',  'TF_uni_UD',\n",
    "#        'FP_uni_UD', 'FF_uni_UD',  'TF_uni_IC', 'FP_uni_IC',\n",
    "#        'FF_uni_IC']\n",
    "\n",
    "columns = [ 'TF_uni_WFC', 'FP_uni_WFC', 'FF_uni_WFC'] # , 'TF_bi_WFC', 'FP_bi_WFC', 'FF_bi_WFC', 'TF_tri_WFC', 'FP_tri_WFC', 'FF_tri_WFC'"
   ]
  },
  {
   "cell_type": "markdown",
   "metadata": {},
   "source": [
    "## Performance graph"
   ]
  },
  {
   "cell_type": "code",
   "execution_count": 19,
   "metadata": {},
   "outputs": [],
   "source": [
    "import itertools\n",
    "from tqdm import tqdm"
   ]
  },
  {
   "cell_type": "code",
   "execution_count": 23,
   "metadata": {},
   "outputs": [
    {
     "name": "stderr",
     "output_type": "stream",
     "text": [
      "10it [00:00, 13.07it/s]0:00<?, ?it/s]\n"
     ]
    },
    {
     "name": "stdout",
     "output_type": "stream",
     "text": [
      "0.9578947368421054\n"
     ]
    },
    {
     "name": "stderr",
     "output_type": "stream",
     "text": [
      "10it [00:00, 15.04it/s]\n"
     ]
    },
    {
     "name": "stdout",
     "output_type": "stream",
     "text": [
      "0.9842105263157895\n"
     ]
    },
    {
     "name": "stderr",
     "output_type": "stream",
     "text": [
      "10it [00:00, 16.03it/s]\n"
     ]
    },
    {
     "name": "stdout",
     "output_type": "stream",
     "text": [
      "0.9823529411764707\n"
     ]
    },
    {
     "name": "stderr",
     "output_type": "stream",
     "text": [
      "10it [00:00, 16.68it/s]\n"
     ]
    },
    {
     "name": "stdout",
     "output_type": "stream",
     "text": [
      "0.9888888888888889\n"
     ]
    },
    {
     "name": "stderr",
     "output_type": "stream",
     "text": [
      "10it [00:00, 14.53it/s]\n"
     ]
    },
    {
     "name": "stdout",
     "output_type": "stream",
     "text": [
      "1.0\n"
     ]
    },
    {
     "name": "stderr",
     "output_type": "stream",
     "text": [
      "10it [00:00, 17.11it/s]\n"
     ]
    },
    {
     "name": "stdout",
     "output_type": "stream",
     "text": [
      "0.961111111111111\n"
     ]
    },
    {
     "name": "stderr",
     "output_type": "stream",
     "text": [
      "10it [00:00, 16.25it/s]\n"
     ]
    },
    {
     "name": "stdout",
     "output_type": "stream",
     "text": [
      "0.9210526315789475\n"
     ]
    },
    {
     "name": "stderr",
     "output_type": "stream",
     "text": [
      "10it [00:00, 16.57it/s]\n"
     ]
    },
    {
     "name": "stdout",
     "output_type": "stream",
     "text": [
      "0.7764705882352941\n"
     ]
    },
    {
     "name": "stderr",
     "output_type": "stream",
     "text": [
      "10it [00:00, 16.39it/s]\n"
     ]
    },
    {
     "name": "stdout",
     "output_type": "stream",
     "text": [
      "0.7333333333333333\n"
     ]
    },
    {
     "name": "stderr",
     "output_type": "stream",
     "text": [
      "10it [00:00, 16.77it/s]\n"
     ]
    },
    {
     "name": "stdout",
     "output_type": "stream",
     "text": [
      "1.0\n"
     ]
    },
    {
     "name": "stderr",
     "output_type": "stream",
     "text": [
      "10it [00:00, 15.75it/s]\n"
     ]
    },
    {
     "name": "stdout",
     "output_type": "stream",
     "text": [
      "0.6444444444444445\n"
     ]
    },
    {
     "name": "stderr",
     "output_type": "stream",
     "text": [
      "10it [00:00, 22.75it/s]\n"
     ]
    },
    {
     "name": "stdout",
     "output_type": "stream",
     "text": [
      "0.9058823529411765\n"
     ]
    },
    {
     "name": "stderr",
     "output_type": "stream",
     "text": [
      "10it [00:00, 23.10it/s]\n"
     ]
    },
    {
     "name": "stdout",
     "output_type": "stream",
     "text": [
      "0.9277777777777778\n"
     ]
    },
    {
     "name": "stderr",
     "output_type": "stream",
     "text": [
      "10it [00:00, 23.75it/s]\n"
     ]
    },
    {
     "name": "stdout",
     "output_type": "stream",
     "text": [
      "1.0\n"
     ]
    },
    {
     "name": "stderr",
     "output_type": "stream",
     "text": [
      "10it [00:00, 23.01it/s]\n"
     ]
    },
    {
     "name": "stdout",
     "output_type": "stream",
     "text": [
      "0.95\n"
     ]
    },
    {
     "name": "stderr",
     "output_type": "stream",
     "text": [
      "10it [00:00, 24.04it/s]\n"
     ]
    },
    {
     "name": "stdout",
     "output_type": "stream",
     "text": [
      "0.85\n"
     ]
    },
    {
     "name": "stderr",
     "output_type": "stream",
     "text": [
      "10it [00:00, 19.84it/s]\n"
     ]
    },
    {
     "name": "stdout",
     "output_type": "stream",
     "text": [
      "1.0\n"
     ]
    },
    {
     "name": "stderr",
     "output_type": "stream",
     "text": [
      "10it [00:00, 23.40it/s]\n"
     ]
    },
    {
     "name": "stdout",
     "output_type": "stream",
     "text": [
      "0.775\n"
     ]
    },
    {
     "name": "stderr",
     "output_type": "stream",
     "text": [
      "10it [00:00, 23.49it/s]\n"
     ]
    },
    {
     "name": "stdout",
     "output_type": "stream",
     "text": [
      "1.0\n"
     ]
    },
    {
     "name": "stderr",
     "output_type": "stream",
     "text": [
      "10it [00:00, 21.91it/s]\n"
     ]
    },
    {
     "name": "stdout",
     "output_type": "stream",
     "text": [
      "0.6941176470588235\n"
     ]
    },
    {
     "name": "stderr",
     "output_type": "stream",
     "text": [
      "10it [00:00, 22.83it/s]\n",
      " 17%|█▋        | 1/6 [00:11<00:58, 11.72s/it]"
     ]
    },
    {
     "name": "stdout",
     "output_type": "stream",
     "text": [
      "1.0\n"
     ]
    },
    {
     "name": "stderr",
     "output_type": "stream",
     "text": [
      "10it [00:00, 17.47it/s]\n"
     ]
    },
    {
     "name": "stdout",
     "output_type": "stream",
     "text": [
      "0.9392857142857143\n"
     ]
    },
    {
     "name": "stderr",
     "output_type": "stream",
     "text": [
      "10it [00:00, 22.23it/s]\n"
     ]
    },
    {
     "name": "stdout",
     "output_type": "stream",
     "text": [
      "0.7769230769230769\n"
     ]
    },
    {
     "name": "stderr",
     "output_type": "stream",
     "text": [
      "10it [00:00, 21.87it/s]\n"
     ]
    },
    {
     "name": "stdout",
     "output_type": "stream",
     "text": [
      "0.8148148148148149\n"
     ]
    },
    {
     "name": "stderr",
     "output_type": "stream",
     "text": [
      "10it [00:00, 18.97it/s]\n"
     ]
    },
    {
     "name": "stdout",
     "output_type": "stream",
     "text": [
      "0.9444444444444444\n"
     ]
    },
    {
     "name": "stderr",
     "output_type": "stream",
     "text": [
      "10it [00:00, 20.55it/s]\n"
     ]
    },
    {
     "name": "stdout",
     "output_type": "stream",
     "text": [
      "0.7444444444444444\n"
     ]
    },
    {
     "name": "stderr",
     "output_type": "stream",
     "text": [
      "10it [00:00, 20.16it/s]\n"
     ]
    },
    {
     "name": "stdout",
     "output_type": "stream",
     "text": [
      "0.8807692307692309\n"
     ]
    },
    {
     "name": "stderr",
     "output_type": "stream",
     "text": [
      "10it [00:00, 18.30it/s]\n"
     ]
    },
    {
     "name": "stdout",
     "output_type": "stream",
     "text": [
      "0.9481481481481481\n"
     ]
    },
    {
     "name": "stderr",
     "output_type": "stream",
     "text": [
      "10it [00:00, 21.35it/s]\n"
     ]
    },
    {
     "name": "stdout",
     "output_type": "stream",
     "text": [
      "0.9703703703703704\n"
     ]
    },
    {
     "name": "stderr",
     "output_type": "stream",
     "text": [
      "10it [00:00, 21.56it/s]\n"
     ]
    },
    {
     "name": "stdout",
     "output_type": "stream",
     "text": [
      "0.9\n"
     ]
    },
    {
     "name": "stderr",
     "output_type": "stream",
     "text": [
      "10it [00:00, 16.70it/s]\n"
     ]
    },
    {
     "name": "stdout",
     "output_type": "stream",
     "text": [
      "0.8720000000000001\n"
     ]
    },
    {
     "name": "stderr",
     "output_type": "stream",
     "text": [
      "10it [00:00, 21.99it/s]\n"
     ]
    },
    {
     "name": "stdout",
     "output_type": "stream",
     "text": [
      "0.9560000000000001\n"
     ]
    },
    {
     "name": "stderr",
     "output_type": "stream",
     "text": [
      "10it [00:00, 22.13it/s]\n"
     ]
    },
    {
     "name": "stdout",
     "output_type": "stream",
     "text": [
      "0.8640000000000001\n"
     ]
    },
    {
     "name": "stderr",
     "output_type": "stream",
     "text": [
      "10it [00:00, 18.71it/s]\n"
     ]
    },
    {
     "name": "stdout",
     "output_type": "stream",
     "text": [
      "0.9923076923076923\n"
     ]
    },
    {
     "name": "stderr",
     "output_type": "stream",
     "text": [
      "10it [00:00, 22.03it/s]\n"
     ]
    },
    {
     "name": "stdout",
     "output_type": "stream",
     "text": [
      "0.8076923076923078\n"
     ]
    },
    {
     "name": "stderr",
     "output_type": "stream",
     "text": [
      "10it [00:00, 21.55it/s]\n"
     ]
    },
    {
     "name": "stdout",
     "output_type": "stream",
     "text": [
      "0.9423076923076923\n"
     ]
    },
    {
     "name": "stderr",
     "output_type": "stream",
     "text": [
      "10it [00:00, 18.02it/s]\n"
     ]
    },
    {
     "name": "stdout",
     "output_type": "stream",
     "text": [
      "0.7538461538461538\n"
     ]
    },
    {
     "name": "stderr",
     "output_type": "stream",
     "text": [
      "10it [00:00, 20.89it/s]\n"
     ]
    },
    {
     "name": "stdout",
     "output_type": "stream",
     "text": [
      "0.7925925925925925\n"
     ]
    },
    {
     "name": "stderr",
     "output_type": "stream",
     "text": [
      "10it [00:00, 21.23it/s]\n"
     ]
    },
    {
     "name": "stdout",
     "output_type": "stream",
     "text": [
      "0.9333333333333333\n"
     ]
    },
    {
     "name": "stderr",
     "output_type": "stream",
     "text": [
      "10it [00:00, 18.77it/s]\n"
     ]
    },
    {
     "name": "stdout",
     "output_type": "stream",
     "text": [
      "0.6925925925925925\n"
     ]
    },
    {
     "name": "stderr",
     "output_type": "stream",
     "text": [
      "10it [00:00, 20.48it/s]\n"
     ]
    },
    {
     "name": "stdout",
     "output_type": "stream",
     "text": [
      "0.684\n"
     ]
    },
    {
     "name": "stderr",
     "output_type": "stream",
     "text": [
      "10it [00:00, 21.74it/s]\n"
     ]
    },
    {
     "name": "stdout",
     "output_type": "stream",
     "text": [
      "0.796\n"
     ]
    },
    {
     "name": "stderr",
     "output_type": "stream",
     "text": [
      "10it [00:00, 18.81it/s]\n"
     ]
    },
    {
     "name": "stdout",
     "output_type": "stream",
     "text": [
      "0.5160000000000001\n"
     ]
    },
    {
     "name": "stderr",
     "output_type": "stream",
     "text": [
      "10it [00:00, 21.59it/s]\n"
     ]
    },
    {
     "name": "stdout",
     "output_type": "stream",
     "text": [
      "0.8384615384615385\n"
     ]
    },
    {
     "name": "stderr",
     "output_type": "stream",
     "text": [
      "10it [00:00, 21.11it/s]\n"
     ]
    },
    {
     "name": "stdout",
     "output_type": "stream",
     "text": [
      "0.5461538461538462\n"
     ]
    },
    {
     "name": "stderr",
     "output_type": "stream",
     "text": [
      "10it [00:00, 18.78it/s]\n"
     ]
    },
    {
     "name": "stdout",
     "output_type": "stream",
     "text": [
      "0.7653846153846153\n"
     ]
    },
    {
     "name": "stderr",
     "output_type": "stream",
     "text": [
      "10it [00:00, 22.28it/s]\n"
     ]
    },
    {
     "name": "stdout",
     "output_type": "stream",
     "text": [
      "0.8400000000000001\n"
     ]
    },
    {
     "name": "stderr",
     "output_type": "stream",
     "text": [
      "10it [00:00, 21.84it/s]\n"
     ]
    },
    {
     "name": "stdout",
     "output_type": "stream",
     "text": [
      "0.9\n"
     ]
    },
    {
     "name": "stderr",
     "output_type": "stream",
     "text": [
      "10it [00:00, 17.59it/s]\n"
     ]
    },
    {
     "name": "stdout",
     "output_type": "stream",
     "text": [
      "0.8240000000000001\n"
     ]
    },
    {
     "name": "stderr",
     "output_type": "stream",
     "text": [
      "10it [00:00, 21.36it/s]\n"
     ]
    },
    {
     "name": "stdout",
     "output_type": "stream",
     "text": [
      "0.9538461538461538\n"
     ]
    },
    {
     "name": "stderr",
     "output_type": "stream",
     "text": [
      "10it [00:00, 21.41it/s]\n"
     ]
    },
    {
     "name": "stdout",
     "output_type": "stream",
     "text": [
      "0.7884615384615385\n"
     ]
    },
    {
     "name": "stderr",
     "output_type": "stream",
     "text": [
      "10it [00:00, 17.85it/s]\n"
     ]
    },
    {
     "name": "stdout",
     "output_type": "stream",
     "text": [
      "0.9307692307692308\n"
     ]
    },
    {
     "name": "stderr",
     "output_type": "stream",
     "text": [
      "10it [00:00, 21.95it/s]\n"
     ]
    },
    {
     "name": "stdout",
     "output_type": "stream",
     "text": [
      "0.8708333333333332\n"
     ]
    },
    {
     "name": "stderr",
     "output_type": "stream",
     "text": [
      "10it [00:00, 22.21it/s]\n"
     ]
    },
    {
     "name": "stdout",
     "output_type": "stream",
     "text": [
      "0.6249999999999999\n"
     ]
    },
    {
     "name": "stderr",
     "output_type": "stream",
     "text": [
      "10it [00:00, 10.91it/s]\n"
     ]
    },
    {
     "name": "stdout",
     "output_type": "stream",
     "text": [
      "0.8875\n"
     ]
    },
    {
     "name": "stderr",
     "output_type": "stream",
     "text": [
      "10it [00:00, 20.53it/s]\n",
      " 33%|███▎      | 2/6 [00:29<01:01, 15.49s/it]"
     ]
    },
    {
     "name": "stdout",
     "output_type": "stream",
     "text": [
      "0.788\n"
     ]
    },
    {
     "name": "stderr",
     "output_type": "stream",
     "text": [
      "10it [00:00, 13.44it/s]\n"
     ]
    },
    {
     "name": "stdout",
     "output_type": "stream",
     "text": [
      "0.8371428571428572\n"
     ]
    },
    {
     "name": "stderr",
     "output_type": "stream",
     "text": [
      "10it [00:00, 13.69it/s]\n"
     ]
    },
    {
     "name": "stdout",
     "output_type": "stream",
     "text": [
      "0.8694444444444445\n"
     ]
    },
    {
     "name": "stderr",
     "output_type": "stream",
     "text": [
      "10it [00:00, 15.95it/s]\n"
     ]
    },
    {
     "name": "stdout",
     "output_type": "stream",
     "text": [
      "0.9499999999999998\n"
     ]
    },
    {
     "name": "stderr",
     "output_type": "stream",
     "text": [
      "10it [00:00, 13.58it/s]\n"
     ]
    },
    {
     "name": "stdout",
     "output_type": "stream",
     "text": [
      "0.7805555555555557\n"
     ]
    },
    {
     "name": "stderr",
     "output_type": "stream",
     "text": [
      "10it [00:00, 16.08it/s]\n"
     ]
    },
    {
     "name": "stdout",
     "output_type": "stream",
     "text": [
      "0.7411764705882353\n"
     ]
    },
    {
     "name": "stderr",
     "output_type": "stream",
     "text": [
      "10it [00:00, 13.73it/s]\n"
     ]
    },
    {
     "name": "stdout",
     "output_type": "stream",
     "text": [
      "0.8794117647058822\n"
     ]
    },
    {
     "name": "stderr",
     "output_type": "stream",
     "text": [
      "10it [00:00, 15.59it/s]\n"
     ]
    },
    {
     "name": "stdout",
     "output_type": "stream",
     "text": [
      "0.7\n"
     ]
    },
    {
     "name": "stderr",
     "output_type": "stream",
     "text": [
      "10it [00:00, 13.67it/s]\n"
     ]
    },
    {
     "name": "stdout",
     "output_type": "stream",
     "text": [
      "0.8571428571428571\n"
     ]
    },
    {
     "name": "stderr",
     "output_type": "stream",
     "text": [
      "10it [00:00, 14.78it/s]\n"
     ]
    },
    {
     "name": "stdout",
     "output_type": "stream",
     "text": [
      "0.6599999999999999\n"
     ]
    },
    {
     "name": "stderr",
     "output_type": "stream",
     "text": [
      "10it [00:00, 13.93it/s]\n"
     ]
    },
    {
     "name": "stdout",
     "output_type": "stream",
     "text": [
      "0.8194444444444444\n"
     ]
    },
    {
     "name": "stderr",
     "output_type": "stream",
     "text": [
      "10it [00:00, 14.73it/s]\n"
     ]
    },
    {
     "name": "stdout",
     "output_type": "stream",
     "text": [
      "0.8411764705882353\n"
     ]
    },
    {
     "name": "stderr",
     "output_type": "stream",
     "text": [
      "10it [00:00, 10.39it/s]\n"
     ]
    },
    {
     "name": "stdout",
     "output_type": "stream",
     "text": [
      "0.9647058823529411\n"
     ]
    },
    {
     "name": "stderr",
     "output_type": "stream",
     "text": [
      "10it [00:00, 14.34it/s]\n"
     ]
    },
    {
     "name": "stdout",
     "output_type": "stream",
     "text": [
      "0.8294117647058823\n"
     ]
    },
    {
     "name": "stderr",
     "output_type": "stream",
     "text": [
      "10it [00:00, 15.32it/s]\n"
     ]
    },
    {
     "name": "stdout",
     "output_type": "stream",
     "text": [
      "0.9571428571428571\n"
     ]
    },
    {
     "name": "stderr",
     "output_type": "stream",
     "text": [
      "10it [00:00, 13.57it/s]\n"
     ]
    },
    {
     "name": "stdout",
     "output_type": "stream",
     "text": [
      "0.7657142857142857\n"
     ]
    },
    {
     "name": "stderr",
     "output_type": "stream",
     "text": [
      "10it [00:00, 15.34it/s]\n"
     ]
    },
    {
     "name": "stdout",
     "output_type": "stream",
     "text": [
      "0.9388888888888889\n"
     ]
    },
    {
     "name": "stderr",
     "output_type": "stream",
     "text": [
      "10it [00:00, 11.30it/s]\n"
     ]
    },
    {
     "name": "stdout",
     "output_type": "stream",
     "text": [
      "0.9\n"
     ]
    },
    {
     "name": "stderr",
     "output_type": "stream",
     "text": [
      "10it [00:00, 15.02it/s]\n"
     ]
    },
    {
     "name": "stdout",
     "output_type": "stream",
     "text": [
      "0.7181818181818183\n"
     ]
    },
    {
     "name": "stderr",
     "output_type": "stream",
     "text": [
      "10it [00:00, 14.22it/s]\n"
     ]
    },
    {
     "name": "stdout",
     "output_type": "stream",
     "text": [
      "0.8882352941176469\n"
     ]
    },
    {
     "name": "stderr",
     "output_type": "stream",
     "text": [
      "10it [00:00, 13.64it/s]\n"
     ]
    },
    {
     "name": "stdout",
     "output_type": "stream",
     "text": [
      "0.8617647058823531\n"
     ]
    },
    {
     "name": "stderr",
     "output_type": "stream",
     "text": [
      "10it [00:00, 15.12it/s]\n"
     ]
    },
    {
     "name": "stdout",
     "output_type": "stream",
     "text": [
      "0.7\n"
     ]
    },
    {
     "name": "stderr",
     "output_type": "stream",
     "text": [
      "10it [00:00, 13.11it/s]\n"
     ]
    },
    {
     "name": "stdout",
     "output_type": "stream",
     "text": [
      "0.8676470588235293\n"
     ]
    },
    {
     "name": "stderr",
     "output_type": "stream",
     "text": [
      "10it [00:00, 13.78it/s]\n"
     ]
    },
    {
     "name": "stdout",
     "output_type": "stream",
     "text": [
      "0.6558823529411765\n"
     ]
    },
    {
     "name": "stderr",
     "output_type": "stream",
     "text": [
      "10it [00:00, 12.23it/s]\n"
     ]
    },
    {
     "name": "stdout",
     "output_type": "stream",
     "text": [
      "0.8428571428571427\n"
     ]
    },
    {
     "name": "stderr",
     "output_type": "stream",
     "text": [
      "10it [00:00, 14.99it/s]\n"
     ]
    },
    {
     "name": "stdout",
     "output_type": "stream",
     "text": [
      "0.6371428571428572\n"
     ]
    },
    {
     "name": "stderr",
     "output_type": "stream",
     "text": [
      "10it [00:00, 12.98it/s]\n"
     ]
    },
    {
     "name": "stdout",
     "output_type": "stream",
     "text": [
      "0.7916666666666666\n"
     ]
    },
    {
     "name": "stderr",
     "output_type": "stream",
     "text": [
      "10it [00:00, 14.06it/s]\n"
     ]
    },
    {
     "name": "stdout",
     "output_type": "stream",
     "text": [
      "0.7787878787878788\n"
     ]
    },
    {
     "name": "stderr",
     "output_type": "stream",
     "text": [
      "10it [00:00, 10.64it/s]\n"
     ]
    },
    {
     "name": "stdout",
     "output_type": "stream",
     "text": [
      "0.5212121212121212\n"
     ]
    },
    {
     "name": "stderr",
     "output_type": "stream",
     "text": [
      "10it [00:00, 14.13it/s]\n"
     ]
    },
    {
     "name": "stdout",
     "output_type": "stream",
     "text": [
      "0.6823529411764706\n"
     ]
    },
    {
     "name": "stderr",
     "output_type": "stream",
     "text": [
      "10it [00:00, 12.26it/s]\n"
     ]
    },
    {
     "name": "stdout",
     "output_type": "stream",
     "text": [
      "0.6941176470588235\n"
     ]
    },
    {
     "name": "stderr",
     "output_type": "stream",
     "text": [
      "10it [00:00, 14.97it/s]\n"
     ]
    },
    {
     "name": "stdout",
     "output_type": "stream",
     "text": [
      "0.8606060606060606\n"
     ]
    },
    {
     "name": "stderr",
     "output_type": "stream",
     "text": [
      "10it [00:00, 13.12it/s]\n"
     ]
    },
    {
     "name": "stdout",
     "output_type": "stream",
     "text": [
      "0.6878787878787879\n"
     ]
    },
    {
     "name": "stderr",
     "output_type": "stream",
     "text": [
      "10it [00:00, 15.01it/s]\n"
     ]
    },
    {
     "name": "stdout",
     "output_type": "stream",
     "text": [
      "0.8058823529411765\n"
     ]
    },
    {
     "name": "stderr",
     "output_type": "stream",
     "text": [
      "10it [00:00, 13.10it/s]\n"
     ]
    },
    {
     "name": "stdout",
     "output_type": "stream",
     "text": [
      "0.8176470588235294\n"
     ]
    },
    {
     "name": "stderr",
     "output_type": "stream",
     "text": [
      "10it [00:00, 14.82it/s]\n",
      " 50%|█████     | 3/6 [00:55<01:01, 20.34s/it]"
     ]
    },
    {
     "name": "stdout",
     "output_type": "stream",
     "text": [
      "0.74375\n"
     ]
    },
    {
     "name": "stderr",
     "output_type": "stream",
     "text": [
      "10it [00:00, 10.48it/s]\n"
     ]
    },
    {
     "name": "stdout",
     "output_type": "stream",
     "text": [
      "0.7883720930232557\n"
     ]
    },
    {
     "name": "stderr",
     "output_type": "stream",
     "text": [
      "10it [00:00, 10.63it/s]\n"
     ]
    },
    {
     "name": "stdout",
     "output_type": "stream",
     "text": [
      "0.8522727272727273\n"
     ]
    },
    {
     "name": "stderr",
     "output_type": "stream",
     "text": [
      "10it [00:00, 10.27it/s]\n"
     ]
    },
    {
     "name": "stdout",
     "output_type": "stream",
     "text": [
      "0.740909090909091\n"
     ]
    },
    {
     "name": "stderr",
     "output_type": "stream",
     "text": [
      "10it [00:00, 10.74it/s]\n"
     ]
    },
    {
     "name": "stdout",
     "output_type": "stream",
     "text": [
      "0.8681818181818182\n"
     ]
    },
    {
     "name": "stderr",
     "output_type": "stream",
     "text": [
      "10it [00:00, 11.94it/s]\n"
     ]
    },
    {
     "name": "stdout",
     "output_type": "stream",
     "text": [
      "0.7250000000000001\n"
     ]
    },
    {
     "name": "stderr",
     "output_type": "stream",
     "text": [
      "10it [00:00, 10.41it/s]\n"
     ]
    },
    {
     "name": "stdout",
     "output_type": "stream",
     "text": [
      "0.8044444444444446\n"
     ]
    },
    {
     "name": "stderr",
     "output_type": "stream",
     "text": [
      "10it [00:01,  9.88it/s]\n"
     ]
    },
    {
     "name": "stdout",
     "output_type": "stream",
     "text": [
      "0.7976190476190477\n"
     ]
    },
    {
     "name": "stderr",
     "output_type": "stream",
     "text": [
      "10it [00:01,  9.27it/s]\n"
     ]
    },
    {
     "name": "stdout",
     "output_type": "stream",
     "text": [
      "0.5928571428571427\n"
     ]
    },
    {
     "name": "stderr",
     "output_type": "stream",
     "text": [
      "10it [00:01,  9.22it/s]\n"
     ]
    },
    {
     "name": "stdout",
     "output_type": "stream",
     "text": [
      "0.7279069767441861\n"
     ]
    },
    {
     "name": "stderr",
     "output_type": "stream",
     "text": [
      "10it [00:01,  9.45it/s]\n"
     ]
    },
    {
     "name": "stdout",
     "output_type": "stream",
     "text": [
      "0.7568181818181818\n"
     ]
    },
    {
     "name": "stderr",
     "output_type": "stream",
     "text": [
      "10it [00:00, 11.55it/s]\n"
     ]
    },
    {
     "name": "stdout",
     "output_type": "stream",
     "text": [
      "0.9119047619047619\n"
     ]
    },
    {
     "name": "stderr",
     "output_type": "stream",
     "text": [
      "10it [00:00, 10.68it/s]\n"
     ]
    },
    {
     "name": "stdout",
     "output_type": "stream",
     "text": [
      "0.7285714285714284\n"
     ]
    },
    {
     "name": "stderr",
     "output_type": "stream",
     "text": [
      "10it [00:00, 10.89it/s]\n"
     ]
    },
    {
     "name": "stdout",
     "output_type": "stream",
     "text": [
      "0.8744186046511627\n"
     ]
    },
    {
     "name": "stderr",
     "output_type": "stream",
     "text": [
      "10it [00:00, 10.25it/s]\n"
     ]
    },
    {
     "name": "stdout",
     "output_type": "stream",
     "text": [
      "0.8454545454545453\n"
     ]
    },
    {
     "name": "stderr",
     "output_type": "stream",
     "text": [
      "10it [00:01,  9.98it/s]\n"
     ]
    },
    {
     "name": "stdout",
     "output_type": "stream",
     "text": [
      "0.7857142857142857\n"
     ]
    },
    {
     "name": "stderr",
     "output_type": "stream",
     "text": [
      "10it [00:01,  9.41it/s]\n"
     ]
    },
    {
     "name": "stdout",
     "output_type": "stream",
     "text": [
      "0.7904761904761906\n"
     ]
    },
    {
     "name": "stderr",
     "output_type": "stream",
     "text": [
      "10it [00:01,  9.91it/s]\n"
     ]
    },
    {
     "name": "stdout",
     "output_type": "stream",
     "text": [
      "0.5595238095238095\n"
     ]
    },
    {
     "name": "stderr",
     "output_type": "stream",
     "text": [
      "10it [00:00, 10.62it/s]\n"
     ]
    },
    {
     "name": "stdout",
     "output_type": "stream",
     "text": [
      "0.7209302325581396\n"
     ]
    },
    {
     "name": "stderr",
     "output_type": "stream",
     "text": [
      "10it [00:01,  8.85it/s]\n"
     ]
    },
    {
     "name": "stdout",
     "output_type": "stream",
     "text": [
      "0.7295454545454547\n"
     ]
    },
    {
     "name": "stderr",
     "output_type": "stream",
     "text": [
      "10it [00:01,  9.24it/s]\n"
     ]
    },
    {
     "name": "stdout",
     "output_type": "stream",
     "text": [
      "0.5904761904761905\n"
     ]
    },
    {
     "name": "stderr",
     "output_type": "stream",
     "text": [
      "10it [00:01,  8.51it/s]\n",
      " 67%|██████▋   | 4/6 [01:17<00:41, 20.75s/it]"
     ]
    },
    {
     "name": "stdout",
     "output_type": "stream",
     "text": [
      "0.75\n"
     ]
    },
    {
     "name": "stderr",
     "output_type": "stream",
     "text": [
      "10it [00:02,  4.60it/s]\n"
     ]
    },
    {
     "name": "stdout",
     "output_type": "stream",
     "text": [
      "0.826923076923077\n"
     ]
    },
    {
     "name": "stderr",
     "output_type": "stream",
     "text": [
      "10it [00:01,  5.09it/s]\n"
     ]
    },
    {
     "name": "stdout",
     "output_type": "stream",
     "text": [
      "0.6557692307692309\n"
     ]
    },
    {
     "name": "stderr",
     "output_type": "stream",
     "text": [
      "10it [00:01,  5.14it/s]\n"
     ]
    },
    {
     "name": "stdout",
     "output_type": "stream",
     "text": [
      "0.7461538461538462\n"
     ]
    },
    {
     "name": "stderr",
     "output_type": "stream",
     "text": [
      "10it [00:02,  4.93it/s]\n"
     ]
    },
    {
     "name": "stdout",
     "output_type": "stream",
     "text": [
      "0.7584905660377358\n"
     ]
    },
    {
     "name": "stderr",
     "output_type": "stream",
     "text": [
      "10it [00:02,  4.45it/s]\n"
     ]
    },
    {
     "name": "stdout",
     "output_type": "stream",
     "text": [
      "0.6823529411764706\n"
     ]
    },
    {
     "name": "stderr",
     "output_type": "stream",
     "text": [
      "10it [00:02,  4.49it/s]\n"
     ]
    },
    {
     "name": "stdout",
     "output_type": "stream",
     "text": [
      "0.7607843137254902\n"
     ]
    },
    {
     "name": "stderr",
     "output_type": "stream",
     "text": [
      "10it [00:01,  5.75it/s]\n",
      " 83%|████████▎ | 5/6 [01:31<00:18, 18.48s/it]"
     ]
    },
    {
     "name": "stdout",
     "output_type": "stream",
     "text": [
      "0.6490196078431373\n"
     ]
    },
    {
     "name": "stderr",
     "output_type": "stream",
     "text": [
      "10it [00:02,  4.39it/s]\n",
      "100%|██████████| 6/6 [01:34<00:00, 15.68s/it]"
     ]
    },
    {
     "name": "stdout",
     "output_type": "stream",
     "text": [
      "0.695\n"
     ]
    },
    {
     "name": "stderr",
     "output_type": "stream",
     "text": [
      "\n"
     ]
    }
   ],
   "source": [
    "#only for 4 lang check:\n",
    "#df_main = df_main[df_main[('labels', 'lang')].isin(['ee', 'fi', 'it', 'sp'])]\n",
    "\n",
    "dict_performances = {}\n",
    "dict_performances_groups = []\n",
    "\n",
    "for i in tqdm(range(2, 8)): # 8\n",
    "    comb = list(itertools.combinations(['ee', 'fi', 'ge', 'he', 'it', 'en', 'sp'], i))\n",
    "    #print(comb)\n",
    "    temp = []\n",
    "    for c in comb:\n",
    "        df_main_ = df_main[df_main[('labels', 'lang')].isin(c)]\n",
    "        logreg = LogisticRegression(C=1e5, multi_class='multinomial', solver='lbfgs', random_state=0)\n",
    "        #columns = ['TF_uni', 'FP_uni', 'FF_uni', 'TF_bi', 'FP_bi', 'FF_bi', 'TF_tri', 'FP_tri', 'FF_tri' ]\n",
    "        cross_val_scores = get_cv_score(df_main_, columns, logreg)\n",
    "        dict_performances[str(c)] = np.mean(cross_val_scores)\n",
    "        temp.append(np.mean(cross_val_scores))\n",
    "    dict_performances_groups.append([i, np.mean(temp)])"
   ]
  },
  {
   "cell_type": "code",
   "execution_count": 24,
   "metadata": {},
   "outputs": [
    {
     "name": "stdout",
     "output_type": "stream",
     "text": [
      "[[2, 0.9130714859043032], [3, 0.8409298622012907], [4, 0.7914061488231656], [5, 0.7521809456693178], [6, 0.7243540957747395], [7, 0.7033333333333334]]\n",
      "[[2, 0.9110215284944386], [3, 0.8425534624106052], [4, 0.7994360486618891], [5, 0.7620587060288057], [6, 0.7315657612827424], [7, 0.6983333333333334]]\n",
      "[[2, 0.9072636657001981], [3, 0.8308652247223677], [4, 0.79562775110044], [5, 0.7591141441307554], [6, 0.7256419403755697], [7, 0.695]]\n"
     ]
    },
    {
     "data": {
      "text/plain": [
       "[[2, 0.9072636657001981],\n",
       " [3, 0.8308652247223677],\n",
       " [4, 0.79562775110044],\n",
       " [5, 0.7591141441307554],\n",
       " [6, 0.7256419403755697],\n",
       " [7, 0.695]]"
      ]
     },
     "execution_count": 24,
     "metadata": {},
     "output_type": "execute_result"
    }
   ],
   "source": [
    "# dict_performances\n",
    "dict_performances_groups_uni = dict_performances_groups\n",
    "\n",
    "print(dict_performances_groups_tri)\n",
    "print(dict_performances_groups_bi)\n",
    "print(dict_performances_groups_uni)\n",
    "\n",
    "dict_performances_groups"
   ]
  },
  {
   "attachments": {},
   "cell_type": "markdown",
   "metadata": {},
   "source": [
    "trigrams:\n",
    "\n",
    "[[2, 0.9130714859043032],\n",
    " [3, 0.8409298622012907],\n",
    " [4, 0.7914061488231656],\n",
    " [5, 0.7521809456693178],\n",
    " [6, 0.7243540957747395],\n",
    " [7, 0.7033333333333334]]\n",
    "\n",
    "bigrams:\n",
    "\n",
    "[[2, 0.9110215284944386],\n",
    " [3, 0.8425534624106052],\n",
    " [4, 0.7994360486618891],\n",
    " [5, 0.7620587060288057],\n",
    " [6, 0.7315657612827424],\n",
    " [7, 0.6983333333333334]]\n",
    "\n",
    "\n",
    "unigrams:\n",
    "\n",
    "[[2, 0.9072636657001981],\n",
    " [3, 0.8308652247223677],\n",
    " [4, 0.79562775110044],\n",
    " [5, 0.7591141441307554],\n",
    " [6, 0.7256419403755697],\n",
    " [7, 0.695]]"
   ]
  },
  {
   "cell_type": "code",
   "execution_count": 25,
   "metadata": {},
   "outputs": [
    {
     "data": {
      "image/png": "[encoded data removed]",
      "text/plain": [
       "<Figure size 600x400 with 1 Axes>"
      ]
     },
     "metadata": {},
     "output_type": "display_data"
    }
   ],
   "source": [
    "fig, axes = plt.subplots(ncols=1, figsize=(6,4))\n",
    "axes.plot(np.array(dict_performances_groups_tri)[:, 0],\n",
    "        [i * 100 for i in  np.array(dict_performances_groups_tri)[:, 1]], marker='o', label = 'uni+bi+trigrams')\n",
    "axes.plot(np.array(dict_performances_groups_bi)[:, 0],\n",
    "        [i * 100 for i in  np.array(dict_performances_groups_bi)[:, 1]], marker='o', label = 'uni+bigrams')\n",
    "axes.plot(np.array(dict_performances_groups_uni)[:, 0],\n",
    "        [i * 100 for i in  np.array(dict_performances_groups_uni)[:, 1]], marker='o', label = 'unigrams')\n",
    "# mean performance per group of all combinations of languages\n",
    "#axes.set_title(' Mean performance per group of all possible combinations of languages. E.g. 2 on the x axis means a group all language pairs amd y shows the mean performance.')\n",
    "axes.legend()\n",
    "axes.set_xlabel('Number of languages per combination')\n",
    "axes.set_ylabel('Performance %')\n",
    "axes.set_ylim(0, 100);"
   ]
  },
  {
   "cell_type": "markdown",
   "metadata": {},
   "source": [
    "## LogReg NLIR"
   ]
  },
  {
   "cell_type": "code",
   "execution_count": 9,
   "metadata": {},
   "outputs": [],
   "source": [
    "# defining model with correct solver\n",
    "logreg = LogisticRegression(C=1e5, multi_class='multinomial', solver='lbfgs', random_state=0)"
   ]
  },
  {
   "cell_type": "code",
   "execution_count": 10,
   "metadata": {},
   "outputs": [],
   "source": []
  },
  {
   "cell_type": "markdown",
   "metadata": {},
   "source": [
    "Cross validation score: \n",
    "\n",
    "(only needed for report and not for further coding)"
   ]
  },
  {
   "cell_type": "code",
   "execution_count": 11,
   "metadata": {},
   "outputs": [
    {
     "name": "stderr",
     "output_type": "stream",
     "text": [
      "0it [00:00, ?it/s]/mnt/c/Users/linas/OneDrive/Documents/ITU/Semester3/NLP/NLP_project/ANLP_project/.venv/lib/python3.9/site-packages/sklearn/linear_model/_logistic.py:444: ConvergenceWarning: lbfgs failed to converge (status=1):\n",
      "STOP: TOTAL NO. of ITERATIONS REACHED LIMIT.\n",
      "\n",
      "Increase the number of iterations (max_iter) or scale the data as shown in:\n",
      "    https://scikit-learn.org/stable/modules/preprocessing.html\n",
      "Please also refer to the documentation for alternative solver options:\n",
      "    https://scikit-learn.org/stable/modules/linear_model.html#logistic-regression\n",
      "  n_iter_i = _check_optimize_result(\n",
      "1it [00:00,  4.53it/s]/mnt/c/Users/linas/OneDrive/Documents/ITU/Semester3/NLP/NLP_project/ANLP_project/.venv/lib/python3.9/site-packages/sklearn/linear_model/_logistic.py:444: ConvergenceWarning: lbfgs failed to converge (status=1):\n",
      "STOP: TOTAL NO. of ITERATIONS REACHED LIMIT.\n",
      "\n",
      "Increase the number of iterations (max_iter) or scale the data as shown in:\n",
      "    https://scikit-learn.org/stable/modules/preprocessing.html\n",
      "Please also refer to the documentation for alternative solver options:\n",
      "    https://scikit-learn.org/stable/modules/linear_model.html#logistic-regression\n",
      "  n_iter_i = _check_optimize_result(\n",
      "/mnt/c/Users/linas/OneDrive/Documents/ITU/Semester3/NLP/NLP_project/ANLP_project/.venv/lib/python3.9/site-packages/sklearn/linear_model/_logistic.py:444: ConvergenceWarning: lbfgs failed to converge (status=1):\n",
      "STOP: TOTAL NO. of ITERATIONS REACHED LIMIT.\n",
      "\n",
      "Increase the number of iterations (max_iter) or scale the data as shown in:\n",
      "    https://scikit-learn.org/stable/modules/preprocessing.html\n",
      "Please also refer to the documentation for alternative solver options:\n",
      "    https://scikit-learn.org/stable/modules/linear_model.html#logistic-regression\n",
      "  n_iter_i = _check_optimize_result(\n",
      "3it [00:00,  9.34it/s]/mnt/c/Users/linas/OneDrive/Documents/ITU/Semester3/NLP/NLP_project/ANLP_project/.venv/lib/python3.9/site-packages/sklearn/linear_model/_logistic.py:444: ConvergenceWarning: lbfgs failed to converge (status=1):\n",
      "STOP: TOTAL NO. of ITERATIONS REACHED LIMIT.\n",
      "\n",
      "Increase the number of iterations (max_iter) or scale the data as shown in:\n",
      "    https://scikit-learn.org/stable/modules/preprocessing.html\n",
      "Please also refer to the documentation for alternative solver options:\n",
      "    https://scikit-learn.org/stable/modules/linear_model.html#logistic-regression\n",
      "  n_iter_i = _check_optimize_result(\n",
      "/mnt/c/Users/linas/OneDrive/Documents/ITU/Semester3/NLP/NLP_project/ANLP_project/.venv/lib/python3.9/site-packages/sklearn/linear_model/_logistic.py:444: ConvergenceWarning: lbfgs failed to converge (status=1):\n",
      "STOP: TOTAL NO. of ITERATIONS REACHED LIMIT.\n",
      "\n",
      "Increase the number of iterations (max_iter) or scale the data as shown in:\n",
      "    https://scikit-learn.org/stable/modules/preprocessing.html\n",
      "Please also refer to the documentation for alternative solver options:\n",
      "    https://scikit-learn.org/stable/modules/linear_model.html#logistic-regression\n",
      "  n_iter_i = _check_optimize_result(\n",
      "5it [00:00,  9.95it/s]"
     ]
    },
    {
     "name": "stdout",
     "output_type": "stream",
     "text": [
      "0.43\n",
      "0.43\n"
     ]
    },
    {
     "name": "stderr",
     "output_type": "stream",
     "text": [
      "\n"
     ]
    }
   ],
   "source": [
    "cross_val_scores = get_cv_score(df_main, columns, logreg)\n",
    "print(np.mean(cross_val_scores))\n",
    "#cross_val_scores # [0.65, 0.5666666666666667, 0.6, 0.5166666666666667, 0.5666666666666667]"
   ]
  },
  {
   "cell_type": "code",
   "execution_count": 12,
   "metadata": {},
   "outputs": [],
   "source": [
    "# real train-test split to be used for further analysis: \n",
    "train_subset = df_main[columns]\n",
    "train_label_subset = df_main[('labels', 'lang_code')]\n",
    "\n",
    "gss = GroupShuffleSplit(n_splits=5, test_size = 0.3, random_state=42)\n",
    "split_indexes = list(gss.split(train_subset, train_label_subset, df_main[('id','uniform_id')]))[0]\n",
    "train_idx = list(split_indexes[0])\n",
    "test_idx = list(split_indexes[1])\n",
    "\n",
    "X_train = train_subset.iloc[train_idx]\n",
    "y_train = train_label_subset.iloc[train_idx]\n",
    "X_test = train_subset.iloc[test_idx]\n",
    "y_test = train_label_subset.iloc[test_idx]\n",
    "\n",
    "test_lang = df_main[('labels', 'lang')].iloc[test_idx]\n",
    "test_lang_codes = df_main[('labels', 'lang_code')].iloc[test_idx]"
   ]
  },
  {
   "cell_type": "code",
   "execution_count": 13,
   "metadata": {},
   "outputs": [
    {
     "name": "stdout",
     "output_type": "stream",
     "text": [
      "Test set accuracy: 0.4666666666666667; overall cross validation accuracy 0.43\n"
     ]
    },
    {
     "name": "stderr",
     "output_type": "stream",
     "text": [
      "/mnt/c/Users/linas/OneDrive/Documents/ITU/Semester3/NLP/NLP_project/ANLP_project/.venv/lib/python3.9/site-packages/sklearn/linear_model/_logistic.py:444: ConvergenceWarning: lbfgs failed to converge (status=1):\n",
      "STOP: TOTAL NO. of ITERATIONS REACHED LIMIT.\n",
      "\n",
      "Increase the number of iterations (max_iter) or scale the data as shown in:\n",
      "    https://scikit-learn.org/stable/modules/preprocessing.html\n",
      "Please also refer to the documentation for alternative solver options:\n",
      "    https://scikit-learn.org/stable/modules/linear_model.html#logistic-regression\n",
      "  n_iter_i = _check_optimize_result(\n"
     ]
    }
   ],
   "source": [
    "# fit model:\n",
    "logreg.fit(X_train, y_train)\n",
    "\n",
    "# only for score count:\n",
    "y_pred = logreg.predict(X_test)\n",
    "test_acc_score = accuracy_score(y_test, y_pred)\n",
    "print(f'Test set accuracy: {test_acc_score}; overall cross validation accuracy {np.mean(cross_val_scores)}')\n",
    "# Test set accuracy: 0.6888888888888889; overall cross validation accuracy 0.5800000000000001 for all languages\n",
    "# Test set accuracy: 0.4074074074074074; overall cross validation accuracy 0.4914285714285714 for 4 languages\n"
   ]
  },
  {
   "cell_type": "markdown",
   "metadata": {},
   "source": [
    "Test set accuracy: 0.7857142857142857; overall cross validation accuracy 0.6736842105263158 for ee - fi (46)\n",
    "\n",
    "Test set accuracy: 0.8571428571428571; overall cross validation accuracy 0.711111111111111 for ee - sp (44)\n",
    "\n",
    "Test set accuracy: 0.7692307692307693; overall cross validation accuracy 0.8 for ee -it  (43)\n",
    "\n",
    "Test set accuracy: 0.5384615384615384; overall cross validation accuracy 0.8222222222222222 fi it (43)\n",
    "\n",
    "Test set accuracy: 0.5714285714285714; overall cross validation accuracy 0.6555555555555556 fi sp (44)\n",
    "\n",
    "Test set accuracy: 0.7692307692307693; overall cross validation accuracy 0.6823529411764706 it sp (41)\n",
    "\n",
    "\n",
    "\n",
    "Test set accuracy: 0.5238095238095238; overall cross validation accuracy 0.5407407407407407 ee fi sp \n",
    "\n",
    "Test set accuracy: 0.55; overall cross validation accuracy 0.6814814814814815 ee fi it\n",
    "\n",
    "Test set accuracy: 0.55; overall cross validation accuracy 0.6923076923076923 ee sp it\n",
    "\n",
    "Test set accuracy: 0.5; overall cross validation accuracy 0.6538461538461539 fi sp it\n",
    "\n",
    "\n",
    "\n",
    "\n",
    "\n",
    "\n",
    "\n",
    "\n",
    "\n",
    "\n",
    "\n",
    "\n",
    "\n",
    "\n",
    "\n",
    "\n",
    "\n"
   ]
  },
  {
   "cell_type": "markdown",
   "metadata": {},
   "source": [
    "### LogReg Similarity"
   ]
  },
  {
   "cell_type": "markdown",
   "metadata": {},
   "source": [
    "Create dictionary with df for each language separately to be used for similarity metrics:"
   ]
  },
  {
   "cell_type": "code",
   "execution_count": 14,
   "metadata": {},
   "outputs": [
    {
     "name": "stderr",
     "output_type": "stream",
     "text": [
      "/tmp/ipykernel_438/2390796384.py:1: SettingWithCopyWarning: \n",
      "A value is trying to be set on a copy of a slice from a DataFrame.\n",
      "Try using .loc[row_indexer,col_indexer] = value instead\n",
      "\n",
      "See the caveats in the documentation: https://pandas.pydata.org/pandas-docs/stable/user_guide/indexing.html#returning-a-view-versus-a-copy\n",
      "  X_test['lang'] = test_lang # add language column\n"
     ]
    }
   ],
   "source": [
    "X_test['lang'] = test_lang # add language column\n",
    "languages = list(test_lang.unique())\n",
    "dict_lang = {}\n",
    "for ll in languages:\n",
    "    df = X_test[X_test['lang'] == ll]\n",
    "    dict_lang[ll] = df\n",
    "\n",
    "\n",
    "dict_proba ={}\n",
    "len_dfs = []\n",
    "lang_identifier = []\n",
    "for key in dict_lang.keys():\n",
    "    lang_df = dict_lang[key][columns]\n",
    "    test_proba = logreg.predict_proba(lang_df) # predicting probabilities here\n",
    "    len_df = len(lang_df) \n",
    "    test_proba = test_proba.sum(axis=0)   # sum bc they are normalised by number of participants\n",
    "    dict_proba[key] = test_proba\n",
    "    len_dfs.append(len_df) # record length of language df\n",
    "    lang_identifier.append(key)"
   ]
  },
  {
   "cell_type": "code",
   "execution_count": 15,
   "metadata": {},
   "outputs": [],
   "source": [
    "# to pandas:\n",
    "df_predictions = pd.DataFrame(dict_proba).reset_index()\n",
    "# cols are lang on which predicted and rows are outputs\n",
    "\n",
    "# add col with lenghts and lang name\n",
    "df_predictions['length'] = len_dfs\n",
    "df_predictions['lang'] = lang_identifier"
   ]
  },
  {
   "cell_type": "code",
   "execution_count": 16,
   "metadata": {},
   "outputs": [
    {
     "data": {
      "text/html": [
       "<div>\n",
       "<style scoped>\n",
       "    .dataframe tbody tr th:only-of-type {\n",
       "        vertical-align: middle;\n",
       "    }\n",
       "\n",
       "    .dataframe tbody tr th {\n",
       "        vertical-align: top;\n",
       "    }\n",
       "\n",
       "    .dataframe thead th {\n",
       "        text-align: right;\n",
       "    }\n",
       "</style>\n",
       "<table border=\"1\" class=\"dataframe\">\n",
       "  <thead>\n",
       "    <tr style=\"text-align: right;\">\n",
       "      <th></th>\n",
       "      <th>index</th>\n",
       "      <th>ee</th>\n",
       "      <th>en</th>\n",
       "      <th>fi</th>\n",
       "      <th>ge</th>\n",
       "      <th>he</th>\n",
       "      <th>it</th>\n",
       "      <th>sp</th>\n",
       "      <th>length</th>\n",
       "      <th>lang</th>\n",
       "    </tr>\n",
       "  </thead>\n",
       "  <tbody>\n",
       "    <tr>\n",
       "      <th>0</th>\n",
       "      <td>0</td>\n",
       "      <td>4.381449e+00</td>\n",
       "      <td>2.393253e-02</td>\n",
       "      <td>1.963345e-06</td>\n",
       "      <td>2.003049e-04</td>\n",
       "      <td>2.569414e-03</td>\n",
       "      <td>1.620103e-03</td>\n",
       "      <td>1.744783e-02</td>\n",
       "      <td>10</td>\n",
       "      <td>ee</td>\n",
       "    </tr>\n",
       "    <tr>\n",
       "      <th>1</th>\n",
       "      <td>1</td>\n",
       "      <td>7.123241e-08</td>\n",
       "      <td>6.081864e+00</td>\n",
       "      <td>1.539426e-07</td>\n",
       "      <td>2.261463e-10</td>\n",
       "      <td>1.829007e-07</td>\n",
       "      <td>9.565856e-08</td>\n",
       "      <td>2.601359e-10</td>\n",
       "      <td>8</td>\n",
       "      <td>en</td>\n",
       "    </tr>\n",
       "    <tr>\n",
       "      <th>2</th>\n",
       "      <td>2</td>\n",
       "      <td>1.382471e+00</td>\n",
       "      <td>9.409954e-01</td>\n",
       "      <td>3.431288e+00</td>\n",
       "      <td>5.476404e-01</td>\n",
       "      <td>9.350449e-01</td>\n",
       "      <td>1.146260e+00</td>\n",
       "      <td>2.088547e+00</td>\n",
       "      <td>6</td>\n",
       "      <td>fi</td>\n",
       "    </tr>\n",
       "    <tr>\n",
       "      <th>3</th>\n",
       "      <td>3</td>\n",
       "      <td>1.584717e+00</td>\n",
       "      <td>6.236203e-04</td>\n",
       "      <td>1.620513e+00</td>\n",
       "      <td>5.407999e+00</td>\n",
       "      <td>6.915152e-01</td>\n",
       "      <td>2.817639e-01</td>\n",
       "      <td>1.324328e-02</td>\n",
       "      <td>8</td>\n",
       "      <td>ge</td>\n",
       "    </tr>\n",
       "    <tr>\n",
       "      <th>4</th>\n",
       "      <td>4</td>\n",
       "      <td>5.444984e-03</td>\n",
       "      <td>3.955529e-03</td>\n",
       "      <td>7.888608e-01</td>\n",
       "      <td>2.260434e-02</td>\n",
       "      <td>3.460183e-01</td>\n",
       "      <td>2.558418e-01</td>\n",
       "      <td>6.815443e-01</td>\n",
       "      <td>2</td>\n",
       "      <td>he</td>\n",
       "    </tr>\n",
       "    <tr>\n",
       "      <th>5</th>\n",
       "      <td>5</td>\n",
       "      <td>1.640062e+00</td>\n",
       "      <td>6.726959e-07</td>\n",
       "      <td>8.293699e-03</td>\n",
       "      <td>1.701423e+00</td>\n",
       "      <td>1.584464e-02</td>\n",
       "      <td>1.836888e+00</td>\n",
       "      <td>1.059521e+00</td>\n",
       "      <td>6</td>\n",
       "      <td>it</td>\n",
       "    </tr>\n",
       "    <tr>\n",
       "      <th>6</th>\n",
       "      <td>6</td>\n",
       "      <td>1.005856e+00</td>\n",
       "      <td>9.486285e-01</td>\n",
       "      <td>1.510420e-01</td>\n",
       "      <td>3.201331e-01</td>\n",
       "      <td>9.007350e-03</td>\n",
       "      <td>2.477626e+00</td>\n",
       "      <td>1.139696e+00</td>\n",
       "      <td>5</td>\n",
       "      <td>sp</td>\n",
       "    </tr>\n",
       "  </tbody>\n",
       "</table>\n",
       "</div>"
      ],
      "text/plain": [
       "   index            ee            en            fi            ge  \\\n",
       "0      0  4.381449e+00  2.393253e-02  1.963345e-06  2.003049e-04   \n",
       "1      1  7.123241e-08  6.081864e+00  1.539426e-07  2.261463e-10   \n",
       "2      2  1.382471e+00  9.409954e-01  3.431288e+00  5.476404e-01   \n",
       "3      3  1.584717e+00  6.236203e-04  1.620513e+00  5.407999e+00   \n",
       "4      4  5.444984e-03  3.955529e-03  7.888608e-01  2.260434e-02   \n",
       "5      5  1.640062e+00  6.726959e-07  8.293699e-03  1.701423e+00   \n",
       "6      6  1.005856e+00  9.486285e-01  1.510420e-01  3.201331e-01   \n",
       "\n",
       "             he            it            sp  length lang  \n",
       "0  2.569414e-03  1.620103e-03  1.744783e-02      10   ee  \n",
       "1  1.829007e-07  9.565856e-08  2.601359e-10       8   en  \n",
       "2  9.350449e-01  1.146260e+00  2.088547e+00       6   fi  \n",
       "3  6.915152e-01  2.817639e-01  1.324328e-02       8   ge  \n",
       "4  3.460183e-01  2.558418e-01  6.815443e-01       2   he  \n",
       "5  1.584464e-02  1.836888e+00  1.059521e+00       6   it  \n",
       "6  9.007350e-03  2.477626e+00  1.139696e+00       5   sp  "
      ]
     },
     "execution_count": 16,
     "metadata": {},
     "output_type": "execute_result"
    }
   ],
   "source": [
    "df_predictions # is length th enum of participants in test set?"
   ]
  },
  {
   "cell_type": "markdown",
   "metadata": {},
   "source": [
    "Convert into pair dictionary:"
   ]
  },
  {
   "cell_type": "code",
   "execution_count": 17,
   "metadata": {},
   "outputs": [],
   "source": [
    "lang_values = []\n",
    "lang_pairs = []\n",
    "#lang_similarities = {}\n",
    "for key1 in df_predictions['lang'].unique(): \n",
    "    for key2 in df_predictions['lang'].unique(): \n",
    "        val1 = float(df_predictions[df_predictions['lang'] == key1][key2])\n",
    "        val2 = float(df_predictions[df_predictions['lang'] == key2][key1])\n",
    "        len1 = float(df_predictions[df_predictions['lang'] == key1]['length'])\n",
    "        len2 = float(df_predictions[df_predictions['lang'] == key2]['length'])\n",
    "        \n",
    "        #lang_similarities[f'{key1}_{key2}'] = ((val1 + val2) /(len1+len2)) #  divide by corpus length bc summed above\n",
    "        lang_values.append((val1 + val2) / (len1+len2))\n",
    "        lang_pairs.append(f'{key1}_{key2}')"
   ]
  },
  {
   "cell_type": "code",
   "execution_count": 18,
   "metadata": {},
   "outputs": [],
   "source": [
    "df_lang_similarities = pd.DataFrame({'pair': lang_pairs, 'logreg_val': lang_values})"
   ]
  },
  {
   "cell_type": "code",
   "execution_count": 19,
   "metadata": {},
   "outputs": [],
   "source": [
    "# inverted \n",
    "df_lang_similarities['logreg_val_inverted'] = 1 - df_lang_similarities['logreg_val']"
   ]
  },
  {
   "cell_type": "code",
   "execution_count": 20,
   "metadata": {},
   "outputs": [
    {
     "data": {
      "text/html": [
       "<div>\n",
       "<style scoped>\n",
       "    .dataframe tbody tr th:only-of-type {\n",
       "        vertical-align: middle;\n",
       "    }\n",
       "\n",
       "    .dataframe tbody tr th {\n",
       "        vertical-align: top;\n",
       "    }\n",
       "\n",
       "    .dataframe thead th {\n",
       "        text-align: right;\n",
       "    }\n",
       "</style>\n",
       "<table border=\"1\" class=\"dataframe\">\n",
       "  <thead>\n",
       "    <tr style=\"text-align: right;\">\n",
       "      <th></th>\n",
       "      <th>pair</th>\n",
       "      <th>logreg_val</th>\n",
       "      <th>logreg_val_inverted</th>\n",
       "    </tr>\n",
       "  </thead>\n",
       "  <tbody>\n",
       "    <tr>\n",
       "      <th>0</th>\n",
       "      <td>ee_ee</td>\n",
       "      <td>4.381449e-01</td>\n",
       "      <td>0.561855</td>\n",
       "    </tr>\n",
       "    <tr>\n",
       "      <th>1</th>\n",
       "      <td>ee_en</td>\n",
       "      <td>1.329589e-03</td>\n",
       "      <td>0.998670</td>\n",
       "    </tr>\n",
       "    <tr>\n",
       "      <th>2</th>\n",
       "      <td>ee_fi</td>\n",
       "      <td>8.640455e-02</td>\n",
       "      <td>0.913595</td>\n",
       "    </tr>\n",
       "    <tr>\n",
       "      <th>3</th>\n",
       "      <td>ee_ge</td>\n",
       "      <td>8.805097e-02</td>\n",
       "      <td>0.911949</td>\n",
       "    </tr>\n",
       "    <tr>\n",
       "      <th>4</th>\n",
       "      <td>ee_he</td>\n",
       "      <td>6.678665e-04</td>\n",
       "      <td>0.999332</td>\n",
       "    </tr>\n",
       "    <tr>\n",
       "      <th>5</th>\n",
       "      <td>ee_it</td>\n",
       "      <td>1.026051e-01</td>\n",
       "      <td>0.897395</td>\n",
       "    </tr>\n",
       "    <tr>\n",
       "      <th>6</th>\n",
       "      <td>ee_sp</td>\n",
       "      <td>6.822027e-02</td>\n",
       "      <td>0.931780</td>\n",
       "    </tr>\n",
       "    <tr>\n",
       "      <th>7</th>\n",
       "      <td>en_ee</td>\n",
       "      <td>1.329589e-03</td>\n",
       "      <td>0.998670</td>\n",
       "    </tr>\n",
       "    <tr>\n",
       "      <th>8</th>\n",
       "      <td>en_en</td>\n",
       "      <td>7.602330e-01</td>\n",
       "      <td>0.239767</td>\n",
       "    </tr>\n",
       "    <tr>\n",
       "      <th>9</th>\n",
       "      <td>en_fi</td>\n",
       "      <td>6.721397e-02</td>\n",
       "      <td>0.932786</td>\n",
       "    </tr>\n",
       "    <tr>\n",
       "      <th>10</th>\n",
       "      <td>en_ge</td>\n",
       "      <td>3.897628e-05</td>\n",
       "      <td>0.999961</td>\n",
       "    </tr>\n",
       "    <tr>\n",
       "      <th>11</th>\n",
       "      <td>en_he</td>\n",
       "      <td>3.955712e-04</td>\n",
       "      <td>0.999604</td>\n",
       "    </tr>\n",
       "    <tr>\n",
       "      <th>12</th>\n",
       "      <td>en_it</td>\n",
       "      <td>5.488246e-08</td>\n",
       "      <td>1.000000</td>\n",
       "    </tr>\n",
       "    <tr>\n",
       "      <th>13</th>\n",
       "      <td>en_sp</td>\n",
       "      <td>7.297142e-02</td>\n",
       "      <td>0.927029</td>\n",
       "    </tr>\n",
       "    <tr>\n",
       "      <th>14</th>\n",
       "      <td>fi_ee</td>\n",
       "      <td>8.640455e-02</td>\n",
       "      <td>0.913595</td>\n",
       "    </tr>\n",
       "    <tr>\n",
       "      <th>15</th>\n",
       "      <td>fi_en</td>\n",
       "      <td>6.721397e-02</td>\n",
       "      <td>0.932786</td>\n",
       "    </tr>\n",
       "    <tr>\n",
       "      <th>16</th>\n",
       "      <td>fi_fi</td>\n",
       "      <td>5.718814e-01</td>\n",
       "      <td>0.428119</td>\n",
       "    </tr>\n",
       "    <tr>\n",
       "      <th>17</th>\n",
       "      <td>fi_ge</td>\n",
       "      <td>1.548681e-01</td>\n",
       "      <td>0.845132</td>\n",
       "    </tr>\n",
       "    <tr>\n",
       "      <th>18</th>\n",
       "      <td>fi_he</td>\n",
       "      <td>2.154882e-01</td>\n",
       "      <td>0.784512</td>\n",
       "    </tr>\n",
       "    <tr>\n",
       "      <th>19</th>\n",
       "      <td>fi_it</td>\n",
       "      <td>9.621282e-02</td>\n",
       "      <td>0.903787</td>\n",
       "    </tr>\n",
       "    <tr>\n",
       "      <th>20</th>\n",
       "      <td>fi_sp</td>\n",
       "      <td>2.035990e-01</td>\n",
       "      <td>0.796401</td>\n",
       "    </tr>\n",
       "    <tr>\n",
       "      <th>21</th>\n",
       "      <td>ge_ee</td>\n",
       "      <td>8.805097e-02</td>\n",
       "      <td>0.911949</td>\n",
       "    </tr>\n",
       "    <tr>\n",
       "      <th>22</th>\n",
       "      <td>ge_en</td>\n",
       "      <td>3.897628e-05</td>\n",
       "      <td>0.999961</td>\n",
       "    </tr>\n",
       "    <tr>\n",
       "      <th>23</th>\n",
       "      <td>ge_fi</td>\n",
       "      <td>1.548681e-01</td>\n",
       "      <td>0.845132</td>\n",
       "    </tr>\n",
       "    <tr>\n",
       "      <th>24</th>\n",
       "      <td>ge_ge</td>\n",
       "      <td>6.759999e-01</td>\n",
       "      <td>0.324000</td>\n",
       "    </tr>\n",
       "    <tr>\n",
       "      <th>25</th>\n",
       "      <td>ge_he</td>\n",
       "      <td>7.141196e-02</td>\n",
       "      <td>0.928588</td>\n",
       "    </tr>\n",
       "    <tr>\n",
       "      <th>26</th>\n",
       "      <td>ge_it</td>\n",
       "      <td>1.416562e-01</td>\n",
       "      <td>0.858344</td>\n",
       "    </tr>\n",
       "    <tr>\n",
       "      <th>27</th>\n",
       "      <td>ge_sp</td>\n",
       "      <td>2.564434e-02</td>\n",
       "      <td>0.974356</td>\n",
       "    </tr>\n",
       "    <tr>\n",
       "      <th>28</th>\n",
       "      <td>he_ee</td>\n",
       "      <td>6.678665e-04</td>\n",
       "      <td>0.999332</td>\n",
       "    </tr>\n",
       "    <tr>\n",
       "      <th>29</th>\n",
       "      <td>he_en</td>\n",
       "      <td>3.955712e-04</td>\n",
       "      <td>0.999604</td>\n",
       "    </tr>\n",
       "    <tr>\n",
       "      <th>30</th>\n",
       "      <td>he_fi</td>\n",
       "      <td>2.154882e-01</td>\n",
       "      <td>0.784512</td>\n",
       "    </tr>\n",
       "    <tr>\n",
       "      <th>31</th>\n",
       "      <td>he_ge</td>\n",
       "      <td>7.141196e-02</td>\n",
       "      <td>0.928588</td>\n",
       "    </tr>\n",
       "    <tr>\n",
       "      <th>32</th>\n",
       "      <td>he_he</td>\n",
       "      <td>1.730091e-01</td>\n",
       "      <td>0.826991</td>\n",
       "    </tr>\n",
       "    <tr>\n",
       "      <th>33</th>\n",
       "      <td>he_it</td>\n",
       "      <td>3.396080e-02</td>\n",
       "      <td>0.966039</td>\n",
       "    </tr>\n",
       "    <tr>\n",
       "      <th>34</th>\n",
       "      <td>he_sp</td>\n",
       "      <td>9.865024e-02</td>\n",
       "      <td>0.901350</td>\n",
       "    </tr>\n",
       "    <tr>\n",
       "      <th>35</th>\n",
       "      <td>it_ee</td>\n",
       "      <td>1.026051e-01</td>\n",
       "      <td>0.897395</td>\n",
       "    </tr>\n",
       "    <tr>\n",
       "      <th>36</th>\n",
       "      <td>it_en</td>\n",
       "      <td>5.488246e-08</td>\n",
       "      <td>1.000000</td>\n",
       "    </tr>\n",
       "    <tr>\n",
       "      <th>37</th>\n",
       "      <td>it_fi</td>\n",
       "      <td>9.621282e-02</td>\n",
       "      <td>0.903787</td>\n",
       "    </tr>\n",
       "    <tr>\n",
       "      <th>38</th>\n",
       "      <td>it_ge</td>\n",
       "      <td>1.416562e-01</td>\n",
       "      <td>0.858344</td>\n",
       "    </tr>\n",
       "    <tr>\n",
       "      <th>39</th>\n",
       "      <td>it_he</td>\n",
       "      <td>3.396080e-02</td>\n",
       "      <td>0.966039</td>\n",
       "    </tr>\n",
       "    <tr>\n",
       "      <th>40</th>\n",
       "      <td>it_it</td>\n",
       "      <td>3.061479e-01</td>\n",
       "      <td>0.693852</td>\n",
       "    </tr>\n",
       "    <tr>\n",
       "      <th>41</th>\n",
       "      <td>it_sp</td>\n",
       "      <td>3.215589e-01</td>\n",
       "      <td>0.678441</td>\n",
       "    </tr>\n",
       "    <tr>\n",
       "      <th>42</th>\n",
       "      <td>sp_ee</td>\n",
       "      <td>6.822027e-02</td>\n",
       "      <td>0.931780</td>\n",
       "    </tr>\n",
       "    <tr>\n",
       "      <th>43</th>\n",
       "      <td>sp_en</td>\n",
       "      <td>7.297142e-02</td>\n",
       "      <td>0.927029</td>\n",
       "    </tr>\n",
       "    <tr>\n",
       "      <th>44</th>\n",
       "      <td>sp_fi</td>\n",
       "      <td>2.035990e-01</td>\n",
       "      <td>0.796401</td>\n",
       "    </tr>\n",
       "    <tr>\n",
       "      <th>45</th>\n",
       "      <td>sp_ge</td>\n",
       "      <td>2.564434e-02</td>\n",
       "      <td>0.974356</td>\n",
       "    </tr>\n",
       "    <tr>\n",
       "      <th>46</th>\n",
       "      <td>sp_he</td>\n",
       "      <td>9.865024e-02</td>\n",
       "      <td>0.901350</td>\n",
       "    </tr>\n",
       "    <tr>\n",
       "      <th>47</th>\n",
       "      <td>sp_it</td>\n",
       "      <td>3.215589e-01</td>\n",
       "      <td>0.678441</td>\n",
       "    </tr>\n",
       "    <tr>\n",
       "      <th>48</th>\n",
       "      <td>sp_sp</td>\n",
       "      <td>2.279392e-01</td>\n",
       "      <td>0.772061</td>\n",
       "    </tr>\n",
       "  </tbody>\n",
       "</table>\n",
       "</div>"
      ],
      "text/plain": [
       "     pair    logreg_val  logreg_val_inverted\n",
       "0   ee_ee  4.381449e-01             0.561855\n",
       "1   ee_en  1.329589e-03             0.998670\n",
       "2   ee_fi  8.640455e-02             0.913595\n",
       "3   ee_ge  8.805097e-02             0.911949\n",
       "4   ee_he  6.678665e-04             0.999332\n",
       "5   ee_it  1.026051e-01             0.897395\n",
       "6   ee_sp  6.822027e-02             0.931780\n",
       "7   en_ee  1.329589e-03             0.998670\n",
       "8   en_en  7.602330e-01             0.239767\n",
       "9   en_fi  6.721397e-02             0.932786\n",
       "10  en_ge  3.897628e-05             0.999961\n",
       "11  en_he  3.955712e-04             0.999604\n",
       "12  en_it  5.488246e-08             1.000000\n",
       "13  en_sp  7.297142e-02             0.927029\n",
       "14  fi_ee  8.640455e-02             0.913595\n",
       "15  fi_en  6.721397e-02             0.932786\n",
       "16  fi_fi  5.718814e-01             0.428119\n",
       "17  fi_ge  1.548681e-01             0.845132\n",
       "18  fi_he  2.154882e-01             0.784512\n",
       "19  fi_it  9.621282e-02             0.903787\n",
       "20  fi_sp  2.035990e-01             0.796401\n",
       "21  ge_ee  8.805097e-02             0.911949\n",
       "22  ge_en  3.897628e-05             0.999961\n",
       "23  ge_fi  1.548681e-01             0.845132\n",
       "24  ge_ge  6.759999e-01             0.324000\n",
       "25  ge_he  7.141196e-02             0.928588\n",
       "26  ge_it  1.416562e-01             0.858344\n",
       "27  ge_sp  2.564434e-02             0.974356\n",
       "28  he_ee  6.678665e-04             0.999332\n",
       "29  he_en  3.955712e-04             0.999604\n",
       "30  he_fi  2.154882e-01             0.784512\n",
       "31  he_ge  7.141196e-02             0.928588\n",
       "32  he_he  1.730091e-01             0.826991\n",
       "33  he_it  3.396080e-02             0.966039\n",
       "34  he_sp  9.865024e-02             0.901350\n",
       "35  it_ee  1.026051e-01             0.897395\n",
       "36  it_en  5.488246e-08             1.000000\n",
       "37  it_fi  9.621282e-02             0.903787\n",
       "38  it_ge  1.416562e-01             0.858344\n",
       "39  it_he  3.396080e-02             0.966039\n",
       "40  it_it  3.061479e-01             0.693852\n",
       "41  it_sp  3.215589e-01             0.678441\n",
       "42  sp_ee  6.822027e-02             0.931780\n",
       "43  sp_en  7.297142e-02             0.927029\n",
       "44  sp_fi  2.035990e-01             0.796401\n",
       "45  sp_ge  2.564434e-02             0.974356\n",
       "46  sp_he  9.865024e-02             0.901350\n",
       "47  sp_it  3.215589e-01             0.678441\n",
       "48  sp_sp  2.279392e-01             0.772061"
      ]
     },
     "execution_count": 20,
     "metadata": {},
     "output_type": "execute_result"
    }
   ],
   "source": [
    "#lang_similarities # invert as 1- proba. \n",
    "df_lang_similarities"
   ]
  },
  {
   "cell_type": "code",
   "execution_count": 21,
   "metadata": {},
   "outputs": [],
   "source": [
    "# write \n",
    "\n",
    "df_lang_similarities.to_csv(\"../data/outputs/logreg_similarity_SC_IC_uni.csv\", index = False) # rename for other saves"
   ]
  },
  {
   "cell_type": "code",
   "execution_count": null,
   "metadata": {},
   "outputs": [],
   "source": []
  },
  {
   "cell_type": "markdown",
   "metadata": {},
   "source": [
    "**ToDos:**\n",
    "\n",
    "- investigate why 4 lang perform worse than all. maybe try with 2? ( very different and very similar - eg ee vs fi and ee and sp)\n",
    "- do separate runs with only bi and bi+tri-grams and fill table in report\n",
    "- plot language tree using both similarity metrics\n",
    "- do majority class baseline (cv accuracy only)\n",
    "\n"
   ]
  },
  {
   "cell_type": "markdown",
   "metadata": {},
   "source": []
  }
 ],
 "metadata": {
  "kernelspec": {
   "display_name": "Python 3.9.14 ('.venv': poetry)",
   "language": "python",
   "name": "python3"
  },
  "language_info": {
   "codemirror_mode": {
    "name": "ipython",
    "version": 3
   },
   "file_extension": ".py",
   "mimetype": "text/x-python",
   "name": "python",
   "nbconvert_exporter": "python",
   "pygments_lexer": "ipython3",
   "version": "3.9.14"
  },
  "orig_nbformat": 4,
  "vscode": {
   "interpreter": {
    "hash": "36e1fa312ac715c21bb59b9e6c10d6a9544a6eb8fd53fcf02705de1881480231"
   }
  }
 },
 "nbformat": 4,
 "nbformat_minor": 2
}
