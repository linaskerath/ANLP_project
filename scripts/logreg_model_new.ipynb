{
 "cells": [
  {
   "cell_type": "markdown",
   "metadata": {},
   "source": [
    "# Logistic Regression\n",
    "\n",
    "redo model training with new data in this script"
   ]
  },
  {
   "cell_type": "code",
   "execution_count": 1,
   "metadata": {},
   "outputs": [],
   "source": [
    "import pandas as pd\n",
    "import rdata\n",
    "from sklearn.linear_model import LogisticRegression\n",
    "import json\n",
    "from sklearn.model_selection import GroupShuffleSplit\n",
    "import numpy as np\n",
    "from functions import get_cv_score\n",
    "from sklearn.metrics import accuracy_score"
   ]
  },
  {
   "cell_type": "code",
   "execution_count": 2,
   "metadata": {},
   "outputs": [],
   "source": [
    "df = pd.read_pickle(\"../data/df_uni_bi_tri.pickle\")\n",
    "df =df.reset_index(col_level=1).rename(columns = {'': 'id'}, level =0)"
   ]
  },
  {
   "cell_type": "markdown",
   "metadata": {},
   "source": [
    "Add language that is going to be the label/ target for model:"
   ]
  },
  {
   "cell_type": "code",
   "execution_count": 110,
   "metadata": {},
   "outputs": [],
   "source": [
    "# read df with language:\n",
    "path_ind_diff = r\"../data/version 1.1/primary data/individual differences data/joint.ind.diff.l2.rda\"\n",
    "parsed_readrate = rdata.parser.parse_file(path_ind_diff)\n",
    "converted_readrate = rdata.conversion.convert(parsed_readrate)\n",
    "df_readrate = converted_readrate['joint_id'][['uniform_id', 'lang']]\n",
    "\n",
    "# need multiindex to merge properly:\n",
    "df_readrate.columns = pd.MultiIndex.from_product([['labels'], df_readrate.columns]) \n",
    "\n",
    "# join language\n",
    "df_main = df.merge(df_readrate, left_on = [('id', 'uniform_id')], right_on= [('labels', 'uniform_id')])\n",
    "df_main = df_main.drop([('labels', 'uniform_id')], axis=1)\n",
    "\n",
    "# encode language as lables ( using old lookup json):\n",
    "with open(\"../data/outputs/language_lookup.json\") as json_file:\n",
    "    language_lookup = json.load(json_file)\n",
    "\n",
    "df_main[('labels', 'lang_code')] = df_main[('labels', 'lang')].replace(language_lookup).values"
   ]
  },
  {
   "cell_type": "code",
   "execution_count": 111,
   "metadata": {},
   "outputs": [
    {
     "data": {
      "text/plain": [
       "array(['ee', 'fi', 'ge', 'he', 'it', 'en', 'sp'], dtype=object)"
      ]
     },
     "execution_count": 111,
     "metadata": {},
     "output_type": "execute_result"
    }
   ],
   "source": [
    "df_main[('labels', 'lang')].unique()"
   ]
  },
  {
   "cell_type": "code",
   "execution_count": 124,
   "metadata": {},
   "outputs": [],
   "source": [
    "import itertools\n",
    "from tqdm import tqdm"
   ]
  },
  {
   "cell_type": "code",
   "execution_count": 128,
   "metadata": {},
   "outputs": [
    {
     "name": "stderr",
     "output_type": "stream",
     "text": [
      "  0%|          | 0/6 [00:00<?, ?it/s]"
     ]
    },
    {
     "name": "stdout",
     "output_type": "stream",
     "text": [
      "[('ee', 'fi'), ('ee', 'ge'), ('ee', 'he'), ('ee', 'it'), ('ee', 'en'), ('ee', 'sp'), ('fi', 'ge'), ('fi', 'he'), ('fi', 'it'), ('fi', 'en'), ('fi', 'sp'), ('ge', 'he'), ('ge', 'it'), ('ge', 'en'), ('ge', 'sp'), ('he', 'it'), ('he', 'en'), ('he', 'sp'), ('it', 'en'), ('it', 'sp'), ('en', 'sp')]\n"
     ]
    },
    {
     "name": "stderr",
     "output_type": "stream",
     "text": [
      "5it [00:01,  4.04it/s]\n"
     ]
    },
    {
     "name": "stdout",
     "output_type": "stream",
     "text": [
      "0.6736842105263158\n"
     ]
    },
    {
     "name": "stderr",
     "output_type": "stream",
     "text": [
      "5it [00:00,  5.93it/s]\n"
     ]
    },
    {
     "name": "stdout",
     "output_type": "stream",
     "text": [
      "0.8526315789473683\n"
     ]
    },
    {
     "name": "stderr",
     "output_type": "stream",
     "text": [
      "5it [00:00,  5.02it/s]\n"
     ]
    },
    {
     "name": "stdout",
     "output_type": "stream",
     "text": [
      "0.8235294117647058\n"
     ]
    },
    {
     "name": "stderr",
     "output_type": "stream",
     "text": [
      "5it [00:01,  4.94it/s]\n"
     ]
    },
    {
     "name": "stdout",
     "output_type": "stream",
     "text": [
      "0.8\n"
     ]
    },
    {
     "name": "stderr",
     "output_type": "stream",
     "text": [
      "5it [00:00,  5.84it/s]\n"
     ]
    },
    {
     "name": "stdout",
     "output_type": "stream",
     "text": [
      "0.9888888888888889\n"
     ]
    },
    {
     "name": "stderr",
     "output_type": "stream",
     "text": [
      "5it [00:01,  4.27it/s]\n"
     ]
    },
    {
     "name": "stdout",
     "output_type": "stream",
     "text": [
      "0.711111111111111\n"
     ]
    },
    {
     "name": "stderr",
     "output_type": "stream",
     "text": [
      "5it [00:00,  6.26it/s]\n"
     ]
    },
    {
     "name": "stdout",
     "output_type": "stream",
     "text": [
      "0.8736842105263157\n"
     ]
    },
    {
     "name": "stderr",
     "output_type": "stream",
     "text": [
      "5it [00:00,  6.85it/s]\n"
     ]
    },
    {
     "name": "stdout",
     "output_type": "stream",
     "text": [
      "0.8705882352941176\n"
     ]
    },
    {
     "name": "stderr",
     "output_type": "stream",
     "text": [
      "5it [00:00,  5.36it/s]\n"
     ]
    },
    {
     "name": "stdout",
     "output_type": "stream",
     "text": [
      "0.8222222222222222\n"
     ]
    },
    {
     "name": "stderr",
     "output_type": "stream",
     "text": [
      "5it [00:01,  4.36it/s]\n"
     ]
    },
    {
     "name": "stdout",
     "output_type": "stream",
     "text": [
      "1.0\n"
     ]
    },
    {
     "name": "stderr",
     "output_type": "stream",
     "text": [
      "5it [00:00,  6.60it/s]\n"
     ]
    },
    {
     "name": "stdout",
     "output_type": "stream",
     "text": [
      "0.6555555555555556\n"
     ]
    },
    {
     "name": "stderr",
     "output_type": "stream",
     "text": [
      "5it [00:01,  4.26it/s]\n"
     ]
    },
    {
     "name": "stdout",
     "output_type": "stream",
     "text": [
      "0.8941176470588236\n"
     ]
    },
    {
     "name": "stderr",
     "output_type": "stream",
     "text": [
      "5it [00:00,  6.83it/s]\n"
     ]
    },
    {
     "name": "stdout",
     "output_type": "stream",
     "text": [
      "0.9\n"
     ]
    },
    {
     "name": "stderr",
     "output_type": "stream",
     "text": [
      "5it [00:00,  5.99it/s]\n"
     ]
    },
    {
     "name": "stdout",
     "output_type": "stream",
     "text": [
      "1.0\n"
     ]
    },
    {
     "name": "stderr",
     "output_type": "stream",
     "text": [
      "5it [00:00,  6.99it/s]\n"
     ]
    },
    {
     "name": "stdout",
     "output_type": "stream",
     "text": [
      "0.8666666666666666\n"
     ]
    },
    {
     "name": "stderr",
     "output_type": "stream",
     "text": [
      "5it [00:00,  5.85it/s]\n"
     ]
    },
    {
     "name": "stdout",
     "output_type": "stream",
     "text": [
      "0.8\n"
     ]
    },
    {
     "name": "stderr",
     "output_type": "stream",
     "text": [
      "5it [00:00,  6.29it/s]\n"
     ]
    },
    {
     "name": "stdout",
     "output_type": "stream",
     "text": [
      "0.9875\n"
     ]
    },
    {
     "name": "stderr",
     "output_type": "stream",
     "text": [
      "5it [00:00,  6.20it/s]\n"
     ]
    },
    {
     "name": "stdout",
     "output_type": "stream",
     "text": [
      "0.775\n"
     ]
    },
    {
     "name": "stderr",
     "output_type": "stream",
     "text": [
      "5it [00:01,  3.95it/s]\n"
     ]
    },
    {
     "name": "stdout",
     "output_type": "stream",
     "text": [
      "1.0\n"
     ]
    },
    {
     "name": "stderr",
     "output_type": "stream",
     "text": [
      "5it [00:01,  4.68it/s]\n"
     ]
    },
    {
     "name": "stdout",
     "output_type": "stream",
     "text": [
      "0.6823529411764706\n"
     ]
    },
    {
     "name": "stderr",
     "output_type": "stream",
     "text": [
      "5it [00:00,  5.86it/s]\n",
      " 17%|█▋        | 1/6 [00:20<01:40, 20.07s/it]"
     ]
    },
    {
     "name": "stdout",
     "output_type": "stream",
     "text": [
      "0.9647058823529411\n",
      "[('ee', 'fi', 'ge'), ('ee', 'fi', 'he'), ('ee', 'fi', 'it'), ('ee', 'fi', 'en'), ('ee', 'fi', 'sp'), ('ee', 'ge', 'he'), ('ee', 'ge', 'it'), ('ee', 'ge', 'en'), ('ee', 'ge', 'sp'), ('ee', 'he', 'it'), ('ee', 'he', 'en'), ('ee', 'he', 'sp'), ('ee', 'it', 'en'), ('ee', 'it', 'sp'), ('ee', 'en', 'sp'), ('fi', 'ge', 'he'), ('fi', 'ge', 'it'), ('fi', 'ge', 'en'), ('fi', 'ge', 'sp'), ('fi', 'he', 'it'), ('fi', 'he', 'en'), ('fi', 'he', 'sp'), ('fi', 'it', 'en'), ('fi', 'it', 'sp'), ('fi', 'en', 'sp'), ('ge', 'he', 'it'), ('ge', 'he', 'en'), ('ge', 'he', 'sp'), ('ge', 'it', 'en'), ('ge', 'it', 'sp'), ('ge', 'en', 'sp'), ('he', 'it', 'en'), ('he', 'it', 'sp'), ('he', 'en', 'sp'), ('it', 'en', 'sp')]\n"
     ]
    },
    {
     "name": "stderr",
     "output_type": "stream",
     "text": [
      "5it [00:00,  5.08it/s]\n"
     ]
    },
    {
     "name": "stdout",
     "output_type": "stream",
     "text": [
      "0.6285714285714286\n"
     ]
    },
    {
     "name": "stderr",
     "output_type": "stream",
     "text": [
      "5it [00:01,  4.75it/s]\n"
     ]
    },
    {
     "name": "stdout",
     "output_type": "stream",
     "text": [
      "0.6307692307692306\n"
     ]
    },
    {
     "name": "stderr",
     "output_type": "stream",
     "text": [
      "5it [00:01,  4.84it/s]\n"
     ]
    },
    {
     "name": "stdout",
     "output_type": "stream",
     "text": [
      "0.6814814814814815\n"
     ]
    },
    {
     "name": "stderr",
     "output_type": "stream",
     "text": [
      "5it [00:00,  5.45it/s]\n"
     ]
    },
    {
     "name": "stdout",
     "output_type": "stream",
     "text": [
      "0.7925925925925925\n"
     ]
    },
    {
     "name": "stderr",
     "output_type": "stream",
     "text": [
      "5it [00:01,  3.43it/s]\n"
     ]
    },
    {
     "name": "stdout",
     "output_type": "stream",
     "text": [
      "0.5407407407407407\n"
     ]
    },
    {
     "name": "stderr",
     "output_type": "stream",
     "text": [
      "5it [00:01,  4.78it/s]\n"
     ]
    },
    {
     "name": "stdout",
     "output_type": "stream",
     "text": [
      "0.7384615384615384\n"
     ]
    },
    {
     "name": "stderr",
     "output_type": "stream",
     "text": [
      "5it [00:01,  4.05it/s]\n"
     ]
    },
    {
     "name": "stdout",
     "output_type": "stream",
     "text": [
      "0.8074074074074075\n"
     ]
    },
    {
     "name": "stderr",
     "output_type": "stream",
     "text": [
      "5it [00:01,  3.90it/s]\n"
     ]
    },
    {
     "name": "stdout",
     "output_type": "stream",
     "text": [
      "0.8814814814814815\n"
     ]
    },
    {
     "name": "stderr",
     "output_type": "stream",
     "text": [
      "5it [00:01,  4.33it/s]\n"
     ]
    },
    {
     "name": "stdout",
     "output_type": "stream",
     "text": [
      "0.6814814814814815\n"
     ]
    },
    {
     "name": "stderr",
     "output_type": "stream",
     "text": [
      "5it [00:01,  3.68it/s]\n"
     ]
    },
    {
     "name": "stdout",
     "output_type": "stream",
     "text": [
      "0.768\n"
     ]
    },
    {
     "name": "stderr",
     "output_type": "stream",
     "text": [
      "5it [00:05,  1.03s/it]\n"
     ]
    },
    {
     "name": "stdout",
     "output_type": "stream",
     "text": [
      "0.8160000000000001\n"
     ]
    },
    {
     "name": "stderr",
     "output_type": "stream",
     "text": [
      "5it [00:01,  3.86it/s]\n"
     ]
    },
    {
     "name": "stdout",
     "output_type": "stream",
     "text": [
      "0.5840000000000001\n"
     ]
    },
    {
     "name": "stderr",
     "output_type": "stream",
     "text": [
      "5it [00:01,  4.26it/s]\n"
     ]
    },
    {
     "name": "stdout",
     "output_type": "stream",
     "text": [
      "0.8846153846153845\n"
     ]
    },
    {
     "name": "stderr",
     "output_type": "stream",
     "text": [
      "5it [00:01,  4.94it/s]\n"
     ]
    },
    {
     "name": "stdout",
     "output_type": "stream",
     "text": [
      "0.6923076923076923\n"
     ]
    },
    {
     "name": "stderr",
     "output_type": "stream",
     "text": [
      "5it [00:00,  5.37it/s]\n"
     ]
    },
    {
     "name": "stdout",
     "output_type": "stream",
     "text": [
      "0.8076923076923077\n"
     ]
    },
    {
     "name": "stderr",
     "output_type": "stream",
     "text": [
      "5it [00:01,  3.53it/s]\n"
     ]
    },
    {
     "name": "stdout",
     "output_type": "stream",
     "text": [
      "0.7923076923076923\n"
     ]
    },
    {
     "name": "stderr",
     "output_type": "stream",
     "text": [
      "5it [00:01,  4.19it/s]\n"
     ]
    },
    {
     "name": "stdout",
     "output_type": "stream",
     "text": [
      "0.748148148148148\n"
     ]
    },
    {
     "name": "stderr",
     "output_type": "stream",
     "text": [
      "5it [00:01,  3.63it/s]\n"
     ]
    },
    {
     "name": "stdout",
     "output_type": "stream",
     "text": [
      "0.9111111111111111\n"
     ]
    },
    {
     "name": "stderr",
     "output_type": "stream",
     "text": [
      "5it [00:00,  5.40it/s]\n"
     ]
    },
    {
     "name": "stdout",
     "output_type": "stream",
     "text": [
      "0.6962962962962962\n"
     ]
    },
    {
     "name": "stderr",
     "output_type": "stream",
     "text": [
      "5it [00:01,  4.87it/s]\n"
     ]
    },
    {
     "name": "stdout",
     "output_type": "stream",
     "text": [
      "0.768\n"
     ]
    },
    {
     "name": "stderr",
     "output_type": "stream",
     "text": [
      "5it [00:01,  4.62it/s]\n"
     ]
    },
    {
     "name": "stdout",
     "output_type": "stream",
     "text": [
      "0.8799999999999999\n"
     ]
    },
    {
     "name": "stderr",
     "output_type": "stream",
     "text": [
      "5it [00:01,  4.26it/s]\n"
     ]
    },
    {
     "name": "stdout",
     "output_type": "stream",
     "text": [
      "0.672\n"
     ]
    },
    {
     "name": "stderr",
     "output_type": "stream",
     "text": [
      "5it [00:00,  5.04it/s]\n"
     ]
    },
    {
     "name": "stdout",
     "output_type": "stream",
     "text": [
      "0.8615384615384617\n"
     ]
    },
    {
     "name": "stderr",
     "output_type": "stream",
     "text": [
      "5it [00:01,  4.44it/s]\n"
     ]
    },
    {
     "name": "stdout",
     "output_type": "stream",
     "text": [
      "0.6538461538461539\n"
     ]
    },
    {
     "name": "stderr",
     "output_type": "stream",
     "text": [
      "5it [00:01,  3.52it/s]\n"
     ]
    },
    {
     "name": "stdout",
     "output_type": "stream",
     "text": [
      "0.8076923076923077\n"
     ]
    },
    {
     "name": "stderr",
     "output_type": "stream",
     "text": [
      "5it [00:01,  4.65it/s]\n"
     ]
    },
    {
     "name": "stdout",
     "output_type": "stream",
     "text": [
      "0.8320000000000001\n"
     ]
    },
    {
     "name": "stderr",
     "output_type": "stream",
     "text": [
      "5it [00:01,  3.87it/s]\n"
     ]
    },
    {
     "name": "stdout",
     "output_type": "stream",
     "text": [
      "0.9119999999999999\n"
     ]
    },
    {
     "name": "stderr",
     "output_type": "stream",
     "text": [
      "5it [00:01,  3.79it/s]\n"
     ]
    },
    {
     "name": "stdout",
     "output_type": "stream",
     "text": [
      "0.744\n"
     ]
    },
    {
     "name": "stderr",
     "output_type": "stream",
     "text": [
      "5it [00:01,  4.15it/s]\n"
     ]
    },
    {
     "name": "stdout",
     "output_type": "stream",
     "text": [
      "0.9384615384615385\n"
     ]
    },
    {
     "name": "stderr",
     "output_type": "stream",
     "text": [
      "5it [00:01,  4.86it/s]\n"
     ]
    },
    {
     "name": "stdout",
     "output_type": "stream",
     "text": [
      "0.7692307692307692\n"
     ]
    },
    {
     "name": "stderr",
     "output_type": "stream",
     "text": [
      "5it [00:01,  4.94it/s]\n"
     ]
    },
    {
     "name": "stdout",
     "output_type": "stream",
     "text": [
      "0.8923076923076924\n"
     ]
    },
    {
     "name": "stderr",
     "output_type": "stream",
     "text": [
      "5it [00:01,  3.74it/s]\n"
     ]
    },
    {
     "name": "stdout",
     "output_type": "stream",
     "text": [
      "0.9333333333333333\n"
     ]
    },
    {
     "name": "stderr",
     "output_type": "stream",
     "text": [
      "5it [00:01,  3.65it/s]\n"
     ]
    },
    {
     "name": "stdout",
     "output_type": "stream",
     "text": [
      "0.7\n"
     ]
    },
    {
     "name": "stderr",
     "output_type": "stream",
     "text": [
      "5it [00:01,  3.89it/s]\n"
     ]
    },
    {
     "name": "stdout",
     "output_type": "stream",
     "text": [
      "0.8666666666666666\n"
     ]
    },
    {
     "name": "stderr",
     "output_type": "stream",
     "text": [
      "5it [00:00,  5.13it/s]\n",
      " 33%|███▎      | 2/6 [01:05<02:20, 35.15s/it]"
     ]
    },
    {
     "name": "stdout",
     "output_type": "stream",
     "text": [
      "0.8400000000000001\n",
      "[('ee', 'fi', 'ge', 'he'), ('ee', 'fi', 'ge', 'it'), ('ee', 'fi', 'ge', 'en'), ('ee', 'fi', 'ge', 'sp'), ('ee', 'fi', 'he', 'it'), ('ee', 'fi', 'he', 'en'), ('ee', 'fi', 'he', 'sp'), ('ee', 'fi', 'it', 'en'), ('ee', 'fi', 'it', 'sp'), ('ee', 'fi', 'en', 'sp'), ('ee', 'ge', 'he', 'it'), ('ee', 'ge', 'he', 'en'), ('ee', 'ge', 'he', 'sp'), ('ee', 'ge', 'it', 'en'), ('ee', 'ge', 'it', 'sp'), ('ee', 'ge', 'en', 'sp'), ('ee', 'he', 'it', 'en'), ('ee', 'he', 'it', 'sp'), ('ee', 'he', 'en', 'sp'), ('ee', 'it', 'en', 'sp'), ('fi', 'ge', 'he', 'it'), ('fi', 'ge', 'he', 'en'), ('fi', 'ge', 'he', 'sp'), ('fi', 'ge', 'it', 'en'), ('fi', 'ge', 'it', 'sp'), ('fi', 'ge', 'en', 'sp'), ('fi', 'he', 'it', 'en'), ('fi', 'he', 'it', 'sp'), ('fi', 'he', 'en', 'sp'), ('fi', 'it', 'en', 'sp'), ('ge', 'he', 'it', 'en'), ('ge', 'he', 'it', 'sp'), ('ge', 'he', 'en', 'sp'), ('ge', 'it', 'en', 'sp'), ('he', 'it', 'en', 'sp')]\n"
     ]
    },
    {
     "name": "stderr",
     "output_type": "stream",
     "text": [
      "5it [00:01,  3.26it/s]\n"
     ]
    },
    {
     "name": "stdout",
     "output_type": "stream",
     "text": [
      "0.5942857142857143\n"
     ]
    },
    {
     "name": "stderr",
     "output_type": "stream",
     "text": [
      "5it [00:02,  2.00it/s]\n"
     ]
    },
    {
     "name": "stdout",
     "output_type": "stream",
     "text": [
      "0.6055555555555555\n"
     ]
    },
    {
     "name": "stderr",
     "output_type": "stream",
     "text": [
      "5it [00:01,  2.79it/s]\n"
     ]
    },
    {
     "name": "stdout",
     "output_type": "stream",
     "text": [
      "0.7333333333333334\n"
     ]
    },
    {
     "name": "stderr",
     "output_type": "stream",
     "text": [
      "5it [00:01,  3.51it/s]\n"
     ]
    },
    {
     "name": "stdout",
     "output_type": "stream",
     "text": [
      "0.47777777777777775\n"
     ]
    },
    {
     "name": "stderr",
     "output_type": "stream",
     "text": [
      "5it [00:01,  3.51it/s]\n"
     ]
    },
    {
     "name": "stdout",
     "output_type": "stream",
     "text": [
      "0.511764705882353\n"
     ]
    },
    {
     "name": "stderr",
     "output_type": "stream",
     "text": [
      "5it [00:01,  3.30it/s]\n"
     ]
    },
    {
     "name": "stdout",
     "output_type": "stream",
     "text": [
      "0.6823529411764706\n"
     ]
    },
    {
     "name": "stderr",
     "output_type": "stream",
     "text": [
      "5it [00:01,  4.17it/s]\n"
     ]
    },
    {
     "name": "stdout",
     "output_type": "stream",
     "text": [
      "0.5\n"
     ]
    },
    {
     "name": "stderr",
     "output_type": "stream",
     "text": [
      "5it [00:01,  3.17it/s]\n"
     ]
    },
    {
     "name": "stdout",
     "output_type": "stream",
     "text": [
      "0.6628571428571428\n"
     ]
    },
    {
     "name": "stderr",
     "output_type": "stream",
     "text": [
      "5it [00:01,  3.06it/s]\n"
     ]
    },
    {
     "name": "stdout",
     "output_type": "stream",
     "text": [
      "0.4914285714285714\n"
     ]
    },
    {
     "name": "stderr",
     "output_type": "stream",
     "text": [
      "5it [00:01,  3.08it/s]\n"
     ]
    },
    {
     "name": "stdout",
     "output_type": "stream",
     "text": [
      "0.6333333333333333\n"
     ]
    },
    {
     "name": "stderr",
     "output_type": "stream",
     "text": [
      "5it [00:01,  2.81it/s]\n"
     ]
    },
    {
     "name": "stdout",
     "output_type": "stream",
     "text": [
      "0.7117647058823529\n"
     ]
    },
    {
     "name": "stderr",
     "output_type": "stream",
     "text": [
      "5it [00:01,  3.00it/s]\n"
     ]
    },
    {
     "name": "stdout",
     "output_type": "stream",
     "text": [
      "0.8\n"
     ]
    },
    {
     "name": "stderr",
     "output_type": "stream",
     "text": [
      "5it [00:01,  2.98it/s]\n"
     ]
    },
    {
     "name": "stdout",
     "output_type": "stream",
     "text": [
      "0.6823529411764706\n"
     ]
    },
    {
     "name": "stderr",
     "output_type": "stream",
     "text": [
      "5it [00:02,  2.33it/s]\n"
     ]
    },
    {
     "name": "stdout",
     "output_type": "stream",
     "text": [
      "0.7771428571428572\n"
     ]
    },
    {
     "name": "stderr",
     "output_type": "stream",
     "text": [
      "5it [00:01,  2.86it/s]\n"
     ]
    },
    {
     "name": "stdout",
     "output_type": "stream",
     "text": [
      "0.6342857142857143\n"
     ]
    },
    {
     "name": "stderr",
     "output_type": "stream",
     "text": [
      "5it [00:01,  2.73it/s]\n"
     ]
    },
    {
     "name": "stdout",
     "output_type": "stream",
     "text": [
      "0.7388888888888888\n"
     ]
    },
    {
     "name": "stderr",
     "output_type": "stream",
     "text": [
      "5it [00:01,  2.74it/s]\n"
     ]
    },
    {
     "name": "stdout",
     "output_type": "stream",
     "text": [
      "0.793939393939394\n"
     ]
    },
    {
     "name": "stderr",
     "output_type": "stream",
     "text": [
      "5it [00:02,  2.45it/s]\n"
     ]
    },
    {
     "name": "stdout",
     "output_type": "stream",
     "text": [
      "0.5515151515151515\n"
     ]
    },
    {
     "name": "stderr",
     "output_type": "stream",
     "text": [
      "5it [00:01,  3.59it/s]\n"
     ]
    },
    {
     "name": "stdout",
     "output_type": "stream",
     "text": [
      "0.7058823529411764\n"
     ]
    },
    {
     "name": "stderr",
     "output_type": "stream",
     "text": [
      "5it [00:02,  1.96it/s]\n"
     ]
    },
    {
     "name": "stdout",
     "output_type": "stream",
     "text": [
      "0.6705882352941177\n"
     ]
    },
    {
     "name": "stderr",
     "output_type": "stream",
     "text": [
      "5it [00:02,  1.82it/s]\n"
     ]
    },
    {
     "name": "stdout",
     "output_type": "stream",
     "text": [
      "0.7705882352941176\n"
     ]
    },
    {
     "name": "stderr",
     "output_type": "stream",
     "text": [
      "5it [00:02,  2.05it/s]\n"
     ]
    },
    {
     "name": "stdout",
     "output_type": "stream",
     "text": [
      "0.8411764705882352\n"
     ]
    },
    {
     "name": "stderr",
     "output_type": "stream",
     "text": [
      "5it [00:02,  1.91it/s]\n"
     ]
    },
    {
     "name": "stdout",
     "output_type": "stream",
     "text": [
      "0.676470588235294\n"
     ]
    },
    {
     "name": "stderr",
     "output_type": "stream",
     "text": [
      "5it [00:01,  3.01it/s]\n"
     ]
    },
    {
     "name": "stdout",
     "output_type": "stream",
     "text": [
      "0.8171428571428573\n"
     ]
    },
    {
     "name": "stderr",
     "output_type": "stream",
     "text": [
      "5it [00:01,  3.44it/s]\n"
     ]
    },
    {
     "name": "stdout",
     "output_type": "stream",
     "text": [
      "0.7085714285714287\n"
     ]
    },
    {
     "name": "stderr",
     "output_type": "stream",
     "text": [
      "5it [00:01,  4.06it/s]\n"
     ]
    },
    {
     "name": "stdout",
     "output_type": "stream",
     "text": [
      "0.7833333333333333\n"
     ]
    },
    {
     "name": "stderr",
     "output_type": "stream",
     "text": [
      "5it [00:01,  2.75it/s]\n"
     ]
    },
    {
     "name": "stdout",
     "output_type": "stream",
     "text": [
      "0.8\n"
     ]
    },
    {
     "name": "stderr",
     "output_type": "stream",
     "text": [
      "5it [00:01,  3.31it/s]\n"
     ]
    },
    {
     "name": "stdout",
     "output_type": "stream",
     "text": [
      "0.6181818181818182\n"
     ]
    },
    {
     "name": "stderr",
     "output_type": "stream",
     "text": [
      "5it [00:01,  3.39it/s]\n"
     ]
    },
    {
     "name": "stdout",
     "output_type": "stream",
     "text": [
      "0.7294117647058824\n"
     ]
    },
    {
     "name": "stderr",
     "output_type": "stream",
     "text": [
      "5it [00:02,  2.43it/s]\n"
     ]
    },
    {
     "name": "stdout",
     "output_type": "stream",
     "text": [
      "0.6647058823529413\n"
     ]
    },
    {
     "name": "stderr",
     "output_type": "stream",
     "text": [
      "5it [00:02,  1.84it/s]\n"
     ]
    },
    {
     "name": "stdout",
     "output_type": "stream",
     "text": [
      "0.8727272727272727\n"
     ]
    },
    {
     "name": "stderr",
     "output_type": "stream",
     "text": [
      "5it [00:02,  2.31it/s]\n"
     ]
    },
    {
     "name": "stdout",
     "output_type": "stream",
     "text": [
      "0.7272727272727273\n"
     ]
    },
    {
     "name": "stderr",
     "output_type": "stream",
     "text": [
      "5it [00:01,  2.65it/s]\n"
     ]
    },
    {
     "name": "stdout",
     "output_type": "stream",
     "text": [
      "0.8411764705882353\n"
     ]
    },
    {
     "name": "stderr",
     "output_type": "stream",
     "text": [
      "5it [00:02,  2.44it/s]\n"
     ]
    },
    {
     "name": "stdout",
     "output_type": "stream",
     "text": [
      "0.7764705882352942\n"
     ]
    },
    {
     "name": "stderr",
     "output_type": "stream",
     "text": [
      "5it [00:01,  2.99it/s]\n",
      " 50%|█████     | 3/6 [02:11<02:26, 48.94s/it]"
     ]
    },
    {
     "name": "stdout",
     "output_type": "stream",
     "text": [
      "0.75\n",
      "[('ee', 'fi', 'ge', 'he', 'it'), ('ee', 'fi', 'ge', 'he', 'en'), ('ee', 'fi', 'ge', 'he', 'sp'), ('ee', 'fi', 'ge', 'it', 'en'), ('ee', 'fi', 'ge', 'it', 'sp'), ('ee', 'fi', 'ge', 'en', 'sp'), ('ee', 'fi', 'he', 'it', 'en'), ('ee', 'fi', 'he', 'it', 'sp'), ('ee', 'fi', 'he', 'en', 'sp'), ('ee', 'fi', 'it', 'en', 'sp'), ('ee', 'ge', 'he', 'it', 'en'), ('ee', 'ge', 'he', 'it', 'sp'), ('ee', 'ge', 'he', 'en', 'sp'), ('ee', 'ge', 'it', 'en', 'sp'), ('ee', 'he', 'it', 'en', 'sp'), ('fi', 'ge', 'he', 'it', 'en'), ('fi', 'ge', 'he', 'it', 'sp'), ('fi', 'ge', 'he', 'en', 'sp'), ('fi', 'ge', 'it', 'en', 'sp'), ('fi', 'he', 'it', 'en', 'sp'), ('ge', 'he', 'it', 'en', 'sp')]\n"
     ]
    },
    {
     "name": "stderr",
     "output_type": "stream",
     "text": [
      "5it [00:01,  2.96it/s]\n"
     ]
    },
    {
     "name": "stdout",
     "output_type": "stream",
     "text": [
      "0.572093023255814\n"
     ]
    },
    {
     "name": "stderr",
     "output_type": "stream",
     "text": [
      "5it [00:02,  2.00it/s]\n"
     ]
    },
    {
     "name": "stdout",
     "output_type": "stream",
     "text": [
      "0.6772727272727272\n"
     ]
    },
    {
     "name": "stderr",
     "output_type": "stream",
     "text": [
      "5it [00:01,  2.71it/s]\n"
     ]
    },
    {
     "name": "stdout",
     "output_type": "stream",
     "text": [
      "0.49090909090909085\n"
     ]
    },
    {
     "name": "stderr",
     "output_type": "stream",
     "text": [
      "5it [00:02,  2.35it/s]\n"
     ]
    },
    {
     "name": "stdout",
     "output_type": "stream",
     "text": [
      "0.6818181818181819\n"
     ]
    },
    {
     "name": "stderr",
     "output_type": "stream",
     "text": [
      "5it [00:01,  2.67it/s]\n"
     ]
    },
    {
     "name": "stdout",
     "output_type": "stream",
     "text": [
      "0.5590909090909091\n"
     ]
    },
    {
     "name": "stderr",
     "output_type": "stream",
     "text": [
      "5it [00:02,  1.76it/s]\n"
     ]
    },
    {
     "name": "stdout",
     "output_type": "stream",
     "text": [
      "0.6577777777777778\n"
     ]
    },
    {
     "name": "stderr",
     "output_type": "stream",
     "text": [
      "5it [00:02,  2.41it/s]\n"
     ]
    },
    {
     "name": "stdout",
     "output_type": "stream",
     "text": [
      "0.6047619047619048\n"
     ]
    },
    {
     "name": "stderr",
     "output_type": "stream",
     "text": [
      "5it [00:02,  2.39it/s]\n"
     ]
    },
    {
     "name": "stdout",
     "output_type": "stream",
     "text": [
      "0.42380952380952375\n"
     ]
    },
    {
     "name": "stderr",
     "output_type": "stream",
     "text": [
      "5it [00:02,  1.94it/s]\n"
     ]
    },
    {
     "name": "stdout",
     "output_type": "stream",
     "text": [
      "0.5395348837209302\n"
     ]
    },
    {
     "name": "stderr",
     "output_type": "stream",
     "text": [
      "5it [00:08,  1.68s/it]\n"
     ]
    },
    {
     "name": "stdout",
     "output_type": "stream",
     "text": [
      "0.5545454545454546\n"
     ]
    },
    {
     "name": "stderr",
     "output_type": "stream",
     "text": [
      "5it [00:04,  1.06it/s]\n"
     ]
    },
    {
     "name": "stdout",
     "output_type": "stream",
     "text": [
      "0.7380952380952381\n"
     ]
    },
    {
     "name": "stderr",
     "output_type": "stream",
     "text": [
      "5it [00:02,  2.00it/s]\n"
     ]
    },
    {
     "name": "stdout",
     "output_type": "stream",
     "text": [
      "0.5523809523809524\n"
     ]
    },
    {
     "name": "stderr",
     "output_type": "stream",
     "text": [
      "5it [00:02,  2.33it/s]\n"
     ]
    },
    {
     "name": "stdout",
     "output_type": "stream",
     "text": [
      "0.6930232558139535\n"
     ]
    },
    {
     "name": "stderr",
     "output_type": "stream",
     "text": [
      "5it [00:02,  1.71it/s]\n"
     ]
    },
    {
     "name": "stdout",
     "output_type": "stream",
     "text": [
      "0.7000000000000001\n"
     ]
    },
    {
     "name": "stderr",
     "output_type": "stream",
     "text": [
      "5it [00:01,  2.61it/s]\n"
     ]
    },
    {
     "name": "stdout",
     "output_type": "stream",
     "text": [
      "0.6142857142857143\n"
     ]
    },
    {
     "name": "stderr",
     "output_type": "stream",
     "text": [
      "5it [00:01,  2.72it/s]\n"
     ]
    },
    {
     "name": "stdout",
     "output_type": "stream",
     "text": [
      "0.7952380952380953\n"
     ]
    },
    {
     "name": "stderr",
     "output_type": "stream",
     "text": [
      "5it [00:01,  2.87it/s]\n"
     ]
    },
    {
     "name": "stdout",
     "output_type": "stream",
     "text": [
      "0.6047619047619047\n"
     ]
    },
    {
     "name": "stderr",
     "output_type": "stream",
     "text": [
      "5it [00:02,  2.40it/s]\n"
     ]
    },
    {
     "name": "stdout",
     "output_type": "stream",
     "text": [
      "0.7302325581395348\n"
     ]
    },
    {
     "name": "stderr",
     "output_type": "stream",
     "text": [
      "5it [00:02,  2.49it/s]\n"
     ]
    },
    {
     "name": "stdout",
     "output_type": "stream",
     "text": [
      "0.7136363636363636\n"
     ]
    },
    {
     "name": "stderr",
     "output_type": "stream",
     "text": [
      "5it [00:02,  1.80it/s]\n"
     ]
    },
    {
     "name": "stdout",
     "output_type": "stream",
     "text": [
      "0.6285714285714286\n"
     ]
    },
    {
     "name": "stderr",
     "output_type": "stream",
     "text": [
      "5it [00:01,  2.96it/s]\n",
      " 67%|██████▋   | 4/6 [03:06<01:42, 51.32s/it]"
     ]
    },
    {
     "name": "stdout",
     "output_type": "stream",
     "text": [
      "0.719047619047619\n",
      "[('ee', 'fi', 'ge', 'he', 'it', 'en'), ('ee', 'fi', 'ge', 'he', 'it', 'sp'), ('ee', 'fi', 'ge', 'he', 'en', 'sp'), ('ee', 'fi', 'ge', 'it', 'en', 'sp'), ('ee', 'fi', 'he', 'it', 'en', 'sp'), ('ee', 'ge', 'he', 'it', 'en', 'sp'), ('fi', 'ge', 'he', 'it', 'en', 'sp')]\n"
     ]
    },
    {
     "name": "stderr",
     "output_type": "stream",
     "text": [
      "5it [00:02,  2.43it/s]\n"
     ]
    },
    {
     "name": "stdout",
     "output_type": "stream",
     "text": [
      "0.6615384615384616\n"
     ]
    },
    {
     "name": "stderr",
     "output_type": "stream",
     "text": [
      "5it [00:02,  2.07it/s]\n"
     ]
    },
    {
     "name": "stdout",
     "output_type": "stream",
     "text": [
      "0.5038461538461538\n"
     ]
    },
    {
     "name": "stderr",
     "output_type": "stream",
     "text": [
      "5it [00:02,  1.70it/s]\n"
     ]
    },
    {
     "name": "stdout",
     "output_type": "stream",
     "text": [
      "0.5576923076923077\n"
     ]
    },
    {
     "name": "stderr",
     "output_type": "stream",
     "text": [
      "5it [00:02,  2.33it/s]\n"
     ]
    },
    {
     "name": "stdout",
     "output_type": "stream",
     "text": [
      "0.6226415094339622\n"
     ]
    },
    {
     "name": "stderr",
     "output_type": "stream",
     "text": [
      "5it [00:02,  2.01it/s]\n"
     ]
    },
    {
     "name": "stdout",
     "output_type": "stream",
     "text": [
      "0.5529411764705883\n"
     ]
    },
    {
     "name": "stderr",
     "output_type": "stream",
     "text": [
      "5it [00:02,  1.93it/s]\n"
     ]
    },
    {
     "name": "stdout",
     "output_type": "stream",
     "text": [
      "0.6784313725490196\n"
     ]
    },
    {
     "name": "stderr",
     "output_type": "stream",
     "text": [
      "5it [00:01,  2.51it/s]\n",
      " 83%|████████▎ | 5/6 [03:22<00:38, 38.88s/it]"
     ]
    },
    {
     "name": "stdout",
     "output_type": "stream",
     "text": [
      "0.6352941176470587\n",
      "[('ee', 'fi', 'ge', 'he', 'it', 'en', 'sp')]\n"
     ]
    },
    {
     "name": "stderr",
     "output_type": "stream",
     "text": [
      "5it [00:02,  2.03it/s]\n",
      "100%|██████████| 6/6 [03:25<00:00, 34.23s/it]"
     ]
    },
    {
     "name": "stdout",
     "output_type": "stream",
     "text": [
      "0.5800000000000001\n"
     ]
    },
    {
     "name": "stderr",
     "output_type": "stream",
     "text": [
      "\n"
     ]
    }
   ],
   "source": [
    "##### only for 4 lang check: #####\n",
    "\n",
    "#df_main = df_main[df_main[('labels', 'lang')].isin(['ee', 'fi', 'it', 'sp'])]\n",
    "\n",
    "dict_performances = {}\n",
    "dict_performances_groups = []\n",
    "\n",
    "for i in tqdm(range(2, 8)): # 8\n",
    "    comb = list(itertools.combinations(['ee', 'fi', 'ge', 'he', 'it', 'en', 'sp'], i))\n",
    "    print(comb)\n",
    "    temp = []\n",
    "    for c in comb:\n",
    "        #print(c)\n",
    "        df_main_ = df_main[df_main[('labels', 'lang')].isin(c)]\n",
    "        logreg = LogisticRegression(C=1e5, multi_class='multinomial', solver='lbfgs', random_state=0)\n",
    "        columns = ['TF_uni', 'FP_uni', 'FF_uni', 'TF_bi', 'FP_bi', 'FF_bi', 'TF_tri', 'FP_tri', 'FF_tri' ]\n",
    "        cross_val_scores = get_cv_score(df_main_, columns, logreg)\n",
    "        dict_performances[str(c)] = np.mean(cross_val_scores)\n",
    "        temp.append(np.mean(cross_val_scores))\n",
    "    dict_performances_groups.append([i, np.mean(temp)])\n",
    "##########"
   ]
  },
  {
   "cell_type": "code",
   "execution_count": 129,
   "metadata": {},
   "outputs": [
    {
     "data": {
      "text/plain": [
       "{\"('ee', 'fi')\": 0.6736842105263158,\n",
       " \"('ee', 'ge')\": 0.8526315789473683,\n",
       " \"('ee', 'he')\": 0.8235294117647058,\n",
       " \"('ee', 'it')\": 0.8,\n",
       " \"('ee', 'en')\": 0.9888888888888889,\n",
       " \"('ee', 'sp')\": 0.711111111111111,\n",
       " \"('fi', 'ge')\": 0.8736842105263157,\n",
       " \"('fi', 'he')\": 0.8705882352941176,\n",
       " \"('fi', 'it')\": 0.8222222222222222,\n",
       " \"('fi', 'en')\": 1.0,\n",
       " \"('fi', 'sp')\": 0.6555555555555556,\n",
       " \"('ge', 'he')\": 0.8941176470588236,\n",
       " \"('ge', 'it')\": 0.9,\n",
       " \"('ge', 'en')\": 1.0,\n",
       " \"('ge', 'sp')\": 0.8666666666666666,\n",
       " \"('he', 'it')\": 0.8,\n",
       " \"('he', 'en')\": 0.9875,\n",
       " \"('he', 'sp')\": 0.775,\n",
       " \"('it', 'en')\": 1.0,\n",
       " \"('it', 'sp')\": 0.6823529411764706,\n",
       " \"('en', 'sp')\": 0.9647058823529411,\n",
       " \"('ee', 'fi', 'ge')\": 0.6285714285714286,\n",
       " \"('ee', 'fi', 'he')\": 0.6307692307692306,\n",
       " \"('ee', 'fi', 'it')\": 0.6814814814814815,\n",
       " \"('ee', 'fi', 'en')\": 0.7925925925925925,\n",
       " \"('ee', 'fi', 'sp')\": 0.5407407407407407,\n",
       " \"('ee', 'ge', 'he')\": 0.7384615384615384,\n",
       " \"('ee', 'ge', 'it')\": 0.8074074074074075,\n",
       " \"('ee', 'ge', 'en')\": 0.8814814814814815,\n",
       " \"('ee', 'ge', 'sp')\": 0.6814814814814815,\n",
       " \"('ee', 'he', 'it')\": 0.768,\n",
       " \"('ee', 'he', 'en')\": 0.8160000000000001,\n",
       " \"('ee', 'he', 'sp')\": 0.5840000000000001,\n",
       " \"('ee', 'it', 'en')\": 0.8846153846153845,\n",
       " \"('ee', 'it', 'sp')\": 0.6923076923076923,\n",
       " \"('ee', 'en', 'sp')\": 0.8076923076923077,\n",
       " \"('fi', 'ge', 'he')\": 0.7923076923076923,\n",
       " \"('fi', 'ge', 'it')\": 0.748148148148148,\n",
       " \"('fi', 'ge', 'en')\": 0.9111111111111111,\n",
       " \"('fi', 'ge', 'sp')\": 0.6962962962962962,\n",
       " \"('fi', 'he', 'it')\": 0.768,\n",
       " \"('fi', 'he', 'en')\": 0.8799999999999999,\n",
       " \"('fi', 'he', 'sp')\": 0.672,\n",
       " \"('fi', 'it', 'en')\": 0.8615384615384617,\n",
       " \"('fi', 'it', 'sp')\": 0.6538461538461539,\n",
       " \"('fi', 'en', 'sp')\": 0.8076923076923077,\n",
       " \"('ge', 'he', 'it')\": 0.8320000000000001,\n",
       " \"('ge', 'he', 'en')\": 0.9119999999999999,\n",
       " \"('ge', 'he', 'sp')\": 0.744,\n",
       " \"('ge', 'it', 'en')\": 0.9384615384615385,\n",
       " \"('ge', 'it', 'sp')\": 0.7692307692307692,\n",
       " \"('ge', 'en', 'sp')\": 0.8923076923076924,\n",
       " \"('he', 'it', 'en')\": 0.9333333333333333,\n",
       " \"('he', 'it', 'sp')\": 0.7,\n",
       " \"('he', 'en', 'sp')\": 0.8666666666666666,\n",
       " \"('it', 'en', 'sp')\": 0.8400000000000001,\n",
       " \"('ee', 'fi', 'ge', 'he')\": 0.5942857142857143,\n",
       " \"('ee', 'fi', 'ge', 'it')\": 0.6055555555555555,\n",
       " \"('ee', 'fi', 'ge', 'en')\": 0.7333333333333334,\n",
       " \"('ee', 'fi', 'ge', 'sp')\": 0.47777777777777775,\n",
       " \"('ee', 'fi', 'he', 'it')\": 0.511764705882353,\n",
       " \"('ee', 'fi', 'he', 'en')\": 0.6823529411764706,\n",
       " \"('ee', 'fi', 'he', 'sp')\": 0.5,\n",
       " \"('ee', 'fi', 'it', 'en')\": 0.6628571428571428,\n",
       " \"('ee', 'fi', 'it', 'sp')\": 0.4914285714285714,\n",
       " \"('ee', 'fi', 'en', 'sp')\": 0.6333333333333333,\n",
       " \"('ee', 'ge', 'he', 'it')\": 0.7117647058823529,\n",
       " \"('ee', 'ge', 'he', 'en')\": 0.8,\n",
       " \"('ee', 'ge', 'he', 'sp')\": 0.6823529411764706,\n",
       " \"('ee', 'ge', 'it', 'en')\": 0.7771428571428572,\n",
       " \"('ee', 'ge', 'it', 'sp')\": 0.6342857142857143,\n",
       " \"('ee', 'ge', 'en', 'sp')\": 0.7388888888888888,\n",
       " \"('ee', 'he', 'it', 'en')\": 0.793939393939394,\n",
       " \"('ee', 'he', 'it', 'sp')\": 0.5515151515151515,\n",
       " \"('ee', 'he', 'en', 'sp')\": 0.7058823529411764,\n",
       " \"('ee', 'it', 'en', 'sp')\": 0.6705882352941177,\n",
       " \"('fi', 'ge', 'he', 'it')\": 0.7705882352941176,\n",
       " \"('fi', 'ge', 'he', 'en')\": 0.8411764705882352,\n",
       " \"('fi', 'ge', 'he', 'sp')\": 0.676470588235294,\n",
       " \"('fi', 'ge', 'it', 'en')\": 0.8171428571428573,\n",
       " \"('fi', 'ge', 'it', 'sp')\": 0.7085714285714287,\n",
       " \"('fi', 'ge', 'en', 'sp')\": 0.7833333333333333,\n",
       " \"('fi', 'he', 'it', 'en')\": 0.8,\n",
       " \"('fi', 'he', 'it', 'sp')\": 0.6181818181818182,\n",
       " \"('fi', 'he', 'en', 'sp')\": 0.7294117647058824,\n",
       " \"('fi', 'it', 'en', 'sp')\": 0.6647058823529413,\n",
       " \"('ge', 'he', 'it', 'en')\": 0.8727272727272727,\n",
       " \"('ge', 'he', 'it', 'sp')\": 0.7272727272727273,\n",
       " \"('ge', 'he', 'en', 'sp')\": 0.8411764705882353,\n",
       " \"('ge', 'it', 'en', 'sp')\": 0.7764705882352942,\n",
       " \"('he', 'it', 'en', 'sp')\": 0.75,\n",
       " \"('ee', 'fi', 'ge', 'he', 'it')\": 0.572093023255814,\n",
       " \"('ee', 'fi', 'ge', 'he', 'en')\": 0.6772727272727272,\n",
       " \"('ee', 'fi', 'ge', 'he', 'sp')\": 0.49090909090909085,\n",
       " \"('ee', 'fi', 'ge', 'it', 'en')\": 0.6818181818181819,\n",
       " \"('ee', 'fi', 'ge', 'it', 'sp')\": 0.5590909090909091,\n",
       " \"('ee', 'fi', 'ge', 'en', 'sp')\": 0.6577777777777778,\n",
       " \"('ee', 'fi', 'he', 'it', 'en')\": 0.6047619047619048,\n",
       " \"('ee', 'fi', 'he', 'it', 'sp')\": 0.42380952380952375,\n",
       " \"('ee', 'fi', 'he', 'en', 'sp')\": 0.5395348837209302,\n",
       " \"('ee', 'fi', 'it', 'en', 'sp')\": 0.5545454545454546,\n",
       " \"('ee', 'ge', 'he', 'it', 'en')\": 0.7380952380952381,\n",
       " \"('ee', 'ge', 'he', 'it', 'sp')\": 0.5523809523809524,\n",
       " \"('ee', 'ge', 'he', 'en', 'sp')\": 0.6930232558139535,\n",
       " \"('ee', 'ge', 'it', 'en', 'sp')\": 0.7000000000000001,\n",
       " \"('ee', 'he', 'it', 'en', 'sp')\": 0.6142857142857143,\n",
       " \"('fi', 'ge', 'he', 'it', 'en')\": 0.7952380952380953,\n",
       " \"('fi', 'ge', 'he', 'it', 'sp')\": 0.6047619047619047,\n",
       " \"('fi', 'ge', 'he', 'en', 'sp')\": 0.7302325581395348,\n",
       " \"('fi', 'ge', 'it', 'en', 'sp')\": 0.7136363636363636,\n",
       " \"('fi', 'he', 'it', 'en', 'sp')\": 0.6285714285714286,\n",
       " \"('ge', 'he', 'it', 'en', 'sp')\": 0.719047619047619,\n",
       " \"('ee', 'fi', 'ge', 'he', 'it', 'en')\": 0.6615384615384616,\n",
       " \"('ee', 'fi', 'ge', 'he', 'it', 'sp')\": 0.5038461538461538,\n",
       " \"('ee', 'fi', 'ge', 'he', 'en', 'sp')\": 0.5576923076923077,\n",
       " \"('ee', 'fi', 'ge', 'it', 'en', 'sp')\": 0.6226415094339622,\n",
       " \"('ee', 'fi', 'he', 'it', 'en', 'sp')\": 0.5529411764705883,\n",
       " \"('ee', 'ge', 'he', 'it', 'en', 'sp')\": 0.6784313725490196,\n",
       " \"('fi', 'ge', 'he', 'it', 'en', 'sp')\": 0.6352941176470587,\n",
       " \"('ee', 'fi', 'ge', 'he', 'it', 'en', 'sp')\": 0.5800000000000001}"
      ]
     },
     "execution_count": 129,
     "metadata": {},
     "output_type": "execute_result"
    }
   ],
   "source": [
    "dict_performances"
   ]
  },
  {
   "cell_type": "code",
   "execution_count": 137,
   "metadata": {},
   "outputs": [
    {
     "data": {
      "text/plain": [
       "[[2, 0.8543923124805478],\n",
       " [3, 0.7758440839583697],\n",
       " [4, 0.6953222501121661],\n",
       " [5, 0.6309946003301484],\n",
       " [6, 0.6017692998825074],\n",
       " [7, 0.5800000000000001]]"
      ]
     },
     "execution_count": 137,
     "metadata": {},
     "output_type": "execute_result"
    }
   ],
   "source": [
    "dict_performances_groups"
   ]
  },
  {
   "cell_type": "code",
   "execution_count": 146,
   "metadata": {},
   "outputs": [
    {
     "data": {
      "text/plain": [
       "array([2., 3., 4., 5., 6., 7.])"
      ]
     },
     "execution_count": 146,
     "metadata": {},
     "output_type": "execute_result"
    }
   ],
   "source": [
    "np.array(dict_performances_groups)[:, 0]"
   ]
  },
  {
   "cell_type": "code",
   "execution_count": 147,
   "metadata": {},
   "outputs": [],
   "source": [
    "import matplotlib.pyplot as plt"
   ]
  },
  {
   "cell_type": "code",
   "execution_count": 166,
   "metadata": {},
   "outputs": [
    {
     "data": {
      "image/png": "[encoded data removed]",
      "text/plain": [
       "<Figure size 900x500 with 1 Axes>"
      ]
     },
     "metadata": {},
     "output_type": "display_data"
    }
   ],
   "source": [
    "\n",
    "fig, axes = plt.subplots(ncols=1, figsize=(9,5))\n",
    "axes.plot(np.array(dict_performances_groups)[:, 0],\n",
    "        [i * 100 for i in  np.array(dict_performances_groups)[:, 1]], marker='o')\n",
    "# mean performance per group of all combinations of languages\n",
    "#axes.set_title('Mean performance per group of all possible combinations of languages. E.g. 2 on the x axis means a group all language pairs amd y shows the mean performance. ')\n",
    "axes.set_xlabel('Number of languages per combination')\n",
    "axes.set_ylabel('Performance %')\n",
    "axes.set_ylim(0, 100);"
   ]
  },
  {
   "cell_type": "markdown",
   "metadata": {},
   "source": [
    "## LogReg NLIR"
   ]
  },
  {
   "cell_type": "code",
   "execution_count": 95,
   "metadata": {},
   "outputs": [],
   "source": [
    "# defining model with correct solver\n",
    "logreg = LogisticRegression(C=1e5, multi_class='multinomial', solver='lbfgs', random_state=0)"
   ]
  },
  {
   "cell_type": "code",
   "execution_count": 96,
   "metadata": {},
   "outputs": [],
   "source": [
    "# columns used in training\n",
    "columns = ['TF_uni', 'FP_uni', 'FF_uni', 'TF_bi', 'FP_bi', 'FF_bi', 'TF_tri', 'FP_tri', 'FF_tri' ]"
   ]
  },
  {
   "cell_type": "markdown",
   "metadata": {},
   "source": [
    "Cross validation score: \n",
    "\n",
    "(only needed for report and not for further coding)"
   ]
  },
  {
   "cell_type": "code",
   "execution_count": 97,
   "metadata": {},
   "outputs": [
    {
     "name": "stderr",
     "output_type": "stream",
     "text": [
      "5it [00:01,  3.40it/s]"
     ]
    },
    {
     "name": "stdout",
     "output_type": "stream",
     "text": [
      "0.6538461538461539\n",
      "0.6538461538461539\n"
     ]
    },
    {
     "name": "stderr",
     "output_type": "stream",
     "text": [
      "\n"
     ]
    }
   ],
   "source": [
    "cross_val_scores = get_cv_score(df_main, columns, logreg)\n",
    "print(np.mean(cross_val_scores))\n",
    "#cross_val_scores # [0.65, 0.5666666666666667, 0.6, 0.5166666666666667, 0.5666666666666667]"
   ]
  },
  {
   "cell_type": "code",
   "execution_count": 98,
   "metadata": {},
   "outputs": [],
   "source": [
    "# real train-test split to be used for further analysis: \n",
    "train_subset = df_main[columns]\n",
    "train_label_subset = df_main[('labels', 'lang_code')]\n",
    "\n",
    "gss = GroupShuffleSplit(n_splits=5, test_size = 0.3, random_state=42)\n",
    "split_indexes = list(gss.split(train_subset, train_label_subset, df_main[('id','uniform_id')]))[0]\n",
    "train_idx = list(split_indexes[0])\n",
    "test_idx = list(split_indexes[1])\n",
    "\n",
    "X_train = train_subset.iloc[train_idx]\n",
    "y_train = train_label_subset.iloc[train_idx]\n",
    "X_test = train_subset.iloc[test_idx]\n",
    "y_test = train_label_subset.iloc[test_idx]\n",
    "\n",
    "test_lang = df_main[('labels', 'lang')].iloc[test_idx]\n",
    "test_lang_codes = df_main[('labels', 'lang_code')].iloc[test_idx]"
   ]
  },
  {
   "cell_type": "code",
   "execution_count": 99,
   "metadata": {},
   "outputs": [
    {
     "name": "stdout",
     "output_type": "stream",
     "text": [
      "Test set accuracy: 0.5; overall cross validation accuracy 0.6538461538461539\n"
     ]
    }
   ],
   "source": [
    "# fit model:\n",
    "logreg.fit(X_train, y_train)\n",
    "\n",
    "# only for score count:\n",
    "y_pred = logreg.predict(X_test)\n",
    "test_acc_score = accuracy_score(y_test, y_pred)\n",
    "print(f'Test set accuracy: {test_acc_score}; overall cross validation accuracy {np.mean(cross_val_scores)}')\n",
    "# Test set accuracy: 0.6888888888888889; overall cross validation accuracy 0.5800000000000001 for all languages\n",
    "# Test set accuracy: 0.4074074074074074; overall cross validation accuracy 0.4914285714285714 for 4 languages\n"
   ]
  },
  {
   "cell_type": "markdown",
   "metadata": {},
   "source": [
    "Test set accuracy: 0.7857142857142857; overall cross validation accuracy 0.6736842105263158 for ee - fi (46)\n",
    "\n",
    "Test set accuracy: 0.8571428571428571; overall cross validation accuracy 0.711111111111111 for ee - sp (44)\n",
    "\n",
    "Test set accuracy: 0.7692307692307693; overall cross validation accuracy 0.8 for ee -it  (43)\n",
    "\n",
    "Test set accuracy: 0.5384615384615384; overall cross validation accuracy 0.8222222222222222 fi it (43)\n",
    "\n",
    "Test set accuracy: 0.5714285714285714; overall cross validation accuracy 0.6555555555555556 fi sp (44)\n",
    "\n",
    "Test set accuracy: 0.7692307692307693; overall cross validation accuracy 0.6823529411764706 it sp (41)\n",
    "\n",
    "\n",
    "\n",
    "Test set accuracy: 0.5238095238095238; overall cross validation accuracy 0.5407407407407407 ee fi sp \n",
    "\n",
    "Test set accuracy: 0.55; overall cross validation accuracy 0.6814814814814815 ee fi it\n",
    "\n",
    "Test set accuracy: 0.55; overall cross validation accuracy 0.6923076923076923 ee sp it\n",
    "\n",
    "Test set accuracy: 0.5; overall cross validation accuracy 0.6538461538461539 fi sp it\n",
    "\n",
    "\n",
    "\n",
    "\n",
    "\n",
    "\n",
    "\n",
    "\n",
    "\n",
    "\n",
    "\n",
    "\n",
    "\n",
    "\n",
    "\n",
    "\n",
    "\n"
   ]
  },
  {
   "cell_type": "markdown",
   "metadata": {},
   "source": [
    "### LogReg Similarity"
   ]
  },
  {
   "cell_type": "markdown",
   "metadata": {},
   "source": [
    "Create dictionary with df for each language separately to be used for similarity metrics:"
   ]
  },
  {
   "cell_type": "code",
   "execution_count": 13,
   "metadata": {},
   "outputs": [
    {
     "name": "stderr",
     "output_type": "stream",
     "text": [
      "/tmp/ipykernel_2200/2390796384.py:1: SettingWithCopyWarning: \n",
      "A value is trying to be set on a copy of a slice from a DataFrame.\n",
      "Try using .loc[row_indexer,col_indexer] = value instead\n",
      "\n",
      "See the caveats in the documentation: https://pandas.pydata.org/pandas-docs/stable/user_guide/indexing.html#returning-a-view-versus-a-copy\n",
      "  X_test['lang'] = test_lang # add language column\n"
     ]
    }
   ],
   "source": [
    "X_test['lang'] = test_lang # add language column\n",
    "languages = list(test_lang.unique())\n",
    "dict_lang = {}\n",
    "for ll in languages:\n",
    "    df = X_test[X_test['lang'] == ll]\n",
    "    dict_lang[ll] = df\n",
    "\n",
    "\n",
    "dict_proba ={}\n",
    "len_dfs = []\n",
    "lang_identifier = []\n",
    "for key in dict_lang.keys():\n",
    "    lang_df = dict_lang[key][columns]\n",
    "    test_proba = logreg.predict_proba(lang_df) # predicting probabilities here\n",
    "    len_df = len(lang_df)\n",
    "    test_proba = test_proba.sum(axis=0)   # sum bc they are normalised by number of participants\n",
    "    dict_proba[key] = test_proba\n",
    "    len_dfs.append(len_df) # record length of language df\n",
    "    lang_identifier.append(key)"
   ]
  },
  {
   "cell_type": "code",
   "execution_count": 14,
   "metadata": {},
   "outputs": [],
   "source": [
    "# to pandas:\n",
    "df_predictions = pd.DataFrame(dict_proba).reset_index()\n",
    "# cols are lang on which predicted and rows are outputs\n",
    "\n",
    "# add col with lenghts and lang name\n",
    "df_predictions['length'] = len_dfs\n",
    "df_predictions['lang'] = lang_identifier"
   ]
  },
  {
   "cell_type": "code",
   "execution_count": 15,
   "metadata": {},
   "outputs": [
    {
     "data": {
      "text/html": [
       "<div>\n",
       "<style scoped>\n",
       "    .dataframe tbody tr th:only-of-type {\n",
       "        vertical-align: middle;\n",
       "    }\n",
       "\n",
       "    .dataframe tbody tr th {\n",
       "        vertical-align: top;\n",
       "    }\n",
       "\n",
       "    .dataframe thead th {\n",
       "        text-align: right;\n",
       "    }\n",
       "</style>\n",
       "<table border=\"1\" class=\"dataframe\">\n",
       "  <thead>\n",
       "    <tr style=\"text-align: right;\">\n",
       "      <th></th>\n",
       "      <th>index</th>\n",
       "      <th>ee</th>\n",
       "      <th>fi</th>\n",
       "      <th>it</th>\n",
       "      <th>sp</th>\n",
       "      <th>length</th>\n",
       "      <th>lang</th>\n",
       "    </tr>\n",
       "  </thead>\n",
       "  <tbody>\n",
       "    <tr>\n",
       "      <th>0</th>\n",
       "      <td>0</td>\n",
       "      <td>1.008800</td>\n",
       "      <td>1.000000</td>\n",
       "      <td>5.155617e-17</td>\n",
       "      <td>1.000196</td>\n",
       "      <td>9</td>\n",
       "      <td>ee</td>\n",
       "    </tr>\n",
       "    <tr>\n",
       "      <th>1</th>\n",
       "      <td>1</td>\n",
       "      <td>2.820599</td>\n",
       "      <td>1.979845</td>\n",
       "      <td>5.632468e-08</td>\n",
       "      <td>1.888169</td>\n",
       "      <td>5</td>\n",
       "      <td>fi</td>\n",
       "    </tr>\n",
       "    <tr>\n",
       "      <th>2</th>\n",
       "      <td>2</td>\n",
       "      <td>0.000030</td>\n",
       "      <td>0.998007</td>\n",
       "      <td>3.453242e+00</td>\n",
       "      <td>1.368055</td>\n",
       "      <td>4</td>\n",
       "      <td>it</td>\n",
       "    </tr>\n",
       "    <tr>\n",
       "      <th>3</th>\n",
       "      <td>3</td>\n",
       "      <td>5.170571</td>\n",
       "      <td>1.022147</td>\n",
       "      <td>5.467576e-01</td>\n",
       "      <td>4.743580</td>\n",
       "      <td>9</td>\n",
       "      <td>sp</td>\n",
       "    </tr>\n",
       "  </tbody>\n",
       "</table>\n",
       "</div>"
      ],
      "text/plain": [
       "   index        ee        fi            it        sp  length lang\n",
       "0      0  1.008800  1.000000  5.155617e-17  1.000196       9   ee\n",
       "1      1  2.820599  1.979845  5.632468e-08  1.888169       5   fi\n",
       "2      2  0.000030  0.998007  3.453242e+00  1.368055       4   it\n",
       "3      3  5.170571  1.022147  5.467576e-01  4.743580       9   sp"
      ]
     },
     "execution_count": 15,
     "metadata": {},
     "output_type": "execute_result"
    }
   ],
   "source": [
    "df_predictions"
   ]
  },
  {
   "cell_type": "markdown",
   "metadata": {},
   "source": [
    "Convert into pair dictionary:"
   ]
  },
  {
   "cell_type": "code",
   "execution_count": 16,
   "metadata": {},
   "outputs": [],
   "source": [
    "lang_values = []\n",
    "lang_pairs = []\n",
    "#lang_similarities = {}\n",
    "for key1 in df_predictions['lang'].unique(): \n",
    "    for key2 in df_predictions['lang'].unique(): \n",
    "        val1 = float(df_predictions[df_predictions['lang'] == key1][key2])\n",
    "        val2 = float(df_predictions[df_predictions['lang'] == key2][key1])\n",
    "        len1 = float(df_predictions[df_predictions['lang'] == key1]['length'])\n",
    "        len2 = float(df_predictions[df_predictions['lang'] == key2]['length'])\n",
    "        \n",
    "        #lang_similarities[f'{key1}_{key2}'] = ((val1 + val2) /(len1+len2)) #  divide by corpus length bc summed above\n",
    "        lang_values.append((val1 + val2) / (len1+len2))\n",
    "        lang_pairs.append(f'{key1}_{key2}')"
   ]
  },
  {
   "cell_type": "code",
   "execution_count": 17,
   "metadata": {},
   "outputs": [],
   "source": [
    "df_lang_similarities = pd.DataFrame({'pair': lang_pairs, 'logreg_val': lang_values})"
   ]
  },
  {
   "cell_type": "code",
   "execution_count": 18,
   "metadata": {},
   "outputs": [],
   "source": [
    "# inverted \n",
    "df_lang_similarities['logreg_val_inverted'] = 1 - df_lang_similarities['logreg_val']"
   ]
  },
  {
   "cell_type": "code",
   "execution_count": 19,
   "metadata": {},
   "outputs": [
    {
     "data": {
      "text/html": [
       "<div>\n",
       "<style scoped>\n",
       "    .dataframe tbody tr th:only-of-type {\n",
       "        vertical-align: middle;\n",
       "    }\n",
       "\n",
       "    .dataframe tbody tr th {\n",
       "        vertical-align: top;\n",
       "    }\n",
       "\n",
       "    .dataframe thead th {\n",
       "        text-align: right;\n",
       "    }\n",
       "</style>\n",
       "<table border=\"1\" class=\"dataframe\">\n",
       "  <thead>\n",
       "    <tr style=\"text-align: right;\">\n",
       "      <th></th>\n",
       "      <th>pair</th>\n",
       "      <th>logreg_val</th>\n",
       "      <th>logreg_val_inverted</th>\n",
       "    </tr>\n",
       "  </thead>\n",
       "  <tbody>\n",
       "    <tr>\n",
       "      <th>0</th>\n",
       "      <td>ee_ee</td>\n",
       "      <td>0.112089</td>\n",
       "      <td>0.887911</td>\n",
       "    </tr>\n",
       "    <tr>\n",
       "      <th>1</th>\n",
       "      <td>ee_fi</td>\n",
       "      <td>0.272900</td>\n",
       "      <td>0.727100</td>\n",
       "    </tr>\n",
       "    <tr>\n",
       "      <th>2</th>\n",
       "      <td>ee_it</td>\n",
       "      <td>0.000002</td>\n",
       "      <td>0.999998</td>\n",
       "    </tr>\n",
       "    <tr>\n",
       "      <th>3</th>\n",
       "      <td>ee_sp</td>\n",
       "      <td>0.342820</td>\n",
       "      <td>0.657180</td>\n",
       "    </tr>\n",
       "    <tr>\n",
       "      <th>4</th>\n",
       "      <td>fi_ee</td>\n",
       "      <td>0.272900</td>\n",
       "      <td>0.727100</td>\n",
       "    </tr>\n",
       "    <tr>\n",
       "      <th>5</th>\n",
       "      <td>fi_fi</td>\n",
       "      <td>0.395969</td>\n",
       "      <td>0.604031</td>\n",
       "    </tr>\n",
       "    <tr>\n",
       "      <th>6</th>\n",
       "      <td>fi_it</td>\n",
       "      <td>0.110890</td>\n",
       "      <td>0.889110</td>\n",
       "    </tr>\n",
       "    <tr>\n",
       "      <th>7</th>\n",
       "      <td>fi_sp</td>\n",
       "      <td>0.207880</td>\n",
       "      <td>0.792120</td>\n",
       "    </tr>\n",
       "    <tr>\n",
       "      <th>8</th>\n",
       "      <td>it_ee</td>\n",
       "      <td>0.000002</td>\n",
       "      <td>0.999998</td>\n",
       "    </tr>\n",
       "    <tr>\n",
       "      <th>9</th>\n",
       "      <td>it_fi</td>\n",
       "      <td>0.110890</td>\n",
       "      <td>0.889110</td>\n",
       "    </tr>\n",
       "    <tr>\n",
       "      <th>10</th>\n",
       "      <td>it_it</td>\n",
       "      <td>0.863311</td>\n",
       "      <td>0.136689</td>\n",
       "    </tr>\n",
       "    <tr>\n",
       "      <th>11</th>\n",
       "      <td>it_sp</td>\n",
       "      <td>0.147293</td>\n",
       "      <td>0.852707</td>\n",
       "    </tr>\n",
       "    <tr>\n",
       "      <th>12</th>\n",
       "      <td>sp_ee</td>\n",
       "      <td>0.342820</td>\n",
       "      <td>0.657180</td>\n",
       "    </tr>\n",
       "    <tr>\n",
       "      <th>13</th>\n",
       "      <td>sp_fi</td>\n",
       "      <td>0.207880</td>\n",
       "      <td>0.792120</td>\n",
       "    </tr>\n",
       "    <tr>\n",
       "      <th>14</th>\n",
       "      <td>sp_it</td>\n",
       "      <td>0.147293</td>\n",
       "      <td>0.852707</td>\n",
       "    </tr>\n",
       "    <tr>\n",
       "      <th>15</th>\n",
       "      <td>sp_sp</td>\n",
       "      <td>0.527064</td>\n",
       "      <td>0.472936</td>\n",
       "    </tr>\n",
       "  </tbody>\n",
       "</table>\n",
       "</div>"
      ],
      "text/plain": [
       "     pair  logreg_val  logreg_val_inverted\n",
       "0   ee_ee    0.112089             0.887911\n",
       "1   ee_fi    0.272900             0.727100\n",
       "2   ee_it    0.000002             0.999998\n",
       "3   ee_sp    0.342820             0.657180\n",
       "4   fi_ee    0.272900             0.727100\n",
       "5   fi_fi    0.395969             0.604031\n",
       "6   fi_it    0.110890             0.889110\n",
       "7   fi_sp    0.207880             0.792120\n",
       "8   it_ee    0.000002             0.999998\n",
       "9   it_fi    0.110890             0.889110\n",
       "10  it_it    0.863311             0.136689\n",
       "11  it_sp    0.147293             0.852707\n",
       "12  sp_ee    0.342820             0.657180\n",
       "13  sp_fi    0.207880             0.792120\n",
       "14  sp_it    0.147293             0.852707\n",
       "15  sp_sp    0.527064             0.472936"
      ]
     },
     "execution_count": 19,
     "metadata": {},
     "output_type": "execute_result"
    }
   ],
   "source": [
    "#lang_similarities # invert as 1- proba. \n",
    "df_lang_similarities"
   ]
  },
  {
   "cell_type": "code",
   "execution_count": 20,
   "metadata": {},
   "outputs": [],
   "source": [
    "# write \n",
    "\n",
    "df_lang_similarities.to_csv(\"../data/outputs/logreg_similarity_4lang.csv\", index = False) # rename for other saves"
   ]
  },
  {
   "cell_type": "code",
   "execution_count": null,
   "metadata": {},
   "outputs": [],
   "source": []
  },
  {
   "cell_type": "markdown",
   "metadata": {},
   "source": [
    "**ToDos:**\n",
    "\n",
    "- investigate why 4 lang perform worse than all. maybe try with 2? ( very different and very similar - eg ee vs fi and ee and sp)\n",
    "- do separate runs with only bi and bi+tri-grams and fill table in report\n",
    "- plot language tree using both similarity metrics\n",
    "- do majority class baseline (cv accuracy only)\n",
    "\n"
   ]
  },
  {
   "cell_type": "markdown",
   "metadata": {},
   "source": []
  }
 ],
 "metadata": {
  "kernelspec": {
   "display_name": "Python 3.9.14 ('.venv': poetry)",
   "language": "python",
   "name": "python3"
  },
  "language_info": {
   "codemirror_mode": {
    "name": "ipython",
    "version": 3
   },
   "file_extension": ".py",
   "mimetype": "text/x-python",
   "name": "python",
   "nbconvert_exporter": "python",
   "pygments_lexer": "ipython3",
   "version": "3.9.14"
  },
  "orig_nbformat": 4,
  "vscode": {
   "interpreter": {
    "hash": "36e1fa312ac715c21bb59b9e6c10d6a9544a6eb8fd53fcf02705de1881480231"
   }
  }
 },
 "nbformat": 4,
 "nbformat_minor": 2
}
