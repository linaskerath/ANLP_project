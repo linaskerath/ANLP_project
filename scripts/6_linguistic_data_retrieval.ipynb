{
 "cells": [
  {
   "cell_type": "code",
   "execution_count": 1,
   "id": "68afb3be",
   "metadata": {},
   "outputs": [],
   "source": [
    "import lang2vec.lang2vec as l2v\n",
    "import pandas as pd\n",
    "import numpy as np\n",
    "from sklearn.impute import KNNImputer\n",
    "from pyglottolog import Glottolog\n",
    "from scipy import spatial"
   ]
  },
  {
   "cell_type": "code",
   "execution_count": 83,
   "id": "18f0fc68",
   "metadata": {},
   "outputs": [],
   "source": [
    "# languages = [\"nld\", \"eng\", \"ekk\", \"fin\", \"deu\", \"ell\", \"heb\", \"ita\", \"nor\", \"rus\", \"spa\", \"tur\"]\n",
    "languages = [\"spa\", \"por\", \"cmn\", \"jpn\"]\n",
    "features =  [\"syntax_wals\", \"syntax_sswl\", \"syntax_ethnologue\"]"
   ]
  },
  {
   "cell_type": "code",
   "execution_count": 84,
   "id": "201dd5d6",
   "metadata": {},
   "outputs": [],
   "source": [
    "#URIEL data\n",
    "df_uriel = pd.DataFrame.from_dict(l2v.get_features(languages, features))\n",
    "df_uriel = df_uriel.replace(\"--\", np.NaN).dropna(how='all')\n",
    "\n",
    "imputer = KNNImputer(n_neighbors=5).fit(df_uriel).transform(df_uriel)\n",
    "# imputer[imputer >= 0.5] = 1\n",
    "# imputer[imputer < 0.5] = 0\n",
    "\n",
    "df_uriel = pd.DataFrame(imputer, columns=df_uriel.columns)\n",
    "\n",
    "nunique_uriel = df_uriel.nunique(axis=1)\n",
    "df_uriel = df_uriel.drop(nunique_uriel[nunique_uriel == 1].index)"
   ]
  },
  {
   "cell_type": "code",
   "execution_count": 85,
   "id": "1cfeb4ad",
   "metadata": {},
   "outputs": [
    {
     "name": "stdout",
     "output_type": "stream",
     "text": [
      "spa\n",
      "por\n",
      "cmn\n",
      "jpn\n"
     ]
    }
   ],
   "source": [
    "#Glottolog data\n",
    "glottolog = Glottolog('../data/glottolog-4.6', cache=True)\n",
    "\n",
    "glottolog_dict = {}\n",
    "for l in languages:\n",
    "    print(l)\n",
    "    languoid = glottolog.languoid(l)\n",
    "    families = {family:1 for family in [str(f.id) for f in languoid.ancestors]}\n",
    "    glottolog_dict[l] = families\n",
    "    \n",
    "df_glottolog = pd.DataFrame.from_dict(glottolog_dict).fillna(0)\n",
    "\n",
    "nunique = df_glottolog.nunique(axis=1)\n",
    "df_glottolog = df_glottolog.drop(nunique[nunique == 1].index)"
   ]
  },
  {
   "cell_type": "code",
   "execution_count": 86,
   "id": "55a22b2d",
   "metadata": {},
   "outputs": [],
   "source": [
    "#concat\n",
    "df = pd.concat([df_uriel, df_glottolog])\n",
    "df.transpose().to_csv(\"../data/outputs/linguistic_vectors.csv\")\n",
    "\n",
    "#compute cosine similarity\n",
    "ls_dict = {}\n",
    "for l1 in languages:\n",
    "    ls_dict[l1] = {}\n",
    "    for l2 in languages:\n",
    "        ls = spatial.distance.cosine(df[l1], df[l2])\n",
    "        ls_dict[l1][l2] = ls\n",
    "\n",
    "df_ls = pd.DataFrame.from_dict(ls_dict).applymap(lambda x: 1 - x)\n",
    "df_ls.to_csv(\"../data/outputs/linguistic_similarities.csv\")"
   ]
  },
  {
   "cell_type": "code",
   "execution_count": 87,
   "id": "3eb7ff4a",
   "metadata": {},
   "outputs": [
    {
     "data": {
      "text/html": [
       "<div>\n",
       "<style scoped>\n",
       "    .dataframe tbody tr th:only-of-type {\n",
       "        vertical-align: middle;\n",
       "    }\n",
       "\n",
       "    .dataframe tbody tr th {\n",
       "        vertical-align: top;\n",
       "    }\n",
       "\n",
       "    .dataframe thead th {\n",
       "        text-align: right;\n",
       "    }\n",
       "</style>\n",
       "<table border=\"1\" class=\"dataframe\">\n",
       "  <thead>\n",
       "    <tr style=\"text-align: right;\">\n",
       "      <th></th>\n",
       "      <th>spa</th>\n",
       "      <th>por</th>\n",
       "      <th>cmn</th>\n",
       "      <th>jpn</th>\n",
       "    </tr>\n",
       "  </thead>\n",
       "  <tbody>\n",
       "    <tr>\n",
       "      <th>spa</th>\n",
       "      <td>1.000000</td>\n",
       "      <td>0.921327</td>\n",
       "      <td>0.483046</td>\n",
       "      <td>0.135289</td>\n",
       "    </tr>\n",
       "    <tr>\n",
       "      <th>por</th>\n",
       "      <td>0.921327</td>\n",
       "      <td>1.000000</td>\n",
       "      <td>0.489188</td>\n",
       "      <td>0.156002</td>\n",
       "    </tr>\n",
       "    <tr>\n",
       "      <th>cmn</th>\n",
       "      <td>0.483046</td>\n",
       "      <td>0.489188</td>\n",
       "      <td>1.000000</td>\n",
       "      <td>0.504280</td>\n",
       "    </tr>\n",
       "    <tr>\n",
       "      <th>jpn</th>\n",
       "      <td>0.135289</td>\n",
       "      <td>0.156002</td>\n",
       "      <td>0.504280</td>\n",
       "      <td>1.000000</td>\n",
       "    </tr>\n",
       "  </tbody>\n",
       "</table>\n",
       "</div>"
      ],
      "text/plain": [
       "          spa       por       cmn       jpn\n",
       "spa  1.000000  0.921327  0.483046  0.135289\n",
       "por  0.921327  1.000000  0.489188  0.156002\n",
       "cmn  0.483046  0.489188  1.000000  0.504280\n",
       "jpn  0.135289  0.156002  0.504280  1.000000"
      ]
     },
     "execution_count": 87,
     "metadata": {},
     "output_type": "execute_result"
    }
   ],
   "source": [
    "df_ls"
   ]
  },
  {
   "cell_type": "markdown",
   "id": "d5514989",
   "metadata": {},
   "source": [
    "portuguese-spanish: 0.94 -> 0.95\n",
    "chinese-japanese: 0.62 -> 0.5\n",
    "chinese-portuguese: 0.59 -> \n",
    "chinese-spanish: 0.59\n",
    "japanese-portuguese: 0.33\n",
    "japanese-spanish:0.34"
   ]
  }
 ],
 "metadata": {
  "kernelspec": {
   "display_name": "Python 3 (ipykernel)",
   "language": "python",
   "name": "python3"
  },
  "language_info": {
   "codemirror_mode": {
    "name": "ipython",
    "version": 3
   },
   "file_extension": ".py",
   "mimetype": "text/x-python",
   "name": "python",
   "nbconvert_exporter": "python",
   "pygments_lexer": "ipython3",
   "version": "3.10.6"
  }
 },
 "nbformat": 4,
 "nbformat_minor": 5
}
