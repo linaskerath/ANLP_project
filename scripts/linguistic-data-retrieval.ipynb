{
 "cells": [
  {
   "cell_type": "code",
   "execution_count": 1,
   "id": "68afb3be",
   "metadata": {},
   "outputs": [],
   "source": [
    "import lang2vec.lang2vec as l2v\n",
    "import pandas as pd\n",
    "import numpy as np\n",
    "from sklearn.impute import KNNImputer\n",
    "from pyglottolog import Glottolog\n",
    "from scipy import spatial"
   ]
  },
  {
   "cell_type": "code",
   "execution_count": 3,
   "id": "18f0fc68",
   "metadata": {},
   "outputs": [],
   "source": [
    "languages = [\"nld\", \"eng\", \"ekk\", \"fin\", \"deu\", \"ell\", \"heb\", \"ita\", \"nor\", \"rus\", \"spa\", \"tur\"]\n",
    "features =  [\"syntax_wals\", \"syntax_sswl\", \"syntax_ethnologue\"]"
   ]
  },
  {
   "cell_type": "code",
   "execution_count": 5,
   "id": "201dd5d6",
   "metadata": {},
   "outputs": [],
   "source": [
    "#URIEL data\n",
    "df_uriel = pd.DataFrame.from_dict(l2v.get_features(languages, features))\n",
    "df_uriel = df_uriel.replace(\"--\", np.NaN).dropna(how='all')\n",
    "\n",
    "imputer = KNNImputer(n_neighbors=5).fit(df_uriel).transform(df_uriel)\n",
    "imputer[imputer >= 0.5] = 1\n",
    "imputer[imputer < 0.5] = 0\n",
    "\n",
    "df_uriel = pd.DataFrame(imputer, columns=df_uriel.columns)\n",
    "\n",
    "nunique_uriel = df_uriel.nunique(axis=1)\n",
    "df_uriel = df_uriel.drop(nunique_uriel[nunique_uriel == 1])"
   ]
  },
  {
   "cell_type": "code",
   "execution_count": 6,
   "id": "1cfeb4ad",
   "metadata": {},
   "outputs": [],
   "source": [
    "#Glottolog data\n",
    "glottolog = Glottolog('../data/glottolog-4.6', cache=True)\n",
    "\n",
    "glottolog_dict = {}\n",
    "for l in languages:\n",
    "    languoid = glottolog.languoid(l)\n",
    "    families = {family:1 for family in [str(f.id) for f in languoid.ancestors]}\n",
    "    glottolog_dict[l] = families\n",
    "    \n",
    "df_glottolog = pd.DataFrame.from_dict(glottolog_dict).fillna(0)\n",
    "\n",
    "nunique = df_glottolog.nunique(axis=1)\n",
    "df_glottolog = df_glottolog.drop(nunique[nunique == 1])\n",
    "\n"
   ]
  },
  {
   "cell_type": "code",
   "execution_count": 7,
   "id": "55a22b2d",
   "metadata": {},
   "outputs": [],
   "source": [
    "#concat\n",
    "df = pd.concat([df_uriel, df_glottolog])\n",
    "df.transpose().to_csv(\"../data/outputs/linguistic_vectors.csv\")\n",
    "\n",
    "#compute cosine similarity\n",
    "ls_dict = {}\n",
    "for l1 in languages:\n",
    "    ls_dict[l1] = {}\n",
    "    for l2 in languages:\n",
    "        ls = spatial.distance.cosine(df[l1], df[l2])\n",
    "        ls_dict[l1][l2] = ls\n",
    "\n",
    "df_ls = pd.DataFrame.from_dict(ls_dict).applymap(lambda x: 1 - x)\n",
    "df_ls.to_csv(\"../data/outputs/linguistic_similarities.csv\")"
   ]
  }
 ],
 "metadata": {
  "kernelspec": {
   "display_name": "Python 3 (ipykernel)",
   "language": "python",
   "name": "python3"
  },
  "language_info": {
   "codemirror_mode": {
    "name": "ipython",
    "version": 3
   },
   "file_extension": ".py",
   "mimetype": "text/x-python",
   "name": "python",
   "nbconvert_exporter": "python",
   "pygments_lexer": "ipython3",
   "version": "3.10.6"
  }
 },
 "nbformat": 4,
 "nbformat_minor": 5
}
