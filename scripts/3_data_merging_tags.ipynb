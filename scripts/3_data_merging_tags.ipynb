{
 "cells": [
  {
   "cell_type": "code",
   "execution_count": 1,
   "id": "a3f7ff41",
   "metadata": {},
   "outputs": [],
   "source": [
    "import pandas as pd "
   ]
  },
  {
   "cell_type": "code",
   "execution_count": 2,
   "id": "244fe47d",
   "metadata": {},
   "outputs": [],
   "source": [
    "indexes = pd.read_pickle(\"../data/df_indexes.pickle\")\n",
    "annotations = pd.read_csv(\"../parser/gaze.out.xlmr.conllu\", delimiter=\"\\t\", header=None)\n",
    "annotations = annotations.rename(columns={3:\"POS_tag\", 4:\"PTB_tag\", 7:\"UD_tag\"})\n",
    "data = pd.read_pickle(\"../data/df.pickle\") # \"data/df.pickle\""
   ]
  },
  {
   "cell_type": "code",
   "execution_count": 3,
   "id": "b5ad637d",
   "metadata": {},
   "outputs": [],
   "source": [
    "df = indexes.join(annotations[[\"POS_tag\", \"PTB_tag\",\"UD_tag\"]])\n",
    "df.to_pickle(\"../data/df_tags.pickle\")"
   ]
  }
 ],
 "metadata": {
  "kernelspec": {
   "display_name": "Python 3 (ipykernel)",
   "language": "python",
   "name": "python3"
  },
  "language_info": {
   "codemirror_mode": {
    "name": "ipython",
    "version": 3
   },
   "file_extension": ".py",
   "mimetype": "text/x-python",
   "name": "python",
   "nbconvert_exporter": "python",
   "pygments_lexer": "ipython3",
   "version": "3.10.6"
  }
 },
 "nbformat": 4,
 "nbformat_minor": 5
}
