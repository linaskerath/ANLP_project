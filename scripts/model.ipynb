{
 "cells": [
  {
   "cell_type": "markdown",
   "metadata": {},
   "source": [
    "# Logistic regression"
   ]
  },
  {
   "cell_type": "markdown",
   "metadata": {},
   "source": [
    "## Data Prep"
   ]
  },
  {
   "cell_type": "code",
   "execution_count": 1,
   "metadata": {},
   "outputs": [],
   "source": [
    "import pandas as pd\n",
    "import rdata\n",
    "import numpy as np\n",
    "pd.set_option('display.max_columns', None)\n",
    "pd.options.mode.chained_assignment = None"
   ]
  },
  {
   "cell_type": "markdown",
   "metadata": {},
   "source": [
    "### Get data"
   ]
  },
  {
   "cell_type": "code",
   "execution_count": 2,
   "metadata": {},
   "outputs": [],
   "source": [
    "path_l2_trimmed = r\"../data/version 1.1/primary data/eye tracking data/joint_data_l2_trimmed.rda\"\n",
    "l2_trimmed_parsed = rdata.parser.parse_file(path_l2_trimmed)\n",
    "l2_trimmed_converted = rdata.conversion.convert(l2_trimmed_parsed)\n",
    "df = l2_trimmed_converted['joint.data']"
   ]
  },
  {
   "cell_type": "code",
   "execution_count": 3,
   "metadata": {},
   "outputs": [
    {
     "data": {
      "text/html": [
       "<div>\n",
       "<style scoped>\n",
       "    .dataframe tbody tr th:only-of-type {\n",
       "        vertical-align: middle;\n",
       "    }\n",
       "\n",
       "    .dataframe tbody tr th {\n",
       "        vertical-align: top;\n",
       "    }\n",
       "\n",
       "    .dataframe thead th {\n",
       "        text-align: right;\n",
       "    }\n",
       "</style>\n",
       "<table border=\"1\" class=\"dataframe\">\n",
       "  <thead>\n",
       "    <tr style=\"text-align: right;\">\n",
       "      <th></th>\n",
       "      <th>subid</th>\n",
       "      <th>trialid</th>\n",
       "      <th>trialnum</th>\n",
       "      <th>itemid</th>\n",
       "      <th>cond</th>\n",
       "      <th>sentnum</th>\n",
       "      <th>ianum</th>\n",
       "      <th>ia</th>\n",
       "      <th>blink</th>\n",
       "      <th>skip</th>\n",
       "      <th>nrun</th>\n",
       "      <th>reread</th>\n",
       "      <th>nfix</th>\n",
       "      <th>refix</th>\n",
       "      <th>reg.in</th>\n",
       "      <th>reg.out</th>\n",
       "      <th>dur</th>\n",
       "      <th>firstrun.skip</th>\n",
       "      <th>firstrun.nfix</th>\n",
       "      <th>firstrun.refix</th>\n",
       "      <th>firstrun.reg.in</th>\n",
       "      <th>firstrun.reg.out</th>\n",
       "      <th>firstrun.dur</th>\n",
       "      <th>firstrun.gopast</th>\n",
       "      <th>firstrun.gopast.sel</th>\n",
       "      <th>firstfix.sac.in</th>\n",
       "      <th>firstfix.sac.out</th>\n",
       "      <th>firstfix.launch</th>\n",
       "      <th>firstfix.land</th>\n",
       "      <th>firstfix.cland</th>\n",
       "      <th>firstfix.dur</th>\n",
       "      <th>singlefix</th>\n",
       "      <th>singlefix.sac.in</th>\n",
       "      <th>singlefix.sac.out</th>\n",
       "      <th>singlefix.launch</th>\n",
       "      <th>singlefix.land</th>\n",
       "      <th>singlefix.cland</th>\n",
       "      <th>singlefix.dur</th>\n",
       "      <th>lang</th>\n",
       "      <th>trial</th>\n",
       "      <th>uniform_id</th>\n",
       "    </tr>\n",
       "  </thead>\n",
       "  <tbody>\n",
       "    <tr>\n",
       "      <th>1</th>\n",
       "      <td>DU_04</td>\n",
       "      <td>1</td>\n",
       "      <td>1.0</td>\n",
       "      <td>1</td>\n",
       "      <td>1.0</td>\n",
       "      <td>6.0</td>\n",
       "      <td>141.0</td>\n",
       "      <td>he</td>\n",
       "      <td>0.0</td>\n",
       "      <td>0.0</td>\n",
       "      <td>2.0</td>\n",
       "      <td>1.0</td>\n",
       "      <td>2.0</td>\n",
       "      <td>0.0</td>\n",
       "      <td>1.0</td>\n",
       "      <td>0.0</td>\n",
       "      <td>464.0</td>\n",
       "      <td>1.0</td>\n",
       "      <td>1.0</td>\n",
       "      <td>0.0</td>\n",
       "      <td>1.0</td>\n",
       "      <td>0.0</td>\n",
       "      <td>278.0</td>\n",
       "      <td>0.0</td>\n",
       "      <td>0.0</td>\n",
       "      <td>-3</td>\n",
       "      <td>3</td>\n",
       "      <td>-5.0</td>\n",
       "      <td>2.0</td>\n",
       "      <td>0.5</td>\n",
       "      <td>278.0</td>\n",
       "      <td>1.0</td>\n",
       "      <td>-3</td>\n",
       "      <td>3</td>\n",
       "      <td>-5.0</td>\n",
       "      <td>2.0</td>\n",
       "      <td>0.5</td>\n",
       "      <td>278.0</td>\n",
       "      <td>du</td>\n",
       "      <td>None</td>\n",
       "      <td>du_4</td>\n",
       "    </tr>\n",
       "    <tr>\n",
       "      <th>2</th>\n",
       "      <td>DU_04</td>\n",
       "      <td>1</td>\n",
       "      <td>1.0</td>\n",
       "      <td>1</td>\n",
       "      <td>1.0</td>\n",
       "      <td>6.0</td>\n",
       "      <td>142.0</td>\n",
       "      <td>gave</td>\n",
       "      <td>0.0</td>\n",
       "      <td>0.0</td>\n",
       "      <td>2.0</td>\n",
       "      <td>1.0</td>\n",
       "      <td>2.0</td>\n",
       "      <td>0.0</td>\n",
       "      <td>0.0</td>\n",
       "      <td>1.0</td>\n",
       "      <td>480.0</td>\n",
       "      <td>0.0</td>\n",
       "      <td>1.0</td>\n",
       "      <td>0.0</td>\n",
       "      <td>0.0</td>\n",
       "      <td>1.0</td>\n",
       "      <td>164.0</td>\n",
       "      <td>944.0</td>\n",
       "      <td>480.0</td>\n",
       "      <td>11</td>\n",
       "      <td>-3</td>\n",
       "      <td>9.0</td>\n",
       "      <td>2.0</td>\n",
       "      <td>-0.5</td>\n",
       "      <td>164.0</td>\n",
       "      <td>1.0</td>\n",
       "      <td>11</td>\n",
       "      <td>-3</td>\n",
       "      <td>9.0</td>\n",
       "      <td>2.0</td>\n",
       "      <td>-0.5</td>\n",
       "      <td>164.0</td>\n",
       "      <td>du</td>\n",
       "      <td>None</td>\n",
       "      <td>du_4</td>\n",
       "    </tr>\n",
       "    <tr>\n",
       "      <th>3</th>\n",
       "      <td>DU_04</td>\n",
       "      <td>1</td>\n",
       "      <td>1.0</td>\n",
       "      <td>1</td>\n",
       "      <td>1.0</td>\n",
       "      <td>6.0</td>\n",
       "      <td>143.0</td>\n",
       "      <td>up</td>\n",
       "      <td>0.0</td>\n",
       "      <td>0.0</td>\n",
       "      <td>1.0</td>\n",
       "      <td>0.0</td>\n",
       "      <td>1.0</td>\n",
       "      <td>0.0</td>\n",
       "      <td>0.0</td>\n",
       "      <td>0.0</td>\n",
       "      <td>155.0</td>\n",
       "      <td>0.0</td>\n",
       "      <td>1.0</td>\n",
       "      <td>0.0</td>\n",
       "      <td>0.0</td>\n",
       "      <td>0.0</td>\n",
       "      <td>155.0</td>\n",
       "      <td>155.0</td>\n",
       "      <td>155.0</td>\n",
       "      <td>6</td>\n",
       "      <td>6</td>\n",
       "      <td>6.0</td>\n",
       "      <td>0.0</td>\n",
       "      <td>-1.5</td>\n",
       "      <td>155.0</td>\n",
       "      <td>1.0</td>\n",
       "      <td>6</td>\n",
       "      <td>6</td>\n",
       "      <td>6.0</td>\n",
       "      <td>0.0</td>\n",
       "      <td>-1.5</td>\n",
       "      <td>155.0</td>\n",
       "      <td>du</td>\n",
       "      <td>None</td>\n",
       "      <td>du_4</td>\n",
       "    </tr>\n",
       "    <tr>\n",
       "      <th>4</th>\n",
       "      <td>DU_04</td>\n",
       "      <td>1</td>\n",
       "      <td>1.0</td>\n",
       "      <td>1</td>\n",
       "      <td>1.0</td>\n",
       "      <td>6.0</td>\n",
       "      <td>144.0</td>\n",
       "      <td>painting</td>\n",
       "      <td>0.0</td>\n",
       "      <td>0.0</td>\n",
       "      <td>1.0</td>\n",
       "      <td>0.0</td>\n",
       "      <td>1.0</td>\n",
       "      <td>0.0</td>\n",
       "      <td>0.0</td>\n",
       "      <td>0.0</td>\n",
       "      <td>323.0</td>\n",
       "      <td>0.0</td>\n",
       "      <td>1.0</td>\n",
       "      <td>0.0</td>\n",
       "      <td>0.0</td>\n",
       "      <td>0.0</td>\n",
       "      <td>323.0</td>\n",
       "      <td>323.0</td>\n",
       "      <td>323.0</td>\n",
       "      <td>6</td>\n",
       "      <td>10</td>\n",
       "      <td>3.0</td>\n",
       "      <td>3.0</td>\n",
       "      <td>-1.5</td>\n",
       "      <td>323.0</td>\n",
       "      <td>1.0</td>\n",
       "      <td>6</td>\n",
       "      <td>10</td>\n",
       "      <td>3.0</td>\n",
       "      <td>3.0</td>\n",
       "      <td>-1.5</td>\n",
       "      <td>323.0</td>\n",
       "      <td>du</td>\n",
       "      <td>None</td>\n",
       "      <td>du_4</td>\n",
       "    </tr>\n",
       "    <tr>\n",
       "      <th>5</th>\n",
       "      <td>DU_04</td>\n",
       "      <td>1</td>\n",
       "      <td>1.0</td>\n",
       "      <td>1</td>\n",
       "      <td>1.0</td>\n",
       "      <td>6.0</td>\n",
       "      <td>145.0</td>\n",
       "      <td>and</td>\n",
       "      <td>0.0</td>\n",
       "      <td>1.0</td>\n",
       "      <td>NaN</td>\n",
       "      <td>NaN</td>\n",
       "      <td>NaN</td>\n",
       "      <td>NaN</td>\n",
       "      <td>NaN</td>\n",
       "      <td>NaN</td>\n",
       "      <td>NaN</td>\n",
       "      <td>1.0</td>\n",
       "      <td>NaN</td>\n",
       "      <td>NaN</td>\n",
       "      <td>NaN</td>\n",
       "      <td>NaN</td>\n",
       "      <td>NaN</td>\n",
       "      <td>NaN</td>\n",
       "      <td>NaN</td>\n",
       "      <td>-2147483648</td>\n",
       "      <td>-2147483648</td>\n",
       "      <td>NaN</td>\n",
       "      <td>NaN</td>\n",
       "      <td>NaN</td>\n",
       "      <td>NaN</td>\n",
       "      <td>0.0</td>\n",
       "      <td>-2147483648</td>\n",
       "      <td>-2147483648</td>\n",
       "      <td>NaN</td>\n",
       "      <td>NaN</td>\n",
       "      <td>NaN</td>\n",
       "      <td>NaN</td>\n",
       "      <td>du</td>\n",
       "      <td>None</td>\n",
       "      <td>du_4</td>\n",
       "    </tr>\n",
       "    <tr>\n",
       "      <th>...</th>\n",
       "      <td>...</td>\n",
       "      <td>...</td>\n",
       "      <td>...</td>\n",
       "      <td>...</td>\n",
       "      <td>...</td>\n",
       "      <td>...</td>\n",
       "      <td>...</td>\n",
       "      <td>...</td>\n",
       "      <td>...</td>\n",
       "      <td>...</td>\n",
       "      <td>...</td>\n",
       "      <td>...</td>\n",
       "      <td>...</td>\n",
       "      <td>...</td>\n",
       "      <td>...</td>\n",
       "      <td>...</td>\n",
       "      <td>...</td>\n",
       "      <td>...</td>\n",
       "      <td>...</td>\n",
       "      <td>...</td>\n",
       "      <td>...</td>\n",
       "      <td>...</td>\n",
       "      <td>...</td>\n",
       "      <td>...</td>\n",
       "      <td>...</td>\n",
       "      <td>...</td>\n",
       "      <td>...</td>\n",
       "      <td>...</td>\n",
       "      <td>...</td>\n",
       "      <td>...</td>\n",
       "      <td>...</td>\n",
       "      <td>...</td>\n",
       "      <td>...</td>\n",
       "      <td>...</td>\n",
       "      <td>...</td>\n",
       "      <td>...</td>\n",
       "      <td>...</td>\n",
       "      <td>...</td>\n",
       "      <td>...</td>\n",
       "      <td>...</td>\n",
       "      <td>...</td>\n",
       "    </tr>\n",
       "    <tr>\n",
       "      <th>669949</th>\n",
       "      <td>tr_52</td>\n",
       "      <td>12</td>\n",
       "      <td>12.0</td>\n",
       "      <td>12</td>\n",
       "      <td>1.0</td>\n",
       "      <td>5.0</td>\n",
       "      <td>144.0</td>\n",
       "      <td>their</td>\n",
       "      <td>0.0</td>\n",
       "      <td>0.0</td>\n",
       "      <td>2.0</td>\n",
       "      <td>1.0</td>\n",
       "      <td>2.0</td>\n",
       "      <td>0.0</td>\n",
       "      <td>0.0</td>\n",
       "      <td>0.0</td>\n",
       "      <td>354.0</td>\n",
       "      <td>1.0</td>\n",
       "      <td>1.0</td>\n",
       "      <td>0.0</td>\n",
       "      <td>0.0</td>\n",
       "      <td>0.0</td>\n",
       "      <td>197.0</td>\n",
       "      <td>0.0</td>\n",
       "      <td>0.0</td>\n",
       "      <td>9</td>\n",
       "      <td>6</td>\n",
       "      <td>6.0</td>\n",
       "      <td>3.0</td>\n",
       "      <td>0.0</td>\n",
       "      <td>197.0</td>\n",
       "      <td>1.0</td>\n",
       "      <td>9</td>\n",
       "      <td>6</td>\n",
       "      <td>6.0</td>\n",
       "      <td>3.0</td>\n",
       "      <td>0.0</td>\n",
       "      <td>197.0</td>\n",
       "      <td>tr</td>\n",
       "      <td>None</td>\n",
       "      <td>tr_52</td>\n",
       "    </tr>\n",
       "    <tr>\n",
       "      <th>669950</th>\n",
       "      <td>tr_52</td>\n",
       "      <td>12</td>\n",
       "      <td>12.0</td>\n",
       "      <td>12</td>\n",
       "      <td>1.0</td>\n",
       "      <td>5.0</td>\n",
       "      <td>145.0</td>\n",
       "      <td>connectivity</td>\n",
       "      <td>0.0</td>\n",
       "      <td>0.0</td>\n",
       "      <td>3.0</td>\n",
       "      <td>1.0</td>\n",
       "      <td>4.0</td>\n",
       "      <td>1.0</td>\n",
       "      <td>1.0</td>\n",
       "      <td>1.0</td>\n",
       "      <td>872.0</td>\n",
       "      <td>1.0</td>\n",
       "      <td>1.0</td>\n",
       "      <td>0.0</td>\n",
       "      <td>0.0</td>\n",
       "      <td>0.0</td>\n",
       "      <td>222.0</td>\n",
       "      <td>0.0</td>\n",
       "      <td>0.0</td>\n",
       "      <td>6</td>\n",
       "      <td>13</td>\n",
       "      <td>3.0</td>\n",
       "      <td>3.0</td>\n",
       "      <td>-3.5</td>\n",
       "      <td>222.0</td>\n",
       "      <td>1.0</td>\n",
       "      <td>6</td>\n",
       "      <td>13</td>\n",
       "      <td>3.0</td>\n",
       "      <td>3.0</td>\n",
       "      <td>-3.5</td>\n",
       "      <td>222.0</td>\n",
       "      <td>tr</td>\n",
       "      <td>None</td>\n",
       "      <td>tr_52</td>\n",
       "    </tr>\n",
       "    <tr>\n",
       "      <th>669951</th>\n",
       "      <td>tr_52</td>\n",
       "      <td>12</td>\n",
       "      <td>12.0</td>\n",
       "      <td>12</td>\n",
       "      <td>1.0</td>\n",
       "      <td>5.0</td>\n",
       "      <td>146.0</td>\n",
       "      <td>in</td>\n",
       "      <td>0.0</td>\n",
       "      <td>0.0</td>\n",
       "      <td>1.0</td>\n",
       "      <td>0.0</td>\n",
       "      <td>1.0</td>\n",
       "      <td>0.0</td>\n",
       "      <td>0.0</td>\n",
       "      <td>0.0</td>\n",
       "      <td>220.0</td>\n",
       "      <td>1.0</td>\n",
       "      <td>1.0</td>\n",
       "      <td>0.0</td>\n",
       "      <td>0.0</td>\n",
       "      <td>0.0</td>\n",
       "      <td>220.0</td>\n",
       "      <td>0.0</td>\n",
       "      <td>0.0</td>\n",
       "      <td>9</td>\n",
       "      <td>5</td>\n",
       "      <td>9.0</td>\n",
       "      <td>0.0</td>\n",
       "      <td>-1.5</td>\n",
       "      <td>220.0</td>\n",
       "      <td>1.0</td>\n",
       "      <td>9</td>\n",
       "      <td>5</td>\n",
       "      <td>9.0</td>\n",
       "      <td>0.0</td>\n",
       "      <td>-1.5</td>\n",
       "      <td>220.0</td>\n",
       "      <td>tr</td>\n",
       "      <td>None</td>\n",
       "      <td>tr_52</td>\n",
       "    </tr>\n",
       "    <tr>\n",
       "      <th>669952</th>\n",
       "      <td>tr_52</td>\n",
       "      <td>12</td>\n",
       "      <td>12.0</td>\n",
       "      <td>12</td>\n",
       "      <td>1.0</td>\n",
       "      <td>5.0</td>\n",
       "      <td>147.0</td>\n",
       "      <td>personal</td>\n",
       "      <td>0.0</td>\n",
       "      <td>0.0</td>\n",
       "      <td>2.0</td>\n",
       "      <td>1.0</td>\n",
       "      <td>4.0</td>\n",
       "      <td>1.0</td>\n",
       "      <td>0.0</td>\n",
       "      <td>1.0</td>\n",
       "      <td>661.0</td>\n",
       "      <td>1.0</td>\n",
       "      <td>1.0</td>\n",
       "      <td>0.0</td>\n",
       "      <td>0.0</td>\n",
       "      <td>1.0</td>\n",
       "      <td>233.0</td>\n",
       "      <td>0.0</td>\n",
       "      <td>0.0</td>\n",
       "      <td>13</td>\n",
       "      <td>-11</td>\n",
       "      <td>13.0</td>\n",
       "      <td>0.0</td>\n",
       "      <td>-4.5</td>\n",
       "      <td>233.0</td>\n",
       "      <td>1.0</td>\n",
       "      <td>13</td>\n",
       "      <td>-11</td>\n",
       "      <td>13.0</td>\n",
       "      <td>0.0</td>\n",
       "      <td>-4.5</td>\n",
       "      <td>233.0</td>\n",
       "      <td>tr</td>\n",
       "      <td>None</td>\n",
       "      <td>tr_52</td>\n",
       "    </tr>\n",
       "    <tr>\n",
       "      <th>669953</th>\n",
       "      <td>tr_52</td>\n",
       "      <td>12</td>\n",
       "      <td>12.0</td>\n",
       "      <td>12</td>\n",
       "      <td>1.0</td>\n",
       "      <td>5.0</td>\n",
       "      <td>148.0</td>\n",
       "      <td>lives.</td>\n",
       "      <td>0.0</td>\n",
       "      <td>0.0</td>\n",
       "      <td>1.0</td>\n",
       "      <td>0.0</td>\n",
       "      <td>1.0</td>\n",
       "      <td>0.0</td>\n",
       "      <td>0.0</td>\n",
       "      <td>1.0</td>\n",
       "      <td>9.0</td>\n",
       "      <td>0.0</td>\n",
       "      <td>1.0</td>\n",
       "      <td>0.0</td>\n",
       "      <td>0.0</td>\n",
       "      <td>1.0</td>\n",
       "      <td>9.0</td>\n",
       "      <td>42632.0</td>\n",
       "      <td>9.0</td>\n",
       "      <td>8</td>\n",
       "      <td>1</td>\n",
       "      <td>2.0</td>\n",
       "      <td>6.0</td>\n",
       "      <td>2.5</td>\n",
       "      <td>9.0</td>\n",
       "      <td>1.0</td>\n",
       "      <td>8</td>\n",
       "      <td>1</td>\n",
       "      <td>2.0</td>\n",
       "      <td>6.0</td>\n",
       "      <td>2.5</td>\n",
       "      <td>9.0</td>\n",
       "      <td>tr</td>\n",
       "      <td>None</td>\n",
       "      <td>tr_52</td>\n",
       "    </tr>\n",
       "  </tbody>\n",
       "</table>\n",
       "<p>669953 rows × 41 columns</p>\n",
       "</div>"
      ],
      "text/plain": [
       "        subid  trialid  trialnum itemid  cond  sentnum  ianum            ia  \\\n",
       "1       DU_04        1       1.0      1   1.0      6.0  141.0            he   \n",
       "2       DU_04        1       1.0      1   1.0      6.0  142.0          gave   \n",
       "3       DU_04        1       1.0      1   1.0      6.0  143.0            up   \n",
       "4       DU_04        1       1.0      1   1.0      6.0  144.0      painting   \n",
       "5       DU_04        1       1.0      1   1.0      6.0  145.0           and   \n",
       "...       ...      ...       ...    ...   ...      ...    ...           ...   \n",
       "669949  tr_52       12      12.0     12   1.0      5.0  144.0         their   \n",
       "669950  tr_52       12      12.0     12   1.0      5.0  145.0  connectivity   \n",
       "669951  tr_52       12      12.0     12   1.0      5.0  146.0            in   \n",
       "669952  tr_52       12      12.0     12   1.0      5.0  147.0      personal   \n",
       "669953  tr_52       12      12.0     12   1.0      5.0  148.0        lives.   \n",
       "\n",
       "        blink  skip  nrun  reread  nfix  refix  reg.in  reg.out    dur  \\\n",
       "1         0.0   0.0   2.0     1.0   2.0    0.0     1.0      0.0  464.0   \n",
       "2         0.0   0.0   2.0     1.0   2.0    0.0     0.0      1.0  480.0   \n",
       "3         0.0   0.0   1.0     0.0   1.0    0.0     0.0      0.0  155.0   \n",
       "4         0.0   0.0   1.0     0.0   1.0    0.0     0.0      0.0  323.0   \n",
       "5         0.0   1.0   NaN     NaN   NaN    NaN     NaN      NaN    NaN   \n",
       "...       ...   ...   ...     ...   ...    ...     ...      ...    ...   \n",
       "669949    0.0   0.0   2.0     1.0   2.0    0.0     0.0      0.0  354.0   \n",
       "669950    0.0   0.0   3.0     1.0   4.0    1.0     1.0      1.0  872.0   \n",
       "669951    0.0   0.0   1.0     0.0   1.0    0.0     0.0      0.0  220.0   \n",
       "669952    0.0   0.0   2.0     1.0   4.0    1.0     0.0      1.0  661.0   \n",
       "669953    0.0   0.0   1.0     0.0   1.0    0.0     0.0      1.0    9.0   \n",
       "\n",
       "        firstrun.skip  firstrun.nfix  firstrun.refix  firstrun.reg.in  \\\n",
       "1                 1.0            1.0             0.0              1.0   \n",
       "2                 0.0            1.0             0.0              0.0   \n",
       "3                 0.0            1.0             0.0              0.0   \n",
       "4                 0.0            1.0             0.0              0.0   \n",
       "5                 1.0            NaN             NaN              NaN   \n",
       "...               ...            ...             ...              ...   \n",
       "669949            1.0            1.0             0.0              0.0   \n",
       "669950            1.0            1.0             0.0              0.0   \n",
       "669951            1.0            1.0             0.0              0.0   \n",
       "669952            1.0            1.0             0.0              0.0   \n",
       "669953            0.0            1.0             0.0              0.0   \n",
       "\n",
       "        firstrun.reg.out  firstrun.dur  firstrun.gopast  firstrun.gopast.sel  \\\n",
       "1                    0.0         278.0              0.0                  0.0   \n",
       "2                    1.0         164.0            944.0                480.0   \n",
       "3                    0.0         155.0            155.0                155.0   \n",
       "4                    0.0         323.0            323.0                323.0   \n",
       "5                    NaN           NaN              NaN                  NaN   \n",
       "...                  ...           ...              ...                  ...   \n",
       "669949               0.0         197.0              0.0                  0.0   \n",
       "669950               0.0         222.0              0.0                  0.0   \n",
       "669951               0.0         220.0              0.0                  0.0   \n",
       "669952               1.0         233.0              0.0                  0.0   \n",
       "669953               1.0           9.0          42632.0                  9.0   \n",
       "\n",
       "        firstfix.sac.in  firstfix.sac.out  firstfix.launch  firstfix.land  \\\n",
       "1                    -3                 3             -5.0            2.0   \n",
       "2                    11                -3              9.0            2.0   \n",
       "3                     6                 6              6.0            0.0   \n",
       "4                     6                10              3.0            3.0   \n",
       "5           -2147483648       -2147483648              NaN            NaN   \n",
       "...                 ...               ...              ...            ...   \n",
       "669949                9                 6              6.0            3.0   \n",
       "669950                6                13              3.0            3.0   \n",
       "669951                9                 5              9.0            0.0   \n",
       "669952               13               -11             13.0            0.0   \n",
       "669953                8                 1              2.0            6.0   \n",
       "\n",
       "        firstfix.cland  firstfix.dur  singlefix  singlefix.sac.in  \\\n",
       "1                  0.5         278.0        1.0                -3   \n",
       "2                 -0.5         164.0        1.0                11   \n",
       "3                 -1.5         155.0        1.0                 6   \n",
       "4                 -1.5         323.0        1.0                 6   \n",
       "5                  NaN           NaN        0.0       -2147483648   \n",
       "...                ...           ...        ...               ...   \n",
       "669949             0.0         197.0        1.0                 9   \n",
       "669950            -3.5         222.0        1.0                 6   \n",
       "669951            -1.5         220.0        1.0                 9   \n",
       "669952            -4.5         233.0        1.0                13   \n",
       "669953             2.5           9.0        1.0                 8   \n",
       "\n",
       "        singlefix.sac.out  singlefix.launch  singlefix.land  singlefix.cland  \\\n",
       "1                       3              -5.0             2.0              0.5   \n",
       "2                      -3               9.0             2.0             -0.5   \n",
       "3                       6               6.0             0.0             -1.5   \n",
       "4                      10               3.0             3.0             -1.5   \n",
       "5             -2147483648               NaN             NaN              NaN   \n",
       "...                   ...               ...             ...              ...   \n",
       "669949                  6               6.0             3.0              0.0   \n",
       "669950                 13               3.0             3.0             -3.5   \n",
       "669951                  5               9.0             0.0             -1.5   \n",
       "669952                -11              13.0             0.0             -4.5   \n",
       "669953                  1               2.0             6.0              2.5   \n",
       "\n",
       "        singlefix.dur lang trial uniform_id  \n",
       "1               278.0   du  None       du_4  \n",
       "2               164.0   du  None       du_4  \n",
       "3               155.0   du  None       du_4  \n",
       "4               323.0   du  None       du_4  \n",
       "5                 NaN   du  None       du_4  \n",
       "...               ...  ...   ...        ...  \n",
       "669949          197.0   tr  None      tr_52  \n",
       "669950          222.0   tr  None      tr_52  \n",
       "669951          220.0   tr  None      tr_52  \n",
       "669952          233.0   tr  None      tr_52  \n",
       "669953            9.0   tr  None      tr_52  \n",
       "\n",
       "[669953 rows x 41 columns]"
      ]
     },
     "execution_count": 3,
     "metadata": {},
     "output_type": "execute_result"
    }
   ],
   "source": [
    "df"
   ]
  },
  {
   "cell_type": "code",
   "execution_count": 4,
   "metadata": {},
   "outputs": [],
   "source": [
    "# total sentence reading time\n",
    "total_sentence_readtime = df.groupby(['subid', 'trialid', 'sentnum'])['dur'].sum().reset_index()\n",
    "total_sentence_readtime = total_sentence_readtime.rename(columns = {'dur':'total_dur'})\n",
    "df = df.merge(total_sentence_readtime, on = ['subid', 'trialid', 'sentnum'], how = 'left')"
   ]
  },
  {
   "cell_type": "markdown",
   "metadata": {},
   "source": [
    "### Bigrams"
   ]
  },
  {
   "cell_type": "code",
   "execution_count": 5,
   "metadata": {},
   "outputs": [],
   "source": [
    "pairs1 = np.arange(0, len(df))\n",
    "pairs1 = [val for val in pairs1 for _ in (0, 1)][:len(df)]\n",
    "\n",
    "pairs1[-1] = np.nan # bc not even, last num wo pair\n",
    "pairs2 = [np.nan] + pairs1[:-1]"
   ]
  },
  {
   "cell_type": "code",
   "execution_count": 6,
   "metadata": {},
   "outputs": [],
   "source": [
    "# add to df:\n",
    "df['bigram_index1'] = pairs1\n",
    "df['bigram_index2'] = pairs2"
   ]
  },
  {
   "cell_type": "code",
   "execution_count": 7,
   "metadata": {},
   "outputs": [],
   "source": [
    "bigrams1 = df.groupby('bigram_index1').agg({'ia' : lambda x: ' '.join(x),\n",
    "                                'firstfix.dur' : 'sum',\n",
    "                                'firstrun.gopast' : 'sum',\n",
    "                                'dur' : 'sum',\n",
    "                                'subid' : 'first',\n",
    "                                'total_dur' : 'mean',\n",
    "                                'lang': 'first'}).reset_index()\n",
    "\n",
    "bigrams2 = df.groupby('bigram_index2').agg({'ia' : lambda x: ' '.join(x),\n",
    "                                'firstfix.dur' : 'sum',\n",
    "                                'firstrun.gopast' : 'sum',\n",
    "                                'dur' : 'sum',\n",
    "                                'subid' : 'first',\n",
    "                                'total_dur' : 'mean',\n",
    "                                'lang': 'first'}).reset_index()                                 "
   ]
  },
  {
   "cell_type": "code",
   "execution_count": 8,
   "metadata": {},
   "outputs": [],
   "source": [
    "bigrams1  = bigrams1[~bigrams1['ia'].str.contains('.*[.].*[^.]')] # remove 19014 bigrams that are an end of sentence\n",
    "bigrams2  = bigrams2[~bigrams2['ia'].str.contains('.*[.].*[^.]')] "
   ]
  },
  {
   "cell_type": "code",
   "execution_count": 9,
   "metadata": {},
   "outputs": [],
   "source": [
    "bigrams = pd.concat([bigrams1, bigrams2]) \n",
    "bigrams = bigrams[['subid', 'firstfix.dur', 'firstrun.gopast', 'dur', 'total_dur', 'lang']] # 'ia'"
   ]
  },
  {
   "cell_type": "code",
   "execution_count": 10,
   "metadata": {},
   "outputs": [
    {
     "name": "stdout",
     "output_type": "stream",
     "text": [
      "Number of bigrams: 632225\n"
     ]
    }
   ],
   "source": [
    "print(f'Number of bigrams: {len(bigrams)}')"
   ]
  },
  {
   "cell_type": "markdown",
   "metadata": {},
   "source": [
    "### Trigrams"
   ]
  },
  {
   "cell_type": "code",
   "execution_count": 11,
   "metadata": {},
   "outputs": [],
   "source": [
    "triplets1 = np.arange(0, len(df))\n",
    "triplets1 = [val for val in triplets1 for _ in (0, 1, 2)] [:len(df)]"
   ]
  },
  {
   "cell_type": "code",
   "execution_count": 12,
   "metadata": {},
   "outputs": [],
   "source": [
    "# remove last 2:\n",
    "triplets1[-2] = np.nan\n",
    "triplets1[-1] = np.nan\n",
    "\n",
    "triplets2 = [np.nan] + triplets1[:-1] \n",
    "triplets3 = [np.nan, np.nan] + triplets1[:-2] "
   ]
  },
  {
   "cell_type": "code",
   "execution_count": 13,
   "metadata": {},
   "outputs": [],
   "source": [
    "# add to df:\n",
    "df['trigram_index1'] = triplets1\n",
    "df['trigram_index2'] = triplets2\n",
    "df['trigram_index3'] = triplets3"
   ]
  },
  {
   "cell_type": "code",
   "execution_count": 14,
   "metadata": {},
   "outputs": [],
   "source": [
    "trigrams1 = df.groupby('trigram_index1').agg({'ia' : lambda x: ' '.join(x),\n",
    "                                'firstfix.dur' : 'sum',\n",
    "                                'firstrun.gopast' : 'sum',\n",
    "                                'dur' : 'sum',\n",
    "                                'subid' : 'first',\n",
    "                                'total_dur' : 'mean',\n",
    "                                'lang': 'first'}).reset_index()\n",
    "\n",
    "trigrams2 = df.groupby('trigram_index2').agg({'ia' : lambda x: ' '.join(x),\n",
    "                                'firstfix.dur' : 'sum',\n",
    "                                'firstrun.gopast' : 'sum',\n",
    "                                'dur' : 'sum',\n",
    "                                'subid' : 'first',\n",
    "                                'total_dur' : 'mean',\n",
    "                                'lang': 'first'}).reset_index()    \n",
    "trigrams3 = df.groupby('trigram_index3').agg({'ia' : lambda x: ' '.join(x),\n",
    "                                'firstfix.dur' : 'sum',\n",
    "                                'firstrun.gopast' : 'sum',\n",
    "                                'dur' : 'sum',\n",
    "                                'subid' : 'first',\n",
    "                                'total_dur' : 'mean',\n",
    "                                'lang': 'first'}).reset_index()    "
   ]
  },
  {
   "cell_type": "code",
   "execution_count": 15,
   "metadata": {},
   "outputs": [],
   "source": [
    "trigrams1  = trigrams1[~trigrams1['ia'].str.contains('.*[.].*[^.]')]\n",
    "trigrams2  = trigrams2[~trigrams2['ia'].str.contains('.*[.].*[^.]')] \n",
    "trigrams3  = trigrams3[~trigrams3['ia'].str.contains('.*[.].*[^.]')] "
   ]
  },
  {
   "cell_type": "code",
   "execution_count": 16,
   "metadata": {},
   "outputs": [],
   "source": [
    "trigrams = pd.concat([trigrams1, trigrams2, trigrams3]) \n",
    "trigrams = trigrams[['subid', 'firstfix.dur', 'firstrun.gopast', 'dur', 'total_dur', 'lang']] # 'ia'"
   ]
  },
  {
   "cell_type": "code",
   "execution_count": 17,
   "metadata": {},
   "outputs": [
    {
     "name": "stdout",
     "output_type": "stream",
     "text": [
      "Number of trigrams: 595922\n"
     ]
    }
   ],
   "source": [
    "print(f'Number of trigrams: {len(trigrams)}')"
   ]
  },
  {
   "cell_type": "markdown",
   "metadata": {},
   "source": [
    "### Subset"
   ]
  },
  {
   "cell_type": "code",
   "execution_count": 29,
   "metadata": {},
   "outputs": [],
   "source": [
    "subset_features = ['subid', 'firstrun.gopast', 'firstfix.dur', 'dur', 'total_dur', 'lang'] # 'firstrun.gopast.sel'\n",
    "df_subset = df[subset_features]"
   ]
  },
  {
   "cell_type": "code",
   "execution_count": 30,
   "metadata": {},
   "outputs": [],
   "source": [
    "# concat with bigrams and trigrams\n",
    "df_subset = pd.concat([df_subset, bigrams, trigrams])"
   ]
  },
  {
   "cell_type": "code",
   "execution_count": 31,
   "metadata": {},
   "outputs": [
    {
     "data": {
      "text/html": [
       "<div>\n",
       "<style scoped>\n",
       "    .dataframe tbody tr th:only-of-type {\n",
       "        vertical-align: middle;\n",
       "    }\n",
       "\n",
       "    .dataframe tbody tr th {\n",
       "        vertical-align: top;\n",
       "    }\n",
       "\n",
       "    .dataframe thead th {\n",
       "        text-align: right;\n",
       "    }\n",
       "</style>\n",
       "<table border=\"1\" class=\"dataframe\">\n",
       "  <thead>\n",
       "    <tr style=\"text-align: right;\">\n",
       "      <th></th>\n",
       "      <th>subid</th>\n",
       "      <th>firstrun.gopast</th>\n",
       "      <th>firstfix.dur</th>\n",
       "      <th>dur</th>\n",
       "      <th>total_dur</th>\n",
       "      <th>lang</th>\n",
       "    </tr>\n",
       "  </thead>\n",
       "  <tbody>\n",
       "    <tr>\n",
       "      <th>0</th>\n",
       "      <td>DU_04</td>\n",
       "      <td>0.0</td>\n",
       "      <td>278.0</td>\n",
       "      <td>464.0</td>\n",
       "      <td>5486.0</td>\n",
       "      <td>du</td>\n",
       "    </tr>\n",
       "    <tr>\n",
       "      <th>1</th>\n",
       "      <td>DU_04</td>\n",
       "      <td>944.0</td>\n",
       "      <td>164.0</td>\n",
       "      <td>480.0</td>\n",
       "      <td>5486.0</td>\n",
       "      <td>du</td>\n",
       "    </tr>\n",
       "    <tr>\n",
       "      <th>2</th>\n",
       "      <td>DU_04</td>\n",
       "      <td>155.0</td>\n",
       "      <td>155.0</td>\n",
       "      <td>155.0</td>\n",
       "      <td>5486.0</td>\n",
       "      <td>du</td>\n",
       "    </tr>\n",
       "    <tr>\n",
       "      <th>3</th>\n",
       "      <td>DU_04</td>\n",
       "      <td>323.0</td>\n",
       "      <td>323.0</td>\n",
       "      <td>323.0</td>\n",
       "      <td>5486.0</td>\n",
       "      <td>du</td>\n",
       "    </tr>\n",
       "    <tr>\n",
       "      <th>4</th>\n",
       "      <td>DU_04</td>\n",
       "      <td>NaN</td>\n",
       "      <td>NaN</td>\n",
       "      <td>NaN</td>\n",
       "      <td>5486.0</td>\n",
       "      <td>du</td>\n",
       "    </tr>\n",
       "    <tr>\n",
       "      <th>...</th>\n",
       "      <td>...</td>\n",
       "      <td>...</td>\n",
       "      <td>...</td>\n",
       "      <td>...</td>\n",
       "      <td>...</td>\n",
       "      <td>...</td>\n",
       "    </tr>\n",
       "    <tr>\n",
       "      <th>223312</th>\n",
       "      <td>tr_52</td>\n",
       "      <td>0.0</td>\n",
       "      <td>560.0</td>\n",
       "      <td>1598.0</td>\n",
       "      <td>26247.0</td>\n",
       "      <td>tr</td>\n",
       "    </tr>\n",
       "    <tr>\n",
       "      <th>223313</th>\n",
       "      <td>tr_52</td>\n",
       "      <td>0.0</td>\n",
       "      <td>432.0</td>\n",
       "      <td>1810.0</td>\n",
       "      <td>26247.0</td>\n",
       "      <td>tr</td>\n",
       "    </tr>\n",
       "    <tr>\n",
       "      <th>223314</th>\n",
       "      <td>tr_52</td>\n",
       "      <td>0.0</td>\n",
       "      <td>766.0</td>\n",
       "      <td>2109.0</td>\n",
       "      <td>26247.0</td>\n",
       "      <td>tr</td>\n",
       "    </tr>\n",
       "    <tr>\n",
       "      <th>223315</th>\n",
       "      <td>tr_52</td>\n",
       "      <td>0.0</td>\n",
       "      <td>652.0</td>\n",
       "      <td>1459.0</td>\n",
       "      <td>26247.0</td>\n",
       "      <td>tr</td>\n",
       "    </tr>\n",
       "    <tr>\n",
       "      <th>223316</th>\n",
       "      <td>tr_52</td>\n",
       "      <td>42632.0</td>\n",
       "      <td>462.0</td>\n",
       "      <td>890.0</td>\n",
       "      <td>26247.0</td>\n",
       "      <td>tr</td>\n",
       "    </tr>\n",
       "  </tbody>\n",
       "</table>\n",
       "<p>1898100 rows × 6 columns</p>\n",
       "</div>"
      ],
      "text/plain": [
       "        subid  firstrun.gopast  firstfix.dur     dur  total_dur lang\n",
       "0       DU_04              0.0         278.0   464.0     5486.0   du\n",
       "1       DU_04            944.0         164.0   480.0     5486.0   du\n",
       "2       DU_04            155.0         155.0   155.0     5486.0   du\n",
       "3       DU_04            323.0         323.0   323.0     5486.0   du\n",
       "4       DU_04              NaN           NaN     NaN     5486.0   du\n",
       "...       ...              ...           ...     ...        ...  ...\n",
       "223312  tr_52              0.0         560.0  1598.0    26247.0   tr\n",
       "223313  tr_52              0.0         432.0  1810.0    26247.0   tr\n",
       "223314  tr_52              0.0         766.0  2109.0    26247.0   tr\n",
       "223315  tr_52              0.0         652.0  1459.0    26247.0   tr\n",
       "223316  tr_52          42632.0         462.0   890.0    26247.0   tr\n",
       "\n",
       "[1898100 rows x 6 columns]"
      ]
     },
     "execution_count": 31,
     "metadata": {},
     "output_type": "execute_result"
    }
   ],
   "source": [
    "df_subset"
   ]
  },
  {
   "cell_type": "code",
   "execution_count": 32,
   "metadata": {},
   "outputs": [
    {
     "data": {
      "text/plain": [
       "subid                   0\n",
       "firstrun.gopast    164910\n",
       "firstfix.dur       164910\n",
       "dur                153643\n",
       "total_dur               0\n",
       "lang                    0\n",
       "dtype: int64"
      ]
     },
     "execution_count": 32,
     "metadata": {},
     "output_type": "execute_result"
    }
   ],
   "source": [
    "# test and remove NaN\n",
    "df_subset.isna().sum()"
   ]
  },
  {
   "cell_type": "code",
   "execution_count": 33,
   "metadata": {},
   "outputs": [
    {
     "data": {
      "text/plain": [
       "subid              0\n",
       "firstrun.gopast    0\n",
       "firstfix.dur       0\n",
       "dur                0\n",
       "total_dur          0\n",
       "lang               0\n",
       "dtype: int64"
      ]
     },
     "execution_count": 33,
     "metadata": {},
     "output_type": "execute_result"
    }
   ],
   "source": [
    "df_subset = df_subset[~df_subset['firstfix.dur'].isna()]\n",
    "df_subset.isna().sum()"
   ]
  },
  {
   "cell_type": "code",
   "execution_count": 35,
   "metadata": {},
   "outputs": [],
   "source": [
    "# speed normalization\n",
    "df_subset['FF_norm'] = df_subset['firstrun.gopast'] / df_subset['total_dur'] \n",
    "df_subset['FP_norm'] = df_subset['firstfix.dur'] / df_subset['total_dur']\n",
    "df_subset['TF_norm'] = df_subset['dur'] / df_subset['total_dur']"
   ]
  },
  {
   "cell_type": "code",
   "execution_count": 38,
   "metadata": {},
   "outputs": [],
   "source": [
    "# hopefully no need after data quality chacks\n",
    "df_subset = df_subset[~df_subset['FF_norm'].isna()]"
   ]
  },
  {
   "cell_type": "code",
   "execution_count": 25,
   "metadata": {},
   "outputs": [],
   "source": [
    "# add word length?"
   ]
  },
  {
   "cell_type": "markdown",
   "metadata": {},
   "source": [
    "Add language:"
   ]
  },
  {
   "cell_type": "code",
   "execution_count": 39,
   "metadata": {},
   "outputs": [],
   "source": [
    "# encode language to num\n",
    "languages = df_subset['lang'].unique()\n",
    "len_languages = len(languages)\n",
    "language_lookup = dict(zip(languages, range(len_languages)))\n",
    "df_subset[\"lang_code\"] = df_subset['lang'].replace(language_lookup).values"
   ]
  },
  {
   "cell_type": "code",
   "execution_count": 40,
   "metadata": {},
   "outputs": [
    {
     "name": "stdout",
     "output_type": "stream",
     "text": [
      "Number unigrams: 669953\n",
      "Number bigrams: 632225\n",
      "Number trigrams: 595922\n",
      "Number of samples after removing 165857 NaNs: 1732243\n",
      "Languages:\n"
     ]
    },
    {
     "data": {
      "text/plain": [
       "ee    200255\n",
       "fi    190271\n",
       "en    174577\n",
       "it    161516\n",
       "ge    151280\n",
       "gr    140373\n",
       "ru    138264\n",
       "he    130689\n",
       "du    126104\n",
       "sp    125887\n",
       "no    125046\n",
       "tr     67981\n",
       "Name: lang, dtype: int64"
      ]
     },
     "execution_count": 40,
     "metadata": {},
     "output_type": "execute_result"
    }
   ],
   "source": [
    "print(f'Number unigrams: {len(df)}')\n",
    "print(f'Number bigrams: {len(bigrams)}')\n",
    "print(f'Number trigrams: {len(trigrams)}')\n",
    "print(f'Number of samples after removing { len(df) + len(bigrams) + len(trigrams) - len(df_subset)} NaNs: {len(df_subset)}')\n",
    "print('Languages:')\n",
    "df_subset['lang'].value_counts()"
   ]
  },
  {
   "cell_type": "code",
   "execution_count": 42,
   "metadata": {},
   "outputs": [],
   "source": [
    "train_subset = df_subset[['FF_norm', 'FP_norm', 'TF_norm']]\n",
    "train_label_subset = df_subset['lang_code']\n"
   ]
  },
  {
   "cell_type": "code",
   "execution_count": null,
   "metadata": {},
   "outputs": [],
   "source": [
    "# write train test and all into files to be used for other models"
   ]
  },
  {
   "cell_type": "markdown",
   "metadata": {},
   "source": [
    "## Logistic Regression"
   ]
  },
  {
   "cell_type": "code",
   "execution_count": 43,
   "metadata": {},
   "outputs": [],
   "source": [
    "#from sklearn.model_selection import train_test_split\n",
    "from sklearn.model_selection import GroupShuffleSplit\n",
    "from sklearn.linear_model import LogisticRegression\n"
   ]
  },
  {
   "cell_type": "code",
   "execution_count": 44,
   "metadata": {},
   "outputs": [],
   "source": [
    "# X_train, X_test, y_train, y_test = train_test_split(train_subset, train_label_subset, test_size=0.4, random_state=42)\n",
    "gss = GroupShuffleSplit(n_splits=1, test_size = 0.4, random_state=42)\n",
    "split_indexes = list(gss.split(train_subset, train_label_subset, df_subset['subid']))[0]\n",
    "train_idx = list(split_indexes[0])\n",
    "test_idx = list(split_indexes[1])\n",
    "\n",
    "X_train = train_subset.iloc[train_idx]\n",
    "y_train = train_label_subset.iloc[train_idx]\n",
    "X_test = train_subset.iloc[test_idx]\n",
    "y_test = train_label_subset.iloc[test_idx]"
   ]
  },
  {
   "cell_type": "code",
   "execution_count": 47,
   "metadata": {},
   "outputs": [],
   "source": [
    "logreg = LogisticRegression(C=1e5, multi_class='multinomial', solver='lbfgs',random_state=0)\n"
   ]
  },
  {
   "cell_type": "code",
   "execution_count": 48,
   "metadata": {},
   "outputs": [
    {
     "name": "stderr",
     "output_type": "stream",
     "text": [
      "/mnt/c/Users/linas/OneDrive/Documents/ITU/Semester3/NLP/NLP_project/ANLP_project/.venv/lib/python3.9/site-packages/sklearn/linear_model/_logistic.py:444: ConvergenceWarning: lbfgs failed to converge (status=1):\n",
      "STOP: TOTAL NO. of ITERATIONS REACHED LIMIT.\n",
      "\n",
      "Increase the number of iterations (max_iter) or scale the data as shown in:\n",
      "    https://scikit-learn.org/stable/modules/preprocessing.html\n",
      "Please also refer to the documentation for alternative solver options:\n",
      "    https://scikit-learn.org/stable/modules/linear_model.html#logistic-regression\n",
      "  n_iter_i = _check_optimize_result(\n"
     ]
    },
    {
     "data": {
      "text/html": [
       "<style>#sk-container-id-1 {color: black;background-color: white;}#sk-container-id-1 pre{padding: 0;}#sk-container-id-1 div.sk-toggleable {background-color: white;}#sk-container-id-1 label.sk-toggleable__label {cursor: pointer;display: block;width: 100%;margin-bottom: 0;padding: 0.3em;box-sizing: border-box;text-align: center;}#sk-container-id-1 label.sk-toggleable__label-arrow:before {content: \"▸\";float: left;margin-right: 0.25em;color: #696969;}#sk-container-id-1 label.sk-toggleable__label-arrow:hover:before {color: black;}#sk-container-id-1 div.sk-estimator:hover label.sk-toggleable__label-arrow:before {color: black;}#sk-container-id-1 div.sk-toggleable__content {max-height: 0;max-width: 0;overflow: hidden;text-align: left;background-color: #f0f8ff;}#sk-container-id-1 div.sk-toggleable__content pre {margin: 0.2em;color: black;border-radius: 0.25em;background-color: #f0f8ff;}#sk-container-id-1 input.sk-toggleable__control:checked~div.sk-toggleable__content {max-height: 200px;max-width: 100%;overflow: auto;}#sk-container-id-1 input.sk-toggleable__control:checked~label.sk-toggleable__label-arrow:before {content: \"▾\";}#sk-container-id-1 div.sk-estimator input.sk-toggleable__control:checked~label.sk-toggleable__label {background-color: #d4ebff;}#sk-container-id-1 div.sk-label input.sk-toggleable__control:checked~label.sk-toggleable__label {background-color: #d4ebff;}#sk-container-id-1 input.sk-hidden--visually {border: 0;clip: rect(1px 1px 1px 1px);clip: rect(1px, 1px, 1px, 1px);height: 1px;margin: -1px;overflow: hidden;padding: 0;position: absolute;width: 1px;}#sk-container-id-1 div.sk-estimator {font-family: monospace;background-color: #f0f8ff;border: 1px dotted black;border-radius: 0.25em;box-sizing: border-box;margin-bottom: 0.5em;}#sk-container-id-1 div.sk-estimator:hover {background-color: #d4ebff;}#sk-container-id-1 div.sk-parallel-item::after {content: \"\";width: 100%;border-bottom: 1px solid gray;flex-grow: 1;}#sk-container-id-1 div.sk-label:hover label.sk-toggleable__label {background-color: #d4ebff;}#sk-container-id-1 div.sk-serial::before {content: \"\";position: absolute;border-left: 1px solid gray;box-sizing: border-box;top: 0;bottom: 0;left: 50%;z-index: 0;}#sk-container-id-1 div.sk-serial {display: flex;flex-direction: column;align-items: center;background-color: white;padding-right: 0.2em;padding-left: 0.2em;position: relative;}#sk-container-id-1 div.sk-item {position: relative;z-index: 1;}#sk-container-id-1 div.sk-parallel {display: flex;align-items: stretch;justify-content: center;background-color: white;position: relative;}#sk-container-id-1 div.sk-item::before, #sk-container-id-1 div.sk-parallel-item::before {content: \"\";position: absolute;border-left: 1px solid gray;box-sizing: border-box;top: 0;bottom: 0;left: 50%;z-index: -1;}#sk-container-id-1 div.sk-parallel-item {display: flex;flex-direction: column;z-index: 1;position: relative;background-color: white;}#sk-container-id-1 div.sk-parallel-item:first-child::after {align-self: flex-end;width: 50%;}#sk-container-id-1 div.sk-parallel-item:last-child::after {align-self: flex-start;width: 50%;}#sk-container-id-1 div.sk-parallel-item:only-child::after {width: 0;}#sk-container-id-1 div.sk-dashed-wrapped {border: 1px dashed gray;margin: 0 0.4em 0.5em 0.4em;box-sizing: border-box;padding-bottom: 0.4em;background-color: white;}#sk-container-id-1 div.sk-label label {font-family: monospace;font-weight: bold;display: inline-block;line-height: 1.2em;}#sk-container-id-1 div.sk-label-container {text-align: center;}#sk-container-id-1 div.sk-container {/* jupyter's `normalize.less` sets `[hidden] { display: none; }` but bootstrap.min.css set `[hidden] { display: none !important; }` so we also need the `!important` here to be able to override the default hidden behavior on the sphinx rendered scikit-learn.org. See: https://github.com/scikit-learn/scikit-learn/issues/21755 */display: inline-block !important;position: relative;}#sk-container-id-1 div.sk-text-repr-fallback {display: none;}</style><div id=\"sk-container-id-1\" class=\"sk-top-container\"><div class=\"sk-text-repr-fallback\"><pre>LogisticRegression(C=100000.0, multi_class=&#x27;multinomial&#x27;, random_state=0)</pre><b>In a Jupyter environment, please rerun this cell to show the HTML representation or trust the notebook. <br />On GitHub, the HTML representation is unable to render, please try loading this page with nbviewer.org.</b></div><div class=\"sk-container\" hidden><div class=\"sk-item\"><div class=\"sk-estimator sk-toggleable\"><input class=\"sk-toggleable__control sk-hidden--visually\" id=\"sk-estimator-id-1\" type=\"checkbox\" checked><label for=\"sk-estimator-id-1\" class=\"sk-toggleable__label sk-toggleable__label-arrow\">LogisticRegression</label><div class=\"sk-toggleable__content\"><pre>LogisticRegression(C=100000.0, multi_class=&#x27;multinomial&#x27;, random_state=0)</pre></div></div></div></div></div>"
      ],
      "text/plain": [
       "LogisticRegression(C=100000.0, multi_class='multinomial', random_state=0)"
      ]
     },
     "execution_count": 48,
     "metadata": {},
     "output_type": "execute_result"
    }
   ],
   "source": [
    "logreg.fit(X_train, y_train)"
   ]
  },
  {
   "cell_type": "markdown",
   "metadata": {},
   "source": [
    "NLIR predictions"
   ]
  },
  {
   "cell_type": "code",
   "execution_count": 49,
   "metadata": {},
   "outputs": [],
   "source": [
    "y_pred = logreg.predict(X_test)"
   ]
  },
  {
   "cell_type": "code",
   "execution_count": 50,
   "metadata": {},
   "outputs": [
    {
     "name": "stdout",
     "output_type": "stream",
     "text": [
      "Test Accuracy Score 0.12052646325731264\n"
     ]
    }
   ],
   "source": [
    "score = logreg.score(X_test, y_test)\n",
    "print('Test Accuracy Score', score)\n",
    "# get other metrics as well, maybe store and analyze output?"
   ]
  },
  {
   "cell_type": "code",
   "execution_count": 53,
   "metadata": {},
   "outputs": [],
   "source": [
    "# write predictions\n",
    "np.savetxt(r\"../data/outputs/NLIR_predictions_logreg.csv\", y_pred, delimiter=\",\")"
   ]
  },
  {
   "cell_type": "markdown",
   "metadata": {},
   "source": [
    "Similarity"
   ]
  },
  {
   "cell_type": "code",
   "execution_count": null,
   "metadata": {},
   "outputs": [],
   "source": [
    "X_train[X_train['']]"
   ]
  },
  {
   "cell_type": "code",
   "execution_count": null,
   "metadata": {},
   "outputs": [],
   "source": [
    "# predict proba for each language:\n",
    "ee_pred_proba = logreg.predict_proba(df_ee)"
   ]
  },
  {
   "cell_type": "code",
   "execution_count": 22,
   "metadata": {},
   "outputs": [],
   "source": [
    "# on same data as training or need different data?\n",
    "#score = logreg.score()\n",
    "# X - put spanish\n",
    "# y - put portuguese and see how high the accuracy? or see how often predicted portuguese?\n",
    "\n",
    "# chech distribution of languages\n",
    "\n",
    "df_ee = df_trimmed_subset[df_trimmed_subset['lang'] == 'ee'][['dur',\t'firstfix.dur', 'firstrun.gopast', 'firstrun.gopast.sel']]"
   ]
  },
  {
   "cell_type": "code",
   "execution_count": 24,
   "metadata": {},
   "outputs": [],
   "source": [
    "ee_pred = logreg.predict(df_ee)"
   ]
  },
  {
   "cell_type": "code",
   "execution_count": 25,
   "metadata": {},
   "outputs": [
    {
     "data": {
      "text/plain": [
       "array([2, 2, 2, ..., 2, 2, 2])"
      ]
     },
     "execution_count": 25,
     "metadata": {},
     "output_type": "execute_result"
    }
   ],
   "source": [
    "ee_pred"
   ]
  },
  {
   "cell_type": "code",
   "execution_count": 27,
   "metadata": {},
   "outputs": [],
   "source": [
    "ee_pred_proba = logreg.predict_proba(df_ee)"
   ]
  },
  {
   "cell_type": "code",
   "execution_count": 28,
   "metadata": {},
   "outputs": [
    {
     "data": {
      "text/plain": [
       "array([[0.096776  , 0.11772189, 0.15392191, ..., 0.08233315, 0.1066041 ,\n",
       "        0.0772802 ],\n",
       "       [0.09603384, 0.12930991, 0.21665535, ..., 0.08425541, 0.0913363 ,\n",
       "        0.05291382],\n",
       "       [0.09634088, 0.12864527, 0.21252203, ..., 0.08483744, 0.09175976,\n",
       "        0.05398756],\n",
       "       ...,\n",
       "       [0.08820179, 0.1387837 , 0.30259088, ..., 0.07223031, 0.08167252,\n",
       "        0.03545213],\n",
       "       [0.01983035, 0.06884775, 0.74530811, ..., 0.04027117, 0.0164402 ,\n",
       "        0.00284141],\n",
       "       [0.06551666, 0.10812636, 0.27632102, ..., 0.09728103, 0.0681094 ,\n",
       "        0.03748308]])"
      ]
     },
     "execution_count": 28,
     "metadata": {},
     "output_type": "execute_result"
    }
   ],
   "source": [
    "ee_pred_proba"
   ]
  },
  {
   "cell_type": "code",
   "execution_count": null,
   "metadata": {},
   "outputs": [],
   "source": []
  },
  {
   "cell_type": "code",
   "execution_count": null,
   "metadata": {},
   "outputs": [],
   "source": []
  },
  {
   "cell_type": "code",
   "execution_count": null,
   "metadata": {},
   "outputs": [],
   "source": []
  }
 ],
 "metadata": {
  "kernelspec": {
   "display_name": "Python 3.9.14 ('.venv': poetry)",
   "language": "python",
   "name": "python3"
  },
  "language_info": {
   "codemirror_mode": {
    "name": "ipython",
    "version": 3
   },
   "file_extension": ".py",
   "mimetype": "text/x-python",
   "name": "python",
   "nbconvert_exporter": "python",
   "pygments_lexer": "ipython3",
   "version": "3.9.14"
  },
  "orig_nbformat": 4,
  "vscode": {
   "interpreter": {
    "hash": "36e1fa312ac715c21bb59b9e6c10d6a9544a6eb8fd53fcf02705de1881480231"
   }
  }
 },
 "nbformat": 4,
 "nbformat_minor": 2
}
